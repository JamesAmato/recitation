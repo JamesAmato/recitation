{
 "cells": [
  {
   "cell_type": "markdown",
   "id": "17215173",
   "metadata": {},
   "source": [
    "Goals:\n",
    "- Set up Python and Jupyter\n",
    "    - Show Colab\n",
    "    - Show VS Code\n",
    "    - Show miniconda\n",
    "    - Set up conda environment\n",
    "- Get data\n",
    "    - UCI, pick regression task\n",
    "    - Put data on GitHub\n",
    "    - Show how to access data in Colab\n",
    "- Load data\n",
    "    - Load with numpy\n",
    "    - Load with pandas\n",
    "- Show data\n",
    "    - Matplotlib\n",
    "    - Pick a couple features\n",
    "- Regression\n",
    "    - Derive gradient\n",
    "    - Gradient descent"
   ]
  },
  {
   "cell_type": "markdown",
   "id": "001bcef1",
   "metadata": {},
   "source": [
    "# Set up Python & Jupyter"
   ]
  },
  {
   "cell_type": "markdown",
   "id": "9e2e631a",
   "metadata": {},
   "source": [
    "### Google Colab: \n",
    "- runs on the cloud\n",
    "- has most popular libraries\n",
    "- has good support for widgets (better for data visualization)\n",
    "- [https://colab.research.google.com](https://colab.research.google.com)\n",
    "- cell magic and shell commands for advanced control (installing other things, [etc.](https://colab.research.google.com/github/jakevdp/PythonDataScienceHandbook/blob/master/notebooks/01.05-IPython-And-Shell-Commands.ipynb#scrollTo=WclyQSP7cvmP))"
   ]
  },
  {
   "cell_type": "markdown",
   "id": "d5538c93",
   "metadata": {},
   "source": [
    "### VSCode: \n",
    "- runs on the local system (though it can run remotely)\n",
    "- better for larger projects with multiple Python modules\n",
    "- I manage the environment\n",
    "- [https://code.visualstudio.com/](https://code.visualstudio.com/)"
   ]
  },
  {
   "cell_type": "markdown",
   "id": "8e24970e",
   "metadata": {},
   "source": [
    "### Miniconda\n",
    "- Set up Python environments without messing with your system environment\n",
    "- No need for it's larger sibling, conda\n",
    "- [https://www.anaconda.com/docs/getting-started/miniconda/main](https://www.anaconda.com/docs/getting-started/miniconda/main)"
   ]
  },
  {
   "cell_type": "markdown",
   "id": "a46fdc87",
   "metadata": {},
   "source": [
    "### Set up an environment\n",
    "- Terminal\n",
    "- (ahead of time) `conda deactivate && clear`\n",
    "- `conda create -n recitation python=3.12 jupyter numpy pandas matplotlib`\n",
    "- `conda activate recitation`\n",
    "- Getting stuff for an environment into a text file: `conda env export > env.yaml`\n",
    "- Removing an environment: `conda env remove -n recitation`"
   ]
  },
  {
   "cell_type": "markdown",
   "id": "83ebbc8a",
   "metadata": {},
   "source": [
    "# Get Data"
   ]
  },
  {
   "cell_type": "markdown",
   "id": "8f87ad57",
   "metadata": {},
   "source": [
    "### UCI's Machine Learning Repository: \n",
    "- [https://archive.ics.uci.edu](https://archive.ics.uci.edu)\n",
    "- View datasets\n",
    "- Find a dataset for regression that looks fun\n",
    "    - Task: Regression\n",
    "    - Data type: Multivariate\n",
    "- Download"
   ]
  },
  {
   "cell_type": "markdown",
   "id": "a4ac47a0",
   "metadata": {},
   "source": [
    "### Put data on GitHub\n",
    "- [https://github.com](https://github.com)\n",
    "- Create repository (empty)\n",
    "- Copy repo URL\n",
    "- VS Code terminal `cd ~/Developer`\n",
    "- `git clone <repo URL>`\n",
    "- Open in VS Code\n",
    "- Into the repo, put: this notebook, the README.md, and the data folders\n",
    "    - Notebooks are optional. I recommend using Colab, but will set up both here.\n",
    "- Get data on GitHub\n",
    "    - `cd new repo`\n",
    "    - `git branch -M main`\n",
    "    - `git add .`\n",
    "    - `git commit -m \"Initial commit\"`\n",
    "    - `git push -u origin main`\n",
    "    - Publish branch\n",
    "- View data on GitHub"
   ]
  },
  {
   "cell_type": "markdown",
   "id": "26f8b2c4",
   "metadata": {},
   "source": [
    "### Data in Colab\n",
    "- In a code cell: `!wget <URL>` (from raw link)\n",
    "- Browser\n",
    "    - Open data in side panel\n",
    "- Edit cell:\n",
    "```\n",
    "%%capture\n",
    "!wget <URL>\n",
    "```\n",
    "- New cell:\n",
    "```\n",
    "from pathlib import Path\n",
    "DATA_PATH = \"imports-85.data\"\n",
    "Path(DATA_PATH).exists()\n",
    "```"
   ]
  },
  {
   "cell_type": "markdown",
   "id": "9f9e260c",
   "metadata": {},
   "source": [
    "# Load Data"
   ]
  },
  {
   "cell_type": "code",
   "execution_count": 1,
   "id": "3ad397b5",
   "metadata": {},
   "outputs": [
    {
     "data": {
      "text/plain": [
       "True"
      ]
     },
     "execution_count": 1,
     "metadata": {},
     "output_type": "execute_result"
    }
   ],
   "source": [
    "# Check existence of data\n",
    "from pathlib import Path\n",
    "DATA_PATH = \"automobile/imports-85.data\"\n",
    "Path(DATA_PATH).exists()"
   ]
  },
  {
   "cell_type": "markdown",
   "id": "b63ee563",
   "metadata": {},
   "source": [
    "### Numpy"
   ]
  },
  {
   "cell_type": "code",
   "execution_count": 2,
   "id": "ab58a2ac",
   "metadata": {},
   "outputs": [],
   "source": [
    "import numpy as np"
   ]
  },
  {
   "cell_type": "code",
   "execution_count": 3,
   "id": "19aa9292",
   "metadata": {},
   "outputs": [
    {
     "name": "stdout",
     "output_type": "stream",
     "text": [
      "could not convert string '3,?,alfa-romero,gas,std,two,convertible,rwd,front,88.60,168.80,64.10,48.80,2548,dohc,four,130,mpfi, to float64 at row 0, column 1.\n"
     ]
    }
   ],
   "source": [
    "# This causes an error:\n",
    "# np.loadtxt(DATA_PATH)  # I suggested tidying up notebooks and not leaving error traces.\n",
    "\n",
    "# In the rare case it is worthwhile, the following is a convenient and tidy way to\n",
    "#   leave an error in a notebook for grading.\n",
    "try:\n",
    "    np.loadtxt(DATA_PATH)\n",
    "except ValueError as e:\n",
    "    print(f\"{e}\")"
   ]
  },
  {
   "cell_type": "code",
   "execution_count": 4,
   "id": "2d4bc3f4",
   "metadata": {},
   "outputs": [],
   "source": [
    "data = np.genfromtxt(DATA_PATH, delimiter=',', missing_values='?')"
   ]
  },
  {
   "cell_type": "code",
   "execution_count": 5,
   "id": "ed9bae8b",
   "metadata": {},
   "outputs": [
    {
     "data": {
      "text/plain": [
       "array([[ 3.0000e+00,         nan,         nan, ...,  2.1000e+01,\n",
       "         2.7000e+01,  1.3495e+04],\n",
       "       [ 3.0000e+00,         nan,         nan, ...,  2.1000e+01,\n",
       "         2.7000e+01,  1.6500e+04],\n",
       "       [ 1.0000e+00,         nan,         nan, ...,  1.9000e+01,\n",
       "         2.6000e+01,  1.6500e+04],\n",
       "       ...,\n",
       "       [-1.0000e+00,  9.5000e+01,         nan, ...,  1.8000e+01,\n",
       "         2.3000e+01,  2.1485e+04],\n",
       "       [-1.0000e+00,  9.5000e+01,         nan, ...,  2.6000e+01,\n",
       "         2.7000e+01,  2.2470e+04],\n",
       "       [-1.0000e+00,  9.5000e+01,         nan, ...,  1.9000e+01,\n",
       "         2.5000e+01,  2.2625e+04]], shape=(205, 26))"
      ]
     },
     "execution_count": 5,
     "metadata": {},
     "output_type": "execute_result"
    }
   ],
   "source": [
    "data"
   ]
  },
  {
   "cell_type": "code",
   "execution_count": 6,
   "id": "45ae577c",
   "metadata": {},
   "outputs": [
    {
     "data": {
      "text/plain": [
       "array([3.0000e+00,        nan,        nan,        nan,        nan,\n",
       "              nan,        nan,        nan,        nan, 8.8600e+01,\n",
       "       1.6880e+02, 6.4100e+01, 4.8800e+01, 2.5480e+03,        nan,\n",
       "              nan, 1.3000e+02,        nan, 3.4700e+00, 2.6800e+00,\n",
       "       9.0000e+00, 1.1100e+02, 5.0000e+03, 2.1000e+01, 2.7000e+01,\n",
       "       1.3495e+04])"
      ]
     },
     "execution_count": 6,
     "metadata": {},
     "output_type": "execute_result"
    }
   ],
   "source": [
    "data[0]"
   ]
  },
  {
   "cell_type": "code",
   "execution_count": 7,
   "id": "b3567448",
   "metadata": {},
   "outputs": [
    {
     "data": {
      "text/plain": [
       "array([3.0000e+00,        nan,        nan,        nan,        nan,\n",
       "              nan,        nan,        nan,        nan, 8.8600e+01,\n",
       "       1.6880e+02, 6.4100e+01, 4.8800e+01, 2.5480e+03,        nan,\n",
       "              nan, 1.3000e+02,        nan, 3.4700e+00, 2.6800e+00,\n",
       "       9.0000e+00, 1.1100e+02, 5.0000e+03, 2.1000e+01, 2.7000e+01,\n",
       "       1.3495e+04])"
      ]
     },
     "execution_count": 7,
     "metadata": {},
     "output_type": "execute_result"
    }
   ],
   "source": [
    "data[0, :]"
   ]
  },
  {
   "cell_type": "code",
   "execution_count": 8,
   "id": "21b1cc87",
   "metadata": {},
   "outputs": [
    {
     "data": {
      "text/plain": [
       "array([ 3.,  3.,  1.,  2.,  2.,  2.,  1.,  1.,  1.,  0.,  2.,  0.,  0.,\n",
       "        0.,  1.,  0.,  0.,  0.,  2.,  1.,  0.,  1.,  1.,  1.,  1.,  1.,\n",
       "        1.,  1., -1.,  3.,  2.,  2.,  1.,  1.,  1.,  0.,  0.,  0.,  0.,\n",
       "        0.,  0.,  0.,  1.,  0.,  1.,  0.,  2.,  0.,  0.,  0.,  1.,  1.,\n",
       "        1.,  1.,  1.,  3.,  3.,  3.,  3.,  1.,  0.,  1.,  0.,  0.,  0.,\n",
       "        0.,  0., -1., -1.,  0., -1., -1.,  3.,  0.,  1.,  1.,  2.,  2.,\n",
       "        2.,  1.,  3.,  3.,  3.,  3.,  3.,  1.,  1.,  1., -1.,  1.,  1.,\n",
       "        1.,  1.,  1.,  1.,  1.,  1.,  1.,  2.,  0.,  0.,  0.,  0.,  0.,\n",
       "        3.,  3.,  1.,  0.,  0.,  0.,  0.,  0.,  0.,  0.,  0.,  0.,  0.,\n",
       "        0.,  1.,  1.,  1.,  1.,  1., -1.,  3.,  3.,  3.,  3.,  3.,  1.,\n",
       "        0.,  2.,  3.,  2.,  3.,  2.,  3.,  2.,  2.,  2.,  2.,  0.,  0.,\n",
       "        0.,  0.,  0.,  0.,  0.,  0.,  0.,  1.,  1.,  1.,  0.,  0.,  0.,\n",
       "        0.,  0.,  0.,  0.,  0.,  0.,  0.,  1.,  1.,  1.,  1.,  2.,  2.,\n",
       "        2.,  2.,  2.,  2., -1., -1., -1., -1., -1.,  3.,  3., -1., -1.,\n",
       "        2.,  2.,  2.,  2.,  2.,  2.,  2.,  3.,  3.,  0.,  0.,  0., -2.,\n",
       "       -1., -2., -1., -2., -1., -1., -1., -1., -1., -1.])"
      ]
     },
     "execution_count": 8,
     "metadata": {},
     "output_type": "execute_result"
    }
   ],
   "source": [
    "data[:, 0]"
   ]
  },
  {
   "cell_type": "markdown",
   "id": "31112655",
   "metadata": {},
   "source": [
    "Because of the \"?\" and the nan's, I suggest a more powerful data structure using Pandas."
   ]
  },
  {
   "cell_type": "markdown",
   "id": "4b76e296",
   "metadata": {},
   "source": [
    "### Pandas"
   ]
  },
  {
   "cell_type": "code",
   "execution_count": 9,
   "id": "7e7d8825",
   "metadata": {},
   "outputs": [],
   "source": [
    "import pandas as pd"
   ]
  },
  {
   "cell_type": "code",
   "execution_count": 10,
   "id": "30c4bbf7",
   "metadata": {},
   "outputs": [],
   "source": [
    "df = pd.read_csv(DATA_PATH, header=None, na_values='?')"
   ]
  },
  {
   "cell_type": "code",
   "execution_count": 11,
   "id": "f8e1ab95",
   "metadata": {},
   "outputs": [
    {
     "data": {
      "text/html": [
       "<div>\n",
       "<style scoped>\n",
       "    .dataframe tbody tr th:only-of-type {\n",
       "        vertical-align: middle;\n",
       "    }\n",
       "\n",
       "    .dataframe tbody tr th {\n",
       "        vertical-align: top;\n",
       "    }\n",
       "\n",
       "    .dataframe thead th {\n",
       "        text-align: right;\n",
       "    }\n",
       "</style>\n",
       "<table border=\"1\" class=\"dataframe\">\n",
       "  <thead>\n",
       "    <tr style=\"text-align: right;\">\n",
       "      <th></th>\n",
       "      <th>0</th>\n",
       "      <th>1</th>\n",
       "      <th>2</th>\n",
       "      <th>3</th>\n",
       "      <th>4</th>\n",
       "      <th>5</th>\n",
       "      <th>6</th>\n",
       "      <th>7</th>\n",
       "      <th>8</th>\n",
       "      <th>9</th>\n",
       "      <th>...</th>\n",
       "      <th>16</th>\n",
       "      <th>17</th>\n",
       "      <th>18</th>\n",
       "      <th>19</th>\n",
       "      <th>20</th>\n",
       "      <th>21</th>\n",
       "      <th>22</th>\n",
       "      <th>23</th>\n",
       "      <th>24</th>\n",
       "      <th>25</th>\n",
       "    </tr>\n",
       "  </thead>\n",
       "  <tbody>\n",
       "    <tr>\n",
       "      <th>0</th>\n",
       "      <td>3</td>\n",
       "      <td>NaN</td>\n",
       "      <td>alfa-romero</td>\n",
       "      <td>gas</td>\n",
       "      <td>std</td>\n",
       "      <td>two</td>\n",
       "      <td>convertible</td>\n",
       "      <td>rwd</td>\n",
       "      <td>front</td>\n",
       "      <td>88.6</td>\n",
       "      <td>...</td>\n",
       "      <td>130</td>\n",
       "      <td>mpfi</td>\n",
       "      <td>3.47</td>\n",
       "      <td>2.68</td>\n",
       "      <td>9.0</td>\n",
       "      <td>111.0</td>\n",
       "      <td>5000.0</td>\n",
       "      <td>21</td>\n",
       "      <td>27</td>\n",
       "      <td>13495.0</td>\n",
       "    </tr>\n",
       "    <tr>\n",
       "      <th>1</th>\n",
       "      <td>3</td>\n",
       "      <td>NaN</td>\n",
       "      <td>alfa-romero</td>\n",
       "      <td>gas</td>\n",
       "      <td>std</td>\n",
       "      <td>two</td>\n",
       "      <td>convertible</td>\n",
       "      <td>rwd</td>\n",
       "      <td>front</td>\n",
       "      <td>88.6</td>\n",
       "      <td>...</td>\n",
       "      <td>130</td>\n",
       "      <td>mpfi</td>\n",
       "      <td>3.47</td>\n",
       "      <td>2.68</td>\n",
       "      <td>9.0</td>\n",
       "      <td>111.0</td>\n",
       "      <td>5000.0</td>\n",
       "      <td>21</td>\n",
       "      <td>27</td>\n",
       "      <td>16500.0</td>\n",
       "    </tr>\n",
       "    <tr>\n",
       "      <th>2</th>\n",
       "      <td>1</td>\n",
       "      <td>NaN</td>\n",
       "      <td>alfa-romero</td>\n",
       "      <td>gas</td>\n",
       "      <td>std</td>\n",
       "      <td>two</td>\n",
       "      <td>hatchback</td>\n",
       "      <td>rwd</td>\n",
       "      <td>front</td>\n",
       "      <td>94.5</td>\n",
       "      <td>...</td>\n",
       "      <td>152</td>\n",
       "      <td>mpfi</td>\n",
       "      <td>2.68</td>\n",
       "      <td>3.47</td>\n",
       "      <td>9.0</td>\n",
       "      <td>154.0</td>\n",
       "      <td>5000.0</td>\n",
       "      <td>19</td>\n",
       "      <td>26</td>\n",
       "      <td>16500.0</td>\n",
       "    </tr>\n",
       "    <tr>\n",
       "      <th>3</th>\n",
       "      <td>2</td>\n",
       "      <td>164.0</td>\n",
       "      <td>audi</td>\n",
       "      <td>gas</td>\n",
       "      <td>std</td>\n",
       "      <td>four</td>\n",
       "      <td>sedan</td>\n",
       "      <td>fwd</td>\n",
       "      <td>front</td>\n",
       "      <td>99.8</td>\n",
       "      <td>...</td>\n",
       "      <td>109</td>\n",
       "      <td>mpfi</td>\n",
       "      <td>3.19</td>\n",
       "      <td>3.40</td>\n",
       "      <td>10.0</td>\n",
       "      <td>102.0</td>\n",
       "      <td>5500.0</td>\n",
       "      <td>24</td>\n",
       "      <td>30</td>\n",
       "      <td>13950.0</td>\n",
       "    </tr>\n",
       "    <tr>\n",
       "      <th>4</th>\n",
       "      <td>2</td>\n",
       "      <td>164.0</td>\n",
       "      <td>audi</td>\n",
       "      <td>gas</td>\n",
       "      <td>std</td>\n",
       "      <td>four</td>\n",
       "      <td>sedan</td>\n",
       "      <td>4wd</td>\n",
       "      <td>front</td>\n",
       "      <td>99.4</td>\n",
       "      <td>...</td>\n",
       "      <td>136</td>\n",
       "      <td>mpfi</td>\n",
       "      <td>3.19</td>\n",
       "      <td>3.40</td>\n",
       "      <td>8.0</td>\n",
       "      <td>115.0</td>\n",
       "      <td>5500.0</td>\n",
       "      <td>18</td>\n",
       "      <td>22</td>\n",
       "      <td>17450.0</td>\n",
       "    </tr>\n",
       "    <tr>\n",
       "      <th>...</th>\n",
       "      <td>...</td>\n",
       "      <td>...</td>\n",
       "      <td>...</td>\n",
       "      <td>...</td>\n",
       "      <td>...</td>\n",
       "      <td>...</td>\n",
       "      <td>...</td>\n",
       "      <td>...</td>\n",
       "      <td>...</td>\n",
       "      <td>...</td>\n",
       "      <td>...</td>\n",
       "      <td>...</td>\n",
       "      <td>...</td>\n",
       "      <td>...</td>\n",
       "      <td>...</td>\n",
       "      <td>...</td>\n",
       "      <td>...</td>\n",
       "      <td>...</td>\n",
       "      <td>...</td>\n",
       "      <td>...</td>\n",
       "      <td>...</td>\n",
       "    </tr>\n",
       "    <tr>\n",
       "      <th>200</th>\n",
       "      <td>-1</td>\n",
       "      <td>95.0</td>\n",
       "      <td>volvo</td>\n",
       "      <td>gas</td>\n",
       "      <td>std</td>\n",
       "      <td>four</td>\n",
       "      <td>sedan</td>\n",
       "      <td>rwd</td>\n",
       "      <td>front</td>\n",
       "      <td>109.1</td>\n",
       "      <td>...</td>\n",
       "      <td>141</td>\n",
       "      <td>mpfi</td>\n",
       "      <td>3.78</td>\n",
       "      <td>3.15</td>\n",
       "      <td>9.5</td>\n",
       "      <td>114.0</td>\n",
       "      <td>5400.0</td>\n",
       "      <td>23</td>\n",
       "      <td>28</td>\n",
       "      <td>16845.0</td>\n",
       "    </tr>\n",
       "    <tr>\n",
       "      <th>201</th>\n",
       "      <td>-1</td>\n",
       "      <td>95.0</td>\n",
       "      <td>volvo</td>\n",
       "      <td>gas</td>\n",
       "      <td>turbo</td>\n",
       "      <td>four</td>\n",
       "      <td>sedan</td>\n",
       "      <td>rwd</td>\n",
       "      <td>front</td>\n",
       "      <td>109.1</td>\n",
       "      <td>...</td>\n",
       "      <td>141</td>\n",
       "      <td>mpfi</td>\n",
       "      <td>3.78</td>\n",
       "      <td>3.15</td>\n",
       "      <td>8.7</td>\n",
       "      <td>160.0</td>\n",
       "      <td>5300.0</td>\n",
       "      <td>19</td>\n",
       "      <td>25</td>\n",
       "      <td>19045.0</td>\n",
       "    </tr>\n",
       "    <tr>\n",
       "      <th>202</th>\n",
       "      <td>-1</td>\n",
       "      <td>95.0</td>\n",
       "      <td>volvo</td>\n",
       "      <td>gas</td>\n",
       "      <td>std</td>\n",
       "      <td>four</td>\n",
       "      <td>sedan</td>\n",
       "      <td>rwd</td>\n",
       "      <td>front</td>\n",
       "      <td>109.1</td>\n",
       "      <td>...</td>\n",
       "      <td>173</td>\n",
       "      <td>mpfi</td>\n",
       "      <td>3.58</td>\n",
       "      <td>2.87</td>\n",
       "      <td>8.8</td>\n",
       "      <td>134.0</td>\n",
       "      <td>5500.0</td>\n",
       "      <td>18</td>\n",
       "      <td>23</td>\n",
       "      <td>21485.0</td>\n",
       "    </tr>\n",
       "    <tr>\n",
       "      <th>203</th>\n",
       "      <td>-1</td>\n",
       "      <td>95.0</td>\n",
       "      <td>volvo</td>\n",
       "      <td>diesel</td>\n",
       "      <td>turbo</td>\n",
       "      <td>four</td>\n",
       "      <td>sedan</td>\n",
       "      <td>rwd</td>\n",
       "      <td>front</td>\n",
       "      <td>109.1</td>\n",
       "      <td>...</td>\n",
       "      <td>145</td>\n",
       "      <td>idi</td>\n",
       "      <td>3.01</td>\n",
       "      <td>3.40</td>\n",
       "      <td>23.0</td>\n",
       "      <td>106.0</td>\n",
       "      <td>4800.0</td>\n",
       "      <td>26</td>\n",
       "      <td>27</td>\n",
       "      <td>22470.0</td>\n",
       "    </tr>\n",
       "    <tr>\n",
       "      <th>204</th>\n",
       "      <td>-1</td>\n",
       "      <td>95.0</td>\n",
       "      <td>volvo</td>\n",
       "      <td>gas</td>\n",
       "      <td>turbo</td>\n",
       "      <td>four</td>\n",
       "      <td>sedan</td>\n",
       "      <td>rwd</td>\n",
       "      <td>front</td>\n",
       "      <td>109.1</td>\n",
       "      <td>...</td>\n",
       "      <td>141</td>\n",
       "      <td>mpfi</td>\n",
       "      <td>3.78</td>\n",
       "      <td>3.15</td>\n",
       "      <td>9.5</td>\n",
       "      <td>114.0</td>\n",
       "      <td>5400.0</td>\n",
       "      <td>19</td>\n",
       "      <td>25</td>\n",
       "      <td>22625.0</td>\n",
       "    </tr>\n",
       "  </tbody>\n",
       "</table>\n",
       "<p>205 rows × 26 columns</p>\n",
       "</div>"
      ],
      "text/plain": [
       "     0      1            2       3      4     5            6    7      8   \\\n",
       "0     3    NaN  alfa-romero     gas    std   two  convertible  rwd  front   \n",
       "1     3    NaN  alfa-romero     gas    std   two  convertible  rwd  front   \n",
       "2     1    NaN  alfa-romero     gas    std   two    hatchback  rwd  front   \n",
       "3     2  164.0         audi     gas    std  four        sedan  fwd  front   \n",
       "4     2  164.0         audi     gas    std  four        sedan  4wd  front   \n",
       "..   ..    ...          ...     ...    ...   ...          ...  ...    ...   \n",
       "200  -1   95.0        volvo     gas    std  four        sedan  rwd  front   \n",
       "201  -1   95.0        volvo     gas  turbo  four        sedan  rwd  front   \n",
       "202  -1   95.0        volvo     gas    std  four        sedan  rwd  front   \n",
       "203  -1   95.0        volvo  diesel  turbo  four        sedan  rwd  front   \n",
       "204  -1   95.0        volvo     gas  turbo  four        sedan  rwd  front   \n",
       "\n",
       "        9   ...   16    17    18    19    20     21      22  23  24       25  \n",
       "0     88.6  ...  130  mpfi  3.47  2.68   9.0  111.0  5000.0  21  27  13495.0  \n",
       "1     88.6  ...  130  mpfi  3.47  2.68   9.0  111.0  5000.0  21  27  16500.0  \n",
       "2     94.5  ...  152  mpfi  2.68  3.47   9.0  154.0  5000.0  19  26  16500.0  \n",
       "3     99.8  ...  109  mpfi  3.19  3.40  10.0  102.0  5500.0  24  30  13950.0  \n",
       "4     99.4  ...  136  mpfi  3.19  3.40   8.0  115.0  5500.0  18  22  17450.0  \n",
       "..     ...  ...  ...   ...   ...   ...   ...    ...     ...  ..  ..      ...  \n",
       "200  109.1  ...  141  mpfi  3.78  3.15   9.5  114.0  5400.0  23  28  16845.0  \n",
       "201  109.1  ...  141  mpfi  3.78  3.15   8.7  160.0  5300.0  19  25  19045.0  \n",
       "202  109.1  ...  173  mpfi  3.58  2.87   8.8  134.0  5500.0  18  23  21485.0  \n",
       "203  109.1  ...  145   idi  3.01  3.40  23.0  106.0  4800.0  26  27  22470.0  \n",
       "204  109.1  ...  141  mpfi  3.78  3.15   9.5  114.0  5400.0  19  25  22625.0  \n",
       "\n",
       "[205 rows x 26 columns]"
      ]
     },
     "execution_count": 11,
     "metadata": {},
     "output_type": "execute_result"
    }
   ],
   "source": [
    "df"
   ]
  },
  {
   "cell_type": "markdown",
   "id": "028d0aba",
   "metadata": {},
   "source": [
    "Select just a few columns to work with. These were chosen because they're easier to understand and use for regression:\n",
    "- Engine size (16) \n",
    "- City mpg (23)\n",
    "- Highway mpg (24)\n",
    "- Price (25)"
   ]
  },
  {
   "cell_type": "code",
   "execution_count": 12,
   "id": "e50e5c08",
   "metadata": {},
   "outputs": [
    {
     "data": {
      "text/html": [
       "<div>\n",
       "<style scoped>\n",
       "    .dataframe tbody tr th:only-of-type {\n",
       "        vertical-align: middle;\n",
       "    }\n",
       "\n",
       "    .dataframe tbody tr th {\n",
       "        vertical-align: top;\n",
       "    }\n",
       "\n",
       "    .dataframe thead th {\n",
       "        text-align: right;\n",
       "    }\n",
       "</style>\n",
       "<table border=\"1\" class=\"dataframe\">\n",
       "  <thead>\n",
       "    <tr style=\"text-align: right;\">\n",
       "      <th></th>\n",
       "      <th>wt</th>\n",
       "      <th>city-mpg</th>\n",
       "      <th>hwy-mpg</th>\n",
       "      <th>price</th>\n",
       "    </tr>\n",
       "  </thead>\n",
       "  <tbody>\n",
       "    <tr>\n",
       "      <th>0</th>\n",
       "      <td>130</td>\n",
       "      <td>21</td>\n",
       "      <td>27</td>\n",
       "      <td>13495.0</td>\n",
       "    </tr>\n",
       "    <tr>\n",
       "      <th>1</th>\n",
       "      <td>130</td>\n",
       "      <td>21</td>\n",
       "      <td>27</td>\n",
       "      <td>16500.0</td>\n",
       "    </tr>\n",
       "    <tr>\n",
       "      <th>2</th>\n",
       "      <td>152</td>\n",
       "      <td>19</td>\n",
       "      <td>26</td>\n",
       "      <td>16500.0</td>\n",
       "    </tr>\n",
       "    <tr>\n",
       "      <th>3</th>\n",
       "      <td>109</td>\n",
       "      <td>24</td>\n",
       "      <td>30</td>\n",
       "      <td>13950.0</td>\n",
       "    </tr>\n",
       "    <tr>\n",
       "      <th>4</th>\n",
       "      <td>136</td>\n",
       "      <td>18</td>\n",
       "      <td>22</td>\n",
       "      <td>17450.0</td>\n",
       "    </tr>\n",
       "    <tr>\n",
       "      <th>...</th>\n",
       "      <td>...</td>\n",
       "      <td>...</td>\n",
       "      <td>...</td>\n",
       "      <td>...</td>\n",
       "    </tr>\n",
       "    <tr>\n",
       "      <th>200</th>\n",
       "      <td>141</td>\n",
       "      <td>23</td>\n",
       "      <td>28</td>\n",
       "      <td>16845.0</td>\n",
       "    </tr>\n",
       "    <tr>\n",
       "      <th>201</th>\n",
       "      <td>141</td>\n",
       "      <td>19</td>\n",
       "      <td>25</td>\n",
       "      <td>19045.0</td>\n",
       "    </tr>\n",
       "    <tr>\n",
       "      <th>202</th>\n",
       "      <td>173</td>\n",
       "      <td>18</td>\n",
       "      <td>23</td>\n",
       "      <td>21485.0</td>\n",
       "    </tr>\n",
       "    <tr>\n",
       "      <th>203</th>\n",
       "      <td>145</td>\n",
       "      <td>26</td>\n",
       "      <td>27</td>\n",
       "      <td>22470.0</td>\n",
       "    </tr>\n",
       "    <tr>\n",
       "      <th>204</th>\n",
       "      <td>141</td>\n",
       "      <td>19</td>\n",
       "      <td>25</td>\n",
       "      <td>22625.0</td>\n",
       "    </tr>\n",
       "  </tbody>\n",
       "</table>\n",
       "<p>205 rows × 4 columns</p>\n",
       "</div>"
      ],
      "text/plain": [
       "      wt  city-mpg  hwy-mpg    price\n",
       "0    130        21       27  13495.0\n",
       "1    130        21       27  16500.0\n",
       "2    152        19       26  16500.0\n",
       "3    109        24       30  13950.0\n",
       "4    136        18       22  17450.0\n",
       "..   ...       ...      ...      ...\n",
       "200  141        23       28  16845.0\n",
       "201  141        19       25  19045.0\n",
       "202  173        18       23  21485.0\n",
       "203  145        26       27  22470.0\n",
       "204  141        19       25  22625.0\n",
       "\n",
       "[205 rows x 4 columns]"
      ]
     },
     "execution_count": 12,
     "metadata": {},
     "output_type": "execute_result"
    }
   ],
   "source": [
    "data = df.iloc[:, [16, 23, 24, 25]]\n",
    "data.columns = [\"wt\", \"city-mpg\", \"hwy-mpg\", \"price\"]  # Oops! Apparently I gave the wrong name to the engine size, calling it \"wt\"\n",
    "data"
   ]
  },
  {
   "cell_type": "markdown",
   "id": "3dd38dec",
   "metadata": {},
   "source": [
    "# Viewing data"
   ]
  },
  {
   "cell_type": "code",
   "execution_count": 13,
   "id": "6837edcc",
   "metadata": {},
   "outputs": [],
   "source": [
    "import matplotlib.pyplot as plt"
   ]
  },
  {
   "cell_type": "markdown",
   "id": "7c671652",
   "metadata": {},
   "source": [
    "Pick a pair of features"
   ]
  },
  {
   "cell_type": "code",
   "execution_count": 14,
   "id": "d406823c",
   "metadata": {},
   "outputs": [
    {
     "data": {
      "text/plain": [
       "Text(0.5, 0, 'City MPG')"
      ]
     },
     "execution_count": 14,
     "metadata": {},
     "output_type": "execute_result"
    },
    {
     "data": {
      "image/png": "[encoded data removed]",
      "text/plain": [
       "<Figure size 640x480 with 1 Axes>"
      ]
     },
     "metadata": {},
     "output_type": "display_data"
    }
   ],
   "source": [
    "x_label = \"wt\"\n",
    "y_label = \"price\"\n",
    "\n",
    "x_label = \"city-mpg\"\n",
    "y_label = \"hwy-mpg\"\n",
    "plt.scatter(data[x_label], data[y_label])\n",
    "plt.ylabel(\"Highway MPG\")\n",
    "plt.xlabel(\"City MPG\")"
   ]
  },
  {
   "cell_type": "markdown",
   "id": "5952ba16",
   "metadata": {},
   "source": [
    "# Regression"
   ]
  },
  {
   "cell_type": "markdown",
   "id": "08642252",
   "metadata": {},
   "source": [
    "Dr. Ruozzi discussed linear regression in lecture. "
   ]
  },
  {
   "cell_type": "markdown",
   "id": "a633c3a9",
   "metadata": {},
   "source": [
    "What's the goal of supervised learning? (Slide 10)"
   ]
  },
  {
   "cell_type": "markdown",
   "id": "d09f02f7",
   "metadata": {},
   "source": [
    "What hypothesis space do we use for linear regression? (Slide 13)"
   ]
  },
  {
   "cell_type": "markdown",
   "id": "ebe8534a",
   "metadata": {},
   "source": [
    "What's a loss function? Which loss function is suggested? (Slide 16)"
   ]
  },
  {
   "cell_type": "markdown",
   "id": "f80356f7",
   "metadata": {},
   "source": [
    "How do we use a loss function? (Slide 16)"
   ]
  },
  {
   "cell_type": "markdown",
   "id": "62f11a82",
   "metadata": {},
   "source": [
    "What's an alternative to an exact solution? (Slide 21)"
   ]
  },
  {
   "cell_type": "markdown",
   "id": "3cd265d3",
   "metadata": {},
   "source": [
    "Dr. Ruozzi discussed linear regression in lecture. The hypothesis space for linear regression is $$f(x) = ax + b$$\n",
    "\n",
    "We're going to predict some $\\hat{y} = f(x)$ and we want $\\hat{y}$ to be as close to $y$ for each data point as we can make it. To do this, we'll use a simple loss function: \n",
    "$$L(f) = \\frac{1}{M} \\sum_m(\\hat{y}^{(m)} - y^{(m)})^2$$\n",
    "\n",
    "If we let $\\hat{y} = f(x)$, our loss function is now $$L(f) = \\frac{1}{M}\\sum_m(ax^{(m)} + b - y^{(m)})^2$$\n",
    "\n",
    "We want the best model, with the best values for $a$ and $b$. This happens when we minimize the loss function $$\\min_{a,b}\\frac{1}{M}\\sum_m (ax^{(m)} + b - y^{(m)})^2$$\n",
    "\n",
    "Instead of finding the exact solution, we can work our way there using gradient descent. We define $\\theta=(a,b)$ and iterate until convergence: $$\\theta_{t+1} = \\theta_t - \\gamma_t \\nabla J(\\theta_t)$$\n"
   ]
  },
  {
   "cell_type": "markdown",
   "id": "c6054e56",
   "metadata": {},
   "source": [
    "## From Theory to Practicality"
   ]
  },
  {
   "cell_type": "markdown",
   "id": "04258a21",
   "metadata": {},
   "source": [
    "How do we use that alternative?\n",
    "\n",
    "Discussion followed on the board and can be put here. Reach out and remind me if you're looking for it!"
   ]
  },
  {
   "cell_type": "markdown",
   "id": "c16a5071",
   "metadata": {},
   "source": [
    "Implement it!"
   ]
  },
  {
   "cell_type": "code",
   "execution_count": 15,
   "id": "ff65ed3c",
   "metadata": {},
   "outputs": [],
   "source": [
    "# Our data\n",
    "x = data[x_label]\n",
    "y = data[y_label]"
   ]
  },
  {
   "cell_type": "code",
   "execution_count": 16,
   "id": "565004f5",
   "metadata": {},
   "outputs": [],
   "source": [
    "# Define gradients as functions of (a, b, x, y)\n",
    "M = data.shape[0]\n",
    "\n",
    "def grad_a(a, b, x, y):\n",
    "    return 2 / M * np.sum(x * (a * x + b - y))\n",
    "\n",
    "def grad_b(a, b, x, y):\n",
    "    return 2 / M * np.sum(a * x + b - y)"
   ]
  },
  {
   "cell_type": "markdown",
   "id": "73a5fdc8",
   "metadata": {},
   "source": [
    "The next cell defines hyperparameters. We discussed setting them and picked some random values."
   ]
  },
  {
   "cell_type": "code",
   "execution_count": 17,
   "id": "e9c7e032",
   "metadata": {},
   "outputs": [],
   "source": [
    "# Define hyperparameters (learning rate, initial theta)\n",
    "GAMMA = 2e-4      # learning rate\n",
    "Theta_0 = (2, 2)  # (a, b)"
   ]
  },
  {
   "cell_type": "markdown",
   "id": "903fcc34",
   "metadata": {},
   "source": [
    "We initially tried running with learning rate of $2\\times 10^{-2}$, \"training\" for 20 steps. When we checked `theta_s`, we saw that the parameters were wildly large.\n",
    "\n",
    "We then changed to $2\\times 10^{-10}$. The parameters barely budged.\n",
    "\n",
    "We then changed to $2\\times 10^{-5}$. The parameters changed and could have been reasonable, so we moved on and plotted them.\n",
    "\n",
    "After plotting, we tried $\\gamma = 2\\times 10^{-4}$. This seemed to be a good fit. We increased the number of steps to 2000 and saw no improvement, so we considered this good enough."
   ]
  },
  {
   "cell_type": "code",
   "execution_count": 18,
   "id": "2ce27062",
   "metadata": {},
   "outputs": [],
   "source": [
    "# Implement training loop\n",
    "theta_s =[Theta_0]\n",
    "for _ in range(2000):  # In hindsight, this 2000 \n",
    "    a, b = theta_s[-1]\n",
    "    a_new = a - GAMMA * grad_a(a,b,x,y)\n",
    "    b_new = b - GAMMA * grad_b(a,b,x,y)\n",
    "    theta_s.append((a_new, b_new))"
   ]
  },
  {
   "cell_type": "code",
   "execution_count": 19,
   "id": "d1a1c28a",
   "metadata": {},
   "outputs": [],
   "source": [
    "# theta_s  # Originally, we checked the parameters to look for instability and lack of movement."
   ]
  },
  {
   "cell_type": "markdown",
   "id": "daa099db",
   "metadata": {},
   "source": [
    "Having trained a model, we could then infer results. We \"generate some test data\" for seeing the line predicted by the model."
   ]
  },
  {
   "cell_type": "code",
   "execution_count": 20,
   "id": "6b84225a",
   "metadata": {},
   "outputs": [],
   "source": [
    "# Get final model\n",
    "a_final, b_final = theta_s[-1]\n",
    "\n",
    "# Apply model to even intervals of x\n",
    "pred_x = np.linspace(x.min(), x.max(), 10)\n",
    "pred_y = a_final * pred_x + b_final"
   ]
  },
  {
   "cell_type": "markdown",
   "id": "abb5b180",
   "metadata": {},
   "source": [
    "We showed the results:"
   ]
  },
  {
   "cell_type": "code",
   "execution_count": 21,
   "id": "b24e34ce",
   "metadata": {},
   "outputs": [
    {
     "data": {
      "text/plain": [
       "Text(0.5, 1.0, 'Highway MPG from City MPG')"
      ]
     },
     "execution_count": 21,
     "metadata": {},
     "output_type": "execute_result"
    },
    {
     "data": {
      "image/png": "[encoded data removed]",
      "text/plain": [
       "<Figure size 640x480 with 1 Axes>"
      ]
     },
     "metadata": {},
     "output_type": "display_data"
    }
   ],
   "source": [
    "# Show result\n",
    "plt.scatter(data[x_label], data[y_label], label=\"True\")\n",
    "plt.plot(pred_x, pred_y, color='red', label=\"Prediction\")\n",
    "plt.ylabel(\"Highway MPG\")\n",
    "plt.xlabel(\"City MPG\")\n",
    "plt.legend()\n",
    "plt.title(\"Highway MPG from City MPG\")"
   ]
  }
 ],
 "metadata": {
  "kernelspec": {
   "display_name": "recitation",
   "language": "python",
   "name": "python3"
  },
  "language_info": {
   "codemirror_mode": {
    "name": "ipython",
    "version": 3
   },
   "file_extension": ".py",
   "mimetype": "text/x-python",
   "name": "python",
   "nbconvert_exporter": "python",
   "pygments_lexer": "ipython3",
   "version": "3.12.11"
  }
 },
 "nbformat": 4,
 "nbformat_minor": 5
}
