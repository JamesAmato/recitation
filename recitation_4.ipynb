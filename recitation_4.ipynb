{
 "cells": [
  {
   "cell_type": "markdown",
   "id": "05c7f825",
   "metadata": {},
   "source": [
    "I'm expecting questions about SVM's and using CVXOPT."
   ]
  },
  {
   "cell_type": "markdown",
   "id": "90ad0c41",
   "metadata": {},
   "source": [
    "## Training/test split example"
   ]
  },
  {
   "cell_type": "code",
   "execution_count": 1,
   "id": "4d171d0c",
   "metadata": {},
   "outputs": [],
   "source": [
    "import numpy as np"
   ]
  },
  {
   "cell_type": "code",
   "execution_count": 2,
   "id": "2b6c2e0f",
   "metadata": {},
   "outputs": [
    {
     "data": {
      "text/plain": [
       "(array([ 2,  9,  8, 18,  5, 15]),\n",
       " array([ 0,  1,  3,  4,  6,  7, 10, 11, 12, 13, 14, 16, 17, 19]))"
      ]
     },
     "execution_count": 2,
     "metadata": {},
     "output_type": "execute_result"
    }
   ],
   "source": [
    "n_data = 20\n",
    "np.random.seed(42)\n",
    "data = np.random.uniform(low=-10, high=10, size=n_data)\n",
    "pos = data>0\n",
    "neg = data<0\n",
    "test_pos = np.random.choice(np.where(pos)[0], size=3, replace=False)\n",
    "test_neg = np.random.choice(np.where(neg)[0], size=3, replace=False)\n",
    "test_idcs = np.hstack([test_pos, test_neg])\n",
    "train_idcs = np.setdiff1d(np.arange(len(data)), test_idcs)\n",
    "\n",
    "test_idcs, train_idcs"
   ]
  }
 ],
 "metadata": {
  "kernelspec": {
   "display_name": "recitation",
   "language": "python",
   "name": "python3"
  },
  "language_info": {
   "codemirror_mode": {
    "name": "ipython",
    "version": 3
   },
   "file_extension": ".py",
   "mimetype": "text/x-python",
   "name": "python",
   "nbconvert_exporter": "python",
   "pygments_lexer": "ipython3",
   "version": "3.12.11"
  }
 },
 "nbformat": 4,
 "nbformat_minor": 5
}
