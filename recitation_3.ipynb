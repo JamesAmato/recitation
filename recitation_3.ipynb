{
 "cells": [
  {
   "cell_type": "markdown",
   "id": "d7a855ee",
   "metadata": {},
   "source": [
    "Goal:\n",
    "- Demonstrate SVM with Gaussian Kernel\n",
    "\n",
    "Subgoals:\n",
    "- Find (and show) dataset\n",
    "- Derive formulae needed\n",
    "- Illustrate how classification can be done with Scikit-Learn (not valid for homework, but great for checking answers!)"
   ]
  },
  {
   "cell_type": "markdown",
   "id": "3f0122a6",
   "metadata": {},
   "source": [
    "We're going to use Scikit-Learn and Seaborn, so I need to install those.\n",
    "```\n",
    "conda install -c conda-forge scikit-learn seaborn\n",
    "```"
   ]
  },
  {
   "cell_type": "code",
   "execution_count": 1,
   "id": "d3f030f7",
   "metadata": {},
   "outputs": [],
   "source": [
    "import numpy as np\n",
    "import pandas as pd\n",
    "import seaborn as sns\n",
    "import matplotlib.pyplot as plt"
   ]
  },
  {
   "cell_type": "markdown",
   "id": "7ce5814d",
   "metadata": {},
   "source": [
    "# Dataset Exploration"
   ]
  },
  {
   "cell_type": "markdown",
   "id": "affb9ec8",
   "metadata": {},
   "source": [
    "### Iris Dataset"
   ]
  },
  {
   "cell_type": "markdown",
   "id": "0ee50c3b",
   "metadata": {},
   "source": [
    "First: the [classic Iris](https://archive.ics.uci.edu/dataset/53/iris) dataset. I've already downloaded it and included it in the repository. It's got four features and a class variable. I'll first load the data, then generate a confusion plot."
   ]
  },
  {
   "cell_type": "code",
   "execution_count": null,
   "id": "d88dfd70",
   "metadata": {},
   "outputs": [],
   "source": [
    "df = pd.read_csv(\"iris/iris.data\", \n",
    "                 header=None,\n",
    "                 names=[\"sepal_length\", \"sepal_width\", \"petal_length\", \"petal_width\", \"class\"])  # From iris.names\n",
    "\n",
    "g = sns.pairplot(\n",
    "    df,\n",
    "    hue=\"class\",\n",
    "    corner=True,\n",
    "    plot_kws=dict(s=12, linewidth=0, alpha=0.65)\n",
    ")\n",
    "\n",
    "g._legend.set_bbox_to_anchor((0.75,0.75))  # Move legend in\n",
    "\n",
    "g.figure.set_dpi(60)  # Change to 300 for recitation\n",
    "plt.show();"
   ]
  },
  {
   "cell_type": "markdown",
   "id": "afbb46bb",
   "metadata": {},
   "source": [
    "Since the iris-setosa seems to be pretty different, we'll just consider the iris-versicolor and the iris-virginica."
   ]
  },
  {
   "cell_type": "markdown",
   "id": "6b6fa34d",
   "metadata": {},
   "source": [
    "### BCWD Dataset"
   ]
  },
  {
   "cell_type": "markdown",
   "id": "4f46d497",
   "metadata": {},
   "source": [
    "We'll look at the [classic Breast Cancer Wisconsin](https://archive.ics.uci.edu/dataset/17/breast+cancer+wisconsin+diagnostic) dataset. I've already downloaded it and included it in the repository. It's got 30 features and a boolean class variable (B or M for Malignant or Benign). I'll first load the data, then generate a confusion plot.\n",
    "\n",
    "I've downloaded it, but since found that [scikit-learn already has the data](https://scikit-learn.org/stable/modules/generated/sklearn.datasets.load_breast_cancer.html). "
   ]
  },
  {
   "cell_type": "code",
   "execution_count": null,
   "id": "84e4888e",
   "metadata": {},
   "outputs": [],
   "source": [
    "df = pd.read_csv(\"breast_cancer_wisconsin_diagnostic/wdbc.data\", \n",
    "                 header=None)"
   ]
  },
  {
   "cell_type": "code",
   "execution_count": null,
   "id": "28c233e0",
   "metadata": {},
   "outputs": [],
   "source": [
    "from sklearn.datasets import load_breast_cancer\n",
    "ds = load_breast_cancer(as_frame=True)\n",
    "df = ds.frame\n",
    "\n",
    "df[\"class\"] = df[\"target\"].map({0: \"Malignant\", 1: \"Benign\"})\n",
    "\n",
    "cols = [c for c in df.columns if c not in [\"target\", \"class\"]]\n",
    "mean_cols  = [c for c in cols if c.startswith(\"mean \")]\n",
    "plot_cols = mean_cols  # Just plot the \"mean columns\" (See wdbc.data)\n",
    "\n",
    "g = sns.pairplot(\n",
    "    df[plot_cols + [\"class\"]],\n",
    "    hue=\"class\",\n",
    "    corner=True,\n",
    "    diag_kind=\"kde\",\n",
    "    plot_kws=dict(s=14, alpha=0.50, linewidth=0)\n",
    ")\n",
    "\n",
    "g.figure.set_dpi(60)  # Change to 300 for recitation\n",
    "g._legend.set_bbox_to_anchor((0.75,0.75))\n",
    "\n",
    "plt.show()"
   ]
  },
  {
   "cell_type": "markdown",
   "id": "36c6bec8",
   "metadata": {},
   "source": [
    "### Wine Dataset"
   ]
  },
  {
   "cell_type": "markdown",
   "id": "d0cf9c14",
   "metadata": {},
   "source": [
    "Load using sklearn"
   ]
  },
  {
   "cell_type": "code",
   "execution_count": null,
   "id": "2f3a5eb9",
   "metadata": {},
   "outputs": [],
   "source": [
    "from sklearn.datasets import load_wine\n",
    "\n",
    "ds = load_wine(as_frame=True)\n",
    "df = ds.frame.copy()\n",
    "\n",
    "# Map numeric target -> readable class names\n",
    "df[\"class\"] = df[\"target\"].map(dict(enumerate(ds.target_names)))  # class_0, class_1, class_2\n",
    "\n",
    "plot_cols = ds.feature_names  # 13 features\n",
    "\n",
    "g = sns.pairplot(\n",
    "    df[plot_cols + [\"class\"]],\n",
    "    hue=\"class\",\n",
    "    corner=True,\n",
    "    diag_kind=\"kde\",\n",
    "    plot_kws=dict(s=14, alpha=0.50, linewidth=0)\n",
    ")\n",
    "\n",
    "g.figure.set_dpi(60)\n",
    "if g._legend is not None:\n",
    "    g._legend.set_loc(\"upper left\")\n",
    "    g._legend.set_bbox_to_anchor((0.75, 0.75))\n",
    "\n",
    "plt.show()\n"
   ]
  },
  {
   "cell_type": "markdown",
   "id": "63a50db9",
   "metadata": {},
   "source": [
    "### Seeds Dataset"
   ]
  },
  {
   "cell_type": "markdown",
   "id": "d46a6d64",
   "metadata": {},
   "source": [
    "Loading directly from URL using Pandas (I didn't know this was possible!)"
   ]
  },
  {
   "cell_type": "code",
   "execution_count": null,
   "id": "161cb683",
   "metadata": {},
   "outputs": [],
   "source": [
    "url = \"https://archive.ics.uci.edu/ml/machine-learning-databases/00236/seeds_dataset.txt\"\n",
    "cols = [\n",
    "    \"area\", \"perimeter\", \"compactness\", \"kernel_length\", \"kernel_width\",\n",
    "    \"asymmetry\", \"groove_length\", \"class_id\"\n",
    "]\n",
    "df = pd.read_csv(url, sep=r\"\\s+\", header=None, names=cols)\n",
    "\n",
    "# Map 1/2/3 -> cultivar names from the dataset description\n",
    "df[\"class\"] = df[\"class_id\"].map({1: \"Kama\", 2: \"Rosa\", 3: \"Canadian\"})\n",
    "plot_cols = cols[:-1]  # the 7 numeric features\n",
    "\n",
    "g = sns.pairplot(\n",
    "    df[plot_cols + [\"class\"]],\n",
    "    hue=\"class\",\n",
    "    corner=True,\n",
    "    diag_kind=\"kde\",\n",
    "    plot_kws=dict(s=14, alpha=0.50, linewidth=0)\n",
    ")\n",
    "\n",
    "g.figure.set_dpi(60)\n",
    "if g._legend is not None:\n",
    "    g._legend.set_loc(\"upper left\")\n",
    "    g._legend.set_bbox_to_anchor((0.75, 0.75))\n",
    "\n",
    "plt.show()"
   ]
  },
  {
   "cell_type": "markdown",
   "id": "6f4274c4",
   "metadata": {},
   "source": [
    "# Picking a dataset"
   ]
  },
  {
   "cell_type": "markdown",
   "id": "0a2d725a",
   "metadata": {},
   "source": [
    "I'm leaning towards the seeds dataset, and looking at asymmetry vs perimeter for Kama vs others"
   ]
  },
  {
   "cell_type": "code",
   "execution_count": 13,
   "id": "3c4f2d61",
   "metadata": {},
   "outputs": [
    {
     "data": {
      "image/png": "[encoded data removed]",
      "text/plain": [
       "<Figure size 384x288 with 1 Axes>"
      ]
     },
     "metadata": {},
     "output_type": "display_data"
    }
   ],
   "source": [
    "import pandas as pd\n",
    "import seaborn as sns\n",
    "import matplotlib.pyplot as plt\n",
    "\n",
    "url = \"https://archive.ics.uci.edu/ml/machine-learning-databases/00236/seeds_dataset.txt\"\n",
    "cols = [\n",
    "    \"area\", \"perimeter\", \"compactness\", \"kernel_length\", \"kernel_width\",\n",
    "    \"asymmetry\", \"groove_length\", \"class_id\"\n",
    "]\n",
    "df = pd.read_csv(url, sep=r\"\\s+\", header=None, names=cols)\n",
    "\n",
    "x1 = df[\"asymmetry\"].to_numpy(dtype=float)\n",
    "x2 = df[\"perimeter\"].to_numpy(dtype=float)\n",
    "\n",
    "# Labels; We want either \"is Kama\" or otherwise\n",
    "target = (df[\"class_id\"].to_numpy() == 1)\n",
    "\n",
    "fig = plt.figure(dpi=60)\n",
    "ax = fig.add_subplot(111)\n",
    "ax.scatter(x1[target],  x2[target],  s=16, alpha=0.8, label=\"Kama\")\n",
    "ax.scatter(x1[~target], x2[~target], s=16, alpha=0.8, label=\"Other\")\n",
    "\n",
    "ax.set_xlabel(\"asymmetry\")\n",
    "ax.set_ylabel(\"perimeter\")\n",
    "ax.set_title(\"Seeds: asymmetry vs perimeter (Kama vs Other)\")\n",
    "ax.legend(loc=\"upper right\", title=\"Seed class\")\n",
    "plt.tight_layout()\n",
    "plt.show()"
   ]
  },
  {
   "cell_type": "markdown",
   "id": "e5ba7dda",
   "metadata": {},
   "source": [
    "# Gaussian Kernel Discussion & Needed Math"
   ]
  },
  {
   "cell_type": "markdown",
   "id": "8eb8f235",
   "metadata": {},
   "source": [
    "On the board!"
   ]
  },
  {
   "cell_type": "markdown",
   "id": "c9a9b57d",
   "metadata": {},
   "source": [
    "# Using scikit-learn for a Gaussian SVM"
   ]
  },
  {
   "cell_type": "markdown",
   "id": "7c738661",
   "metadata": {},
   "source": [
    "### Very direct"
   ]
  },
  {
   "cell_type": "markdown",
   "id": "c2b8f174",
   "metadata": {},
   "source": [
    "Sci-kit learn has a Gaussian kernel built-in (referred to with the umbrella term \"radial basis function\")"
   ]
  },
  {
   "cell_type": "code",
   "execution_count": 15,
   "id": "787bc569",
   "metadata": {},
   "outputs": [],
   "source": [
    "from sklearn.model_selection import train_test_split\n",
    "from sklearn.pipeline import make_pipeline\n",
    "from sklearn.preprocessing import StandardScaler\n",
    "from sklearn.svm import SVC"
   ]
  },
  {
   "cell_type": "code",
   "execution_count": 16,
   "id": "4ef9de13",
   "metadata": {},
   "outputs": [],
   "source": [
    "# Make test / train split\n",
    "X  = np.column_stack([x1, x2])\n",
    "y = target.astype(int)\n",
    "\n",
    "X_train, X_test, y_train, y_test = train_test_split(\n",
    "    X, y, test_size=0.25, stratify=y, random_state=0\n",
    ")"
   ]
  },
  {
   "cell_type": "code",
   "execution_count": null,
   "id": "aa054b31",
   "metadata": {},
   "outputs": [
    {
     "name": "stdout",
     "output_type": "stream",
     "text": [
      "Train accuracy: 0.8471337579617835\n",
      "Test  accuracy: 0.8867924528301887\n"
     ]
    }
   ],
   "source": [
    "# sigma = 1e-3\n",
    "sigma = 1e-1\n",
    "# sigma = 1\n",
    "# sigma = 1e5\n",
    "\n",
    "clf = make_pipeline(\n",
    "    StandardScaler(),\n",
    "    SVC(kernel=\"rbf\", gamma=\"scale\", C=sigma)  # Gaussian kernel\n",
    ")\n",
    "clf.fit(X_train, y_train)\n",
    "\n",
    "print(\"Train accuracy:\", clf.score(X_train, y_train))\n",
    "print(\"Test  accuracy:\", clf.score(X_test,  y_test))"
   ]
  },
  {
   "cell_type": "markdown",
   "id": "30a7a1f4",
   "metadata": {},
   "source": [
    "### Display results"
   ]
  },
  {
   "cell_type": "code",
   "execution_count": 42,
   "id": "6dd006dd",
   "metadata": {},
   "outputs": [
    {
     "data": {
      "image/png": "[encoded data removed]",
      "text/plain": [
       "<Figure size 768x576 with 1 Axes>"
      ]
     },
     "metadata": {},
     "output_type": "display_data"
    }
   ],
   "source": [
    "# Make a grid over the feature space\n",
    "x1_min, x1_max = X[:,0].min() - 0.2, X[:,0].max() + 0.2\n",
    "x2_min, x2_max = X[:,1].min() - 2.0, X[:,1].max() + 2.0\n",
    "xx1, xx2 = np.meshgrid(\n",
    "    np.linspace(x1_min, x1_max, 400),\n",
    "    np.linspace(x2_min, x2_max, 400)\n",
    ")\n",
    "grid = np.c_[xx1.ravel(), xx2.ravel()]\n",
    "Z = clf.predict(grid).reshape(xx1.shape)\n",
    "\n",
    "fig = plt.figure(dpi=120)\n",
    "ax = fig.add_subplot(111)\n",
    "\n",
    "# Light background for the two classes\n",
    "ax.contourf(xx1, xx2, Z, alpha=0.18, levels=[-0.5, 0.5, 1.5])\n",
    "\n",
    "# Colors\n",
    "c_k = \"#0C754C\"\n",
    "c_o = \"#e87500\"\n",
    "\n",
    "# Training points\n",
    "is_kama_tr = (y_train == 1)\n",
    "ax.scatter(X_train[is_kama_tr,0],  X_train[is_kama_tr,1],  s=16, facecolors=c_k, label=\"Kama (train)\")\n",
    "ax.scatter(X_train[~is_kama_tr,0], X_train[~is_kama_tr,1], s=16, facecolors=c_o, label=\"Other (train)\")\n",
    "\n",
    "# Test points (hollow markers)\n",
    "is_kama_te = (y_test == 1)\n",
    "ax.scatter(X_test[is_kama_te,0],   X_test[is_kama_te,1],   s=36, facecolors=c_k, edgecolors=\"k\", label=\"Kama (test)\")\n",
    "ax.scatter(X_test[~is_kama_te,0],  X_test[~is_kama_te,1],  s=36, facecolors=c_o, edgecolors=\"k\", label=\"Other (test)\")\n",
    "\n",
    "ax.set_xlabel(\"asymmetry\")\n",
    "ax.set_ylabel(\"perimeter\")\n",
    "ax.set_title(\"Seeds decision regions (Kama vs Other)\")\n",
    "ax.legend(loc=\"upper right\", ncol=2, fontsize=8)\n",
    "plt.tight_layout()\n",
    "plt.show()"
   ]
  },
  {
   "cell_type": "markdown",
   "id": "29667bee",
   "metadata": {},
   "source": [
    "### Other"
   ]
  },
  {
   "cell_type": "markdown",
   "id": "51d9e695",
   "metadata": {},
   "source": [
    "This leans on scikit-learn more than I'd like. I hope to see if I can separate out \"applying a kernel\" from the \"SVM\"."
   ]
  }
 ],
 "metadata": {
  "kernelspec": {
   "display_name": "reci_pract",
   "language": "python",
   "name": "python3"
  },
  "language_info": {
   "codemirror_mode": {
    "name": "ipython",
    "version": 3
   },
   "file_extension": ".py",
   "mimetype": "text/x-python",
   "name": "python",
   "nbconvert_exporter": "python",
   "pygments_lexer": "ipython3",
   "version": "3.12.11"
  }
 },
 "nbformat": 4,
 "nbformat_minor": 5
}
