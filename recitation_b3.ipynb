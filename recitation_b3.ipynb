{
 "cells": [
  {
   "cell_type": "code",
   "execution_count": 1,
   "id": "3d4d7714",
   "metadata": {},
   "outputs": [],
   "source": [
    "import numpy as np\n",
    "import cvxopt"
   ]
  },
  {
   "cell_type": "markdown",
   "id": "a62b9e6b",
   "metadata": {},
   "source": [
    "$$\n",
    "\\begin{equation*}\n",
    "\\begin{aligned}\n",
    "\\min_{x} \\quad & \\frac{1}{2} x^2 + 6 \\\\\n",
    "\\text{s.t.} \\quad  & x \\geq 0 \\\\\n",
    "                   & x \\leq 5 \\\\\n",
    "\\end{aligned}\n",
    "\\end{equation*}\n",
    "$$"
   ]
  },
  {
   "cell_type": "markdown",
   "id": "b116b1f1",
   "metadata": {},
   "source": [
    "Who knows the answer without jumping through hoops?"
   ]
  },
  {
   "cell_type": "markdown",
   "id": "05c4fa09",
   "metadata": {},
   "source": [
    "### Lagrange Multipliers"
   ]
  },
  {
   "cell_type": "markdown",
   "id": "31fb2493",
   "metadata": {},
   "source": [
    "$$\n",
    "\\begin{equation*}\n",
    "\\begin{aligned}\n",
    "\\min_{x} \\quad & \\frac{1}{2} x^2 + 6 \\\\\n",
    "\\text{s.t.} \\quad  & x \\geq 0 \\\\\n",
    "                   & x \\leq 5 \\\\\n",
    "\\end{aligned}\n",
    "\\end{equation*}\n",
    "$$\n",
    "\n",
    "What's the dual to this? (On the board)\n",
    "\n",
    "$$\n",
    "\\sup_{\\lambda_1,\\lambda_2\\geq 0}\\tfrac{1}{2} (\\lambda_1)^2 - \\lambda_1\\lambda_2 + \\tfrac{1}{2}(\\lambda_2)^2-5\\lambda_2+6\n",
    "$$"
   ]
  },
  {
   "cell_type": "markdown",
   "id": "36bb6dcd",
   "metadata": {},
   "source": [
    "### CVXOPT"
   ]
  },
  {
   "cell_type": "markdown",
   "id": "c26e3ac4",
   "metadata": {},
   "source": [
    "One objective, two constraints:\n",
    "\n",
    "$$\n",
    "\\begin{array}{ccc}\n",
    "\\begin{aligned}\n",
    "\\min_{x} \\quad & \\frac{1}{2} x^2 + 6 \\\\\n",
    "\\text{s.t.} \\quad  & x \\geq 0 \\\\\n",
    "                   & x \\leq 5 \\\\\n",
    "\\end{aligned}\n",
    "&\n",
    "\\qquad \\rightarrow \\qquad\n",
    "&\n",
    "\\begin{aligned}\n",
    "\\min_{\\theta} \\quad & \\tfrac{1}{2}\\theta^\\top P \\theta + q^\\top \\theta + r \\\\\n",
    "\\text{s.t.}\\quad & G\\theta \\preceq h \\\\\n",
    "& A\\theta = b\n",
    "\\end{aligned}\n",
    "\\end{array}\n",
    "$$"
   ]
  },
  {
   "cell_type": "markdown",
   "id": "0675b9a8",
   "metadata": {},
   "source": [
    "Rewrite the constraints\n",
    "\n",
    "$$\n",
    "-x \\leq 0\\\\\n",
    "x  \\leq 5\n",
    "$$"
   ]
  },
  {
   "cell_type": "markdown",
   "id": "8ed47625",
   "metadata": {},
   "source": [
    "Assemble the matrices\n",
    "\n",
    "$$\n",
    "\\begin{array}{cc}\n",
    "P = I = [1]\n",
    "&\n",
    "q = [0]\n",
    "\\\\\n",
    "\\quad\n",
    "\\\\\n",
    "G = \\begin{pmatrix}-1 \\\\ 1\\end{pmatrix}\n",
    "&\n",
    "h = \\begin{pmatrix} 0 \\\\ 5\\end{pmatrix}\n",
    "\\end{array}\n",
    "$$"
   ]
  },
  {
   "cell_type": "code",
   "execution_count": 5,
   "id": "b06700c3",
   "metadata": {},
   "outputs": [
    {
     "name": "stdout",
     "output_type": "stream",
     "text": [
      "     pcost       dcost       gap    pres   dres\n",
      " 0:  1.3889e+00 -6.3889e+00  8e+00  0e+00  9e-16\n",
      " 1:  3.7193e-01 -4.2193e-01  8e-01  3e-16  3e-16\n",
      " 2:  5.4283e-02 -6.4482e-02  1e-01  4e-17  1e-16\n",
      " 3:  7.8363e-03 -8.7057e-03  2e-02  4e-16  0e+00\n",
      " 4:  1.1254e-03 -1.2449e-03  2e-03  1e-16  7e-18\n",
      " 5:  1.6138e-04 -1.7774e-04  3e-04  3e-18  0e+00\n",
      " 6:  2.3132e-05 -2.5444e-05  5e-05  3e-16  1e-17\n",
      " 7:  3.3152e-06 -3.6445e-06  7e-06  4e-16  4e-19\n",
      " 8:  4.7507e-07 -5.2217e-07  1e-06  5e-17  4e-19\n",
      " 9:  6.8078e-08 -7.4820e-08  1e-07  1e-16  2e-19\n",
      "10:  9.7554e-09 -1.0721e-08  2e-08  5e-17  3e-20\n",
      "Optimal solution found.\n"
     ]
    },
    {
     "data": {
      "text/plain": [
       "array([0.00013968])"
      ]
     },
     "execution_count": 5,
     "metadata": {},
     "output_type": "execute_result"
    }
   ],
   "source": [
    "def do_primal():\n",
    "  # Convert from equations of hyperplane and point to standard form\n",
    "  P = np.array([1])  # Objective quadratic terms\n",
    "  q = np.array([0])  # Objective linear terms (as a COLUMN vector)\n",
    "  G = np.array([[-1], [1]])                   # Equality constraint\n",
    "  h = np.array([[ 0], [5]])        # Equality constraint\n",
    "\n",
    "  # Rearrange for use with CVXOPT\n",
    "  P, q, G, h = [np.atleast_2d(x) for x in [P, q, G, h]]\n",
    "  P, q, G, h = [x.astype(float)  for x in [P, q, G, h]]  \n",
    "  P, q, G, h = [cvxopt.matrix(M) for M in [P, q, G, h]]\n",
    "\n",
    "  # Actually use CVXOPT\n",
    "  sol = cvxopt.solvers.qp(P, q, G=G, h=h)\n",
    "  x = np.array(sol['x']).flatten()\n",
    "  return x\n",
    "\n",
    "do_primal()"
   ]
  },
  {
   "cell_type": "markdown",
   "id": "7ce64730",
   "metadata": {},
   "source": [
    "What would it look like to use CVXOPT to solve the dual to this problem?\n",
    "\n",
    "$$\n",
    "\\sup_{\\lambda_1,\\lambda_2\\geq 0} -\\tfrac{1}{2} (\\lambda_1)^2 + \\lambda_1\\lambda_2 - \\tfrac{1}{2}(\\lambda_2)^2-5\\lambda_2+6\n",
    "$$"
   ]
  },
  {
   "cell_type": "markdown",
   "id": "a80d1d45",
   "metadata": {},
   "source": [
    "One objective, two constraints:\n",
    "\n",
    "$$\n",
    "\\begin{array}{ccc}\n",
    "\\begin{aligned}\n",
    "\\sup_{\\lambda_1, \\lambda_2} \\quad & -\\tfrac{1}{2} (\\lambda_1)^2 + \\lambda_1\\lambda_2 - \\tfrac{1}{2}(\\lambda_2)^2-5\\lambda_2+6 \\\\\n",
    "\\text{s.t.} \\quad  & \\lambda_1 \\geq 0 \\\\\n",
    "                   & \\lambda_2 \\geq 0 \\\\\n",
    "\\end{aligned}\n",
    "&\n",
    "\\qquad \\rightarrow \\qquad\n",
    "&\n",
    "\\begin{aligned}\n",
    "\\min_{\\theta} \\quad & \\tfrac{1}{2}\\theta^\\top P \\theta + q^\\top \\theta + r \\\\\n",
    "\\text{s.t.}\\quad & G\\theta \\preceq h \\\\\n",
    "& A\\theta = b\n",
    "\\end{aligned}\n",
    "\\end{array}\n",
    "$$"
   ]
  },
  {
   "cell_type": "markdown",
   "id": "64f4d50c",
   "metadata": {},
   "source": [
    "Rewrite the objective and constraints:\n",
    "\n",
    "$$\n",
    "\\begin{aligned}\n",
    "\\inf_{\\lambda_1, \\lambda_2} \\quad & \\tfrac{1}{2} (\\lambda_1)^2 - \\lambda_1\\lambda_2 + \\tfrac{1}{2}(\\lambda_2)^2 + 5\\lambda_2 - 6 \\\\\n",
    "\\text{s.t.} \\quad  & - \\lambda_1 \\leq 0 \\\\\n",
    "                   & - \\lambda_2 \\leq 0 \\\\\n",
    "\\end{aligned}\n",
    "$$"
   ]
  },
  {
   "cell_type": "markdown",
   "id": "de293782",
   "metadata": {},
   "source": [
    "Assemble the matrices\n",
    "\n",
    "$$\n",
    "\\begin{array}{cc}\n",
    "P = \\begin{pmatrix}  1 & -1 \\\\ -1 &  1 \\end{pmatrix}\n",
    "&\n",
    "q = \\begin{pmatrix}  0      \\\\  5      \\end{pmatrix}\n",
    "\\\\\n",
    "\\quad\n",
    "\\\\\n",
    "G = \\begin{pmatrix} -1 & 0 \\\\ 0 & -1 \\end{pmatrix}\n",
    "&\n",
    "h = \\begin{pmatrix}  0 \\\\  0 \\end{pmatrix}\n",
    "\\end{array}\n",
    "$$"
   ]
  },
  {
   "cell_type": "code",
   "execution_count": 8,
   "id": "197bdfa6",
   "metadata": {},
   "outputs": [
    {
     "name": "stdout",
     "output_type": "stream",
     "text": [
      "     pcost       dcost       gap    pres   dres\n",
      " 0: -1.5278e+01 -1.3889e+00  8e+00  6e+00  4e-16\n",
      " 1: -7.4301e-01 -3.7193e-01  8e-01  3e-01  5e-16\n",
      " 2:  6.4482e-02 -5.4283e-02  1e-01  1e-16  3e-15\n",
      " 3:  8.7057e-03 -7.8363e-03  2e-02  3e-17  2e-16\n",
      " 4:  1.2449e-03 -1.1254e-03  2e-03  1e-20  2e-16\n",
      " 5:  1.7774e-04 -1.6138e-04  3e-04  3e-21  2e-16\n",
      " 6:  2.5444e-05 -2.3132e-05  5e-05  5e-22  5e-16\n",
      " 7:  3.6445e-06 -3.3152e-06  7e-06  1e-23  2e-16\n",
      " 8:  5.2217e-07 -4.7507e-07  1e-06  3e-19  2e-16\n",
      " 9:  7.4820e-08 -6.8078e-08  1e-07  5e-20  4e-16\n",
      "10:  1.0721e-08 -9.7554e-09  2e-08  3e-20  4e-16\n",
      "Optimal solution found.\n"
     ]
    },
    {
     "data": {
      "text/plain": [
       "array([1.39681307e-04, 1.93186343e-10])"
      ]
     },
     "execution_count": 8,
     "metadata": {},
     "output_type": "execute_result"
    }
   ],
   "source": [
    "def do_dual():\n",
    "  # Convert from equations of hyperplane and point to standard form\n",
    "  P = np.array([[ 1, -1], [-1,  1]])  # Objective quadratic terms\n",
    "  q = np.array([[ 0]    , [ 5]    ])  # Objective linear terms (as a COLUMN vector)\n",
    "  G = np.array([[-1, 0], [0, -1]])                   # Equality constraint\n",
    "  h = np.array([[ 0], [ 0]])        # Equality constraint\n",
    "\n",
    "  # Rearrange for use with CVXOPT\n",
    "  P, q, G, h = [np.atleast_2d(x) for x in [P, q, G, h]]\n",
    "  P, q, G, h = [x.astype(float)  for x in [P, q, G, h]]  \n",
    "  P, q, G, h = [cvxopt.matrix(M) for M in [P, q, G, h]]\n",
    "\n",
    "  # Actually use CVXOPT\n",
    "  sol = cvxopt.solvers.qp(P, q, G=G, h=h)\n",
    "  x = np.array(sol['x']).flatten()\n",
    "  return x\n",
    "\n",
    "do_dual()"
   ]
  },
  {
   "cell_type": "markdown",
   "id": "69414e6c",
   "metadata": {},
   "source": [
    "Look at the outputs of the two runs of CVXOPT. Notice anything interesting?"
   ]
  },
  {
   "cell_type": "markdown",
   "id": "6532fadc",
   "metadata": {},
   "source": [
    "### Bonus: Visualization\n",
    "\n",
    "[Visualization in Desmos](https://www.desmos.com/3d/1zgmx7saep). This helped me understand what's going on, ***after*** working through the problem. I recommend fighting the problem a bit first."
   ]
  },
  {
   "cell_type": "markdown",
   "id": "3600fed3",
   "metadata": {},
   "source": [
    "# Your problem"
   ]
  },
  {
   "cell_type": "markdown",
   "id": "27ad0c8e",
   "metadata": {},
   "source": [
    "I've repeated this from Recitation 2's notebook. It's worth doing this a couple times. I'm not doing it here or in recitation."
   ]
  },
  {
   "cell_type": "markdown",
   "id": "06a47f83",
   "metadata": {},
   "source": [
    "$$\n",
    "\\begin{equation*}\n",
    "\\begin{aligned}\n",
    "\\min_{x} \\quad & \\frac{1}{2} (x-1)^2 \\\\\n",
    "\\text{s.t.} \\quad  & x \\geq 2 \\\\\n",
    "\\end{aligned}\n",
    "\\end{equation*}\n",
    "$$"
   ]
  }
 ],
 "metadata": {
  "kernelspec": {
   "display_name": "reci_pract",
   "language": "python",
   "name": "python3"
  },
  "language_info": {
   "codemirror_mode": {
    "name": "ipython",
    "version": 3
   },
   "file_extension": ".py",
   "mimetype": "text/x-python",
   "name": "python",
   "nbconvert_exporter": "python",
   "pygments_lexer": "ipython3",
   "version": "3.12.11"
  }
 },
 "nbformat": 4,
 "nbformat_minor": 5
}
