{
 "cells": [
  {
   "cell_type": "markdown",
   "id": "e5b471de",
   "metadata": {},
   "source": [
    "Goal: Optimization problem solving\n",
    "- Using the method of Lagrange multipliers\n",
    "- Using CVXOPT"
   ]
  },
  {
   "cell_type": "markdown",
   "id": "4002e8f7",
   "metadata": {},
   "source": [
    "Quick question up front: would it be helpful to have even simpler problems than those below? I could do problems with either \n",
    "- a single quadratic variable ... *and/or*\n",
    "- a linear programming problem"
   ]
  },
  {
   "cell_type": "markdown",
   "id": "73beb064",
   "metadata": {},
   "source": [
    "# Refreshers"
   ]
  },
  {
   "cell_type": "markdown",
   "id": "3abe27c6",
   "metadata": {},
   "source": [
    "I strongly recommend watching [the Three Blue, One Brown series on linear algebra](https://www.youtube.com/watch?v=fNk_zzaMoSs&list=PLZHQObOWTQDPD3MizzM2xVFitgF8hE_ab&index=1). It may seem trivial at first, but the explanations build a visual language that's going to be used with higher-level concepts."
   ]
  },
  {
   "cell_type": "markdown",
   "id": "edfa7dd2",
   "metadata": {},
   "source": [
    "### Dot products"
   ]
  },
  {
   "cell_type": "markdown",
   "id": "b7f97c87",
   "metadata": {},
   "source": [
    "What's the dot product of two vectors, $\\bm{x}$ and $\\bm{y}$? How is this written and how is this expressed?"
   ]
  },
  {
   "cell_type": "markdown",
   "id": "791c4b41",
   "metadata": {},
   "source": [
    "For any two vectors, both the same size, $N$ (or $\\bm{x}. \\bm{y} \\in \\mathbb{R}^N$): \n",
    "$$\\bm{x} \\cdot \\bm{y} = \\bm{x}^\\intercal \\bm{y} = \\sum_i x_i y_i$$\n",
    "\n",
    "For a single vector, it's convenient to think about the length of the vector:\n",
    "$$\\bm{x} \\cdot \\bm{x} = \\sum_i x_i x_i = ||\\bm{x}||^2_2$$\n",
    "\n",
    "Where $||\\cdot||_2$ is the \"two-norm\" of a vector, which I think of in reference to the [Euclidean distance formula](https://en.wikipedia.org/wiki/Euclidean_distance):\n",
    "$$\n",
    "||\\bm{x}||_2 = \\sqrt{\\sum_i (x_i)^2} \n",
    "$$\n",
    "\n",
    "Or:\n",
    "$$\n",
    "||\\bm{x}||_2^2 = \\sum_i x_i^2 = \\sum_i x_i x_i = \\bm{x}^\\intercal\\bm{x}\n",
    "$$"
   ]
  },
  {
   "cell_type": "markdown",
   "id": "6cfc5800",
   "metadata": {},
   "source": [
    "### Lagrange Multipliers"
   ]
  },
  {
   "cell_type": "markdown",
   "id": "53c6738f",
   "metadata": {},
   "source": [
    "From [Lecture 4 Slides](https://personal.utdallas.edu/~nicholas.ruozzi/cs4375/2024fa/lects/Lecture_4_LM_and_Kernel.pdf)"
   ]
  },
  {
   "cell_type": "markdown",
   "id": "d63c60f4",
   "metadata": {},
   "source": [
    "One way to solve constrained optimization problems is the method of Lagrange multipliers.\n",
    "\n",
    "I start from some *primal problem*:\n",
    "$$\n",
    "\\begin{equation*}\n",
    "\\begin{aligned}\n",
    "\\min_{\\theta} \\quad & f(\\theta) \\\\\n",
    "\\text{s.t.} \\quad  & c_i(\\theta) \\leq 0 \\\\\n",
    "& h_j(\\theta) = 0\n",
    "\\end{aligned}\n",
    "\\end{equation*},\n",
    "$$\n",
    "for some set of constraints $\\{c_i(\\cdot)| \\; i\\in [1...M]\\}$ and $\\{h_j(\\cdot)| \\; j\\in [1...P]\\}$.\n",
    "\n",
    "Note that I've put this in standard form. For **this method**, standard form means that equality constraints are equal to zero and inequalities are *less than* or equal to zero. It should be straightforward to rewrite this."
   ]
  },
  {
   "cell_type": "markdown",
   "id": "d812f054",
   "metadata": {},
   "source": [
    "Then I define a Lagrangian:\n",
    "$$\n",
    "L(\\theta, \\lambda, \\nu) = \n",
    "f(\\theta) + \n",
    "\\sum_{i=1}^M \\lambda_i c_i(\\theta) + \n",
    "\\sum_{j=1}^P \\nu_i h_j(\\theta).\n",
    "$$\n",
    "\n",
    "Constructing this is mechanical. Noting that $\\lambda$'s and $\\nu$'s are just arbitrary letters, it's:\n",
    "- The objective... *plus*\n",
    "- a $\\lambda$ for each inequality constraint... *plus*\n",
    "- a $\\nu$ for each equality constraint"
   ]
  },
  {
   "cell_type": "markdown",
   "id": "998937fe",
   "metadata": {},
   "source": [
    "From there, I construct and solve the dual function:\n",
    "$$\n",
    "g(\\lambda, \\nu) = \\inf_\\theta L(\\theta, \\lambda, \\nu)\n",
    "$$\n",
    "\n",
    "This isn't as complicated as it seems. We're just saying we want to rewrite $L$ in terms of just $\\lambda$ and $\\nu$ at the optimal values for $\\theta$. So:\n",
    "- I'll find the gradients of $L$ w.r.t. each component of $\\theta$\n",
    "- set those equal to zero\n",
    "- write each component in terms of just $\\lambda$ and $\\nu$\n",
    "\n",
    "I need to bear in mind that I'm just finding critical points, not just the lowest (in other words, the extrema, not the minima). <small><small> And yes, I'm conflating minimum and infimum.</small></small>\n",
    "\n",
    "The last part is where I get hung up some times, and it's often the case that a different perspective (like when constructing the gradients) can simplify things."
   ]
  },
  {
   "cell_type": "markdown",
   "id": "72a2a06e",
   "metadata": {},
   "source": [
    "These are now $\\theta^*$, since they're values at the optimal points. When I rewrite $L(\\theta, \\lambda, \\nu)$ by plugging in $\\theta^*$, I've got $g(\\lambda, \\nu)$.\n",
    "\n",
    "Now, again, I can find the gradients of $g$, w.r.t. $\\lambda, \\nu$. These optimal $\\lambda^*, \\nu^*$ values can then be plugged back in to determine best *actual* values for $\\theta$."
   ]
  },
  {
   "cell_type": "markdown",
   "id": "b1b7dde0",
   "metadata": {},
   "source": [
    "When I'm not comfortable with the calculus, it doesn't feel very mechanical. Also, sometimes, there isn't a closed form solution. However, where it does work and where I've done it several times, it is reliable and I can only recommmend repetition until it feels that way for you."
   ]
  },
  {
   "cell_type": "markdown",
   "id": "b13dae45",
   "metadata": {},
   "source": [
    "### CVXOPT"
   ]
  },
  {
   "cell_type": "markdown",
   "id": "36b95c6f",
   "metadata": {},
   "source": [
    "Another way to solve these problems is to use computational tools, such as CVXOPT (short for convex optimization)."
   ]
  },
  {
   "cell_type": "markdown",
   "id": "0a5799a5",
   "metadata": {},
   "source": [
    "We need to install CVXOPT first. [https://cvxopt.org/install/](https://cvxopt.org/install/)"
   ]
  },
  {
   "cell_type": "markdown",
   "id": "8ab7c425",
   "metadata": {},
   "source": [
    "With the environment active:\n",
    "\n",
    "`conda install -c conda-forge cvxopt`"
   ]
  },
  {
   "cell_type": "markdown",
   "id": "cda19221",
   "metadata": {},
   "source": [
    "When using CVXOPT, we need use a different standard form: [https://cvxopt.org/userguide/coneprog.html](https://cvxopt.org/userguide/coneprog.html)\n",
    "\n",
    "$$\n",
    "\\begin{equation*}\n",
    "\\begin{aligned}\n",
    "\\min_{x} \\quad & \\tfrac{1}{2}{x}^\\intercal{P}{x}+{q}^\\intercal{x}+r \\\\\n",
    "\\text{s.t.} \\quad  & {G}{x} \\preceq h \\\\\n",
    "& {A}{x} = b\n",
    "\\end{aligned}\n",
    "\\end{equation*}\n",
    "$$\n",
    "\n",
    "Or, better in Jim's opinion, replace $x$ with $\\theta$:\n",
    "\n",
    "$$\n",
    "\\begin{equation*}\n",
    "\\begin{aligned}\n",
    "\\min_{\\theta} \\quad & \\tfrac{1}{2}{\\theta}^\\intercal{P}{\\theta}+{q}^\\intercal{\\theta}+r \\\\\n",
    "\\text{s.t.} \\quad  & {G}{\\theta} \\preceq h \\\\\n",
    "& {A}{\\theta} = b\n",
    "\\end{aligned}\n",
    "\\end{equation*}\n",
    "$$"
   ]
  },
  {
   "cell_type": "markdown",
   "id": "cf8318f7",
   "metadata": {},
   "source": [
    "Quick question: What happens to $r$? \n",
    "\n",
    "Or: When finding optimal $\\theta$, how does $r$ impact it?\n",
    "\n",
    "(I kinda forgot this in recitation--whoops!)"
   ]
  },
  {
   "cell_type": "markdown",
   "id": "fb006e1d",
   "metadata": {},
   "source": [
    "Because I'd seen more derivatives than linear algebra, this was a bit uncomfortable at first. When doing these problems, I follow this pattern:\n",
    "1) What's my $\\theta$ (\"decision variables\")? How can I cram all my variables into a vector?\n",
    "2) How can I write my constraints in terms of $\\theta$?\n",
    "3) How can I separate my objective into quadratic, linear, and constant terms?\n",
    "\n",
    "This really just boils down to mechanical rewriting of the functions."
   ]
  },
  {
   "cell_type": "markdown",
   "id": "fbe90851",
   "metadata": {},
   "source": [
    "# Problem 1"
   ]
  },
  {
   "cell_type": "markdown",
   "id": "827fcaa5",
   "metadata": {},
   "source": [
    "First, we're going to repeat an example done by Nic in lecture:\n",
    "\n",
    "$$\n",
    "\\begin{equation}\n",
    "\\begin{aligned}\n",
    "\\min_{x, y} \\quad & x^2 + y^2 \\\\\n",
    "\\text{s.t.} \\quad  & x + y \\geq 1 \\\\\n",
    "\\end{aligned}\n",
    "\\end{equation}\n",
    "$$"
   ]
  },
  {
   "cell_type": "markdown",
   "id": "761c1247",
   "metadata": {},
   "source": [
    "### Lagrange Multipliers"
   ]
  },
  {
   "cell_type": "markdown",
   "id": "1f7c4dba",
   "metadata": {},
   "source": [
    "First, we convert it from the problem formulation to standard form:\n",
    "\n",
    "$$\n",
    "\\begin{array}{ccc}\n",
    "        \\begin{aligned}\n",
    "            \\min_{x, y} \\quad & x^2 + y^2 \\\\\n",
    "            \\text{s.t.} \\quad & x + y \\geq 1 \\\\\n",
    "        \\end{aligned}\n",
    "    &\n",
    "        \\qquad\\rightarrow\\qquad\n",
    "    &\n",
    "        \\begin{aligned}\n",
    "            \\min_{\\theta} \\quad & f(\\theta) \\\\\n",
    "            \\text{s.t.} \\quad  & c_i(\\theta) \\leq 0 \\\\\n",
    "            & h_j(\\theta) = 0\n",
    "        \\end{aligned}\n",
    "\\end{array}\n",
    "$$\n",
    "\n",
    "In standard form:\n",
    "$$\n",
    "    \\begin{equation*}\n",
    "        \\begin{aligned}\n",
    "            \\min_{x, y} \\quad & x^2 + y^2 \\\\\n",
    "            \\text{s.t.} \\quad & 1 - x - y \\leq 0 \\\\\n",
    "        \\end{aligned}\n",
    "    \\end{equation*}\n",
    "$$"
   ]
  },
  {
   "cell_type": "markdown",
   "id": "0be49bbf",
   "metadata": {},
   "source": [
    "... The remainder done on board. <small><small>Poorly, in recitation, since I forgot a step at the end. The correct result does match CVXOPT's!</small></small>\n",
    "\n",
    "Should I type this up? Alternatively, stop by and I'll happily walk you through it. It's ***way better than physics*** and I'd much rather do this, so you'd be doing me a *favor*."
   ]
  },
  {
   "cell_type": "markdown",
   "id": "a67c8a08",
   "metadata": {},
   "source": [
    "### CVXOPT"
   ]
  },
  {
   "cell_type": "markdown",
   "id": "a91731ad",
   "metadata": {},
   "source": [
    "First, we convert it from the problem formulation to standard form:\n",
    "\n",
    "$$\n",
    "\\begin{array}{ccc}\n",
    "        \\begin{aligned}\n",
    "            \\min_{x, y} \\quad & x^2 + y^2 \\\\\n",
    "            \\text{s.t.} \\quad & x + y \\geq 1 \\\\\n",
    "        \\end{aligned}\n",
    "    &\n",
    "        \\qquad\\rightarrow\\qquad\n",
    "    &\n",
    "        \\begin{aligned}\n",
    "            \\min_{\\theta} \\quad & \\tfrac{1}{2}{\\theta}^\\intercal{P}{\\theta}+{q}^\\intercal{\\theta}+r \\\\\n",
    "            \\text{s.t.} \\quad  & {G}{\\theta} \\preceq h \\\\\n",
    "            & {A}{\\theta} = b\n",
    "        \\end{aligned}\n",
    "\\end{array}\n",
    "$$"
   ]
  },
  {
   "cell_type": "markdown",
   "id": "7698da4b",
   "metadata": {},
   "source": [
    "Again, my method is:\n",
    "1) Decision variables\n",
    "2) Constraints\n",
    "3) Objective function"
   ]
  },
  {
   "cell_type": "markdown",
   "id": "fb8d5383",
   "metadata": {},
   "source": [
    "So (1): what is being decided? I want the best $x$ and $y$ for the situation:\n",
    "$$\n",
    "\\theta = \n",
    "    \\begin{pmatrix}\n",
    "        x \\\\ y\n",
    "    \\end{pmatrix}\n",
    "$$"
   ]
  },
  {
   "cell_type": "markdown",
   "id": "3f9ac588",
   "metadata": {},
   "source": [
    "Next, (2): What are my constraints?\n",
    "\n",
    "I don't have equality constraints. That's convenient.\n",
    "\n",
    "I have an inequality: $x+y\\geq 1$. I first rearrange it to look like $G\\theta \\preceq h$: \n",
    "$$\n",
    "-x - y \\leq -1\n",
    "$$\n",
    "\n",
    "Trivially, $h = -1$\n",
    "\n",
    "What matrix, $G$, will, when doing $G\\theta$ or\n",
    "$$\n",
    "    \\begin{pmatrix}\n",
    "        ?\n",
    "    \\end{pmatrix}\n",
    "    \\begin{pmatrix}\n",
    "        x \\\\ y \n",
    "    \\end{pmatrix}    \n",
    "$$\n",
    "\n",
    "First, I look at the shapes of the matrices. The second is $2 \\times 1$. The result is a scalar ($1 \\times 1$). The first matrix needs to be $1 \\times 2$, something like:\n",
    "$$\n",
    "    \\begin{pmatrix}\n",
    "        G_1 & G_2\n",
    "    \\end{pmatrix}\n",
    "    \\begin{pmatrix}\n",
    "        x \\\\ y \n",
    "    \\end{pmatrix}    \n",
    "$$\n",
    "\n",
    "When I multiply that out, I'll get\n",
    "$\n",
    "$, so I need $G_1, G_2$, such that $G_1 x + G_2 y = -x - y$. <small><small>Yes, this is trivial.</small></small>\n",
    "\n",
    "$$G = \\begin{pmatrix}-1 & -1 \\end{pmatrix}$$"
   ]
  },
  {
   "cell_type": "markdown",
   "id": "b748a951",
   "metadata": {},
   "source": [
    "Now, for the objective. Recall that standard form for the objective is $ \\tfrac{1}{2}{\\theta}^\\intercal{P}{\\theta}+{q}^\\intercal{\\theta}+r$. I don't have any linear terms, so we can follow the same logic as for $G$ and get \n",
    "$$\n",
    "q = \\begin{pmatrix}0 \\\\ 0\\end{pmatrix}\n",
    "$$\n",
    "\n",
    "Let's look at $P$: we have $\\theta^\\intercal P \\theta$. Just like with $G$, I'll look at the shapes first:\n",
    "$$\n",
    "    \\tfrac{1}{2}\n",
    "    \\begin{pmatrix}\n",
    "        x & y \n",
    "    \\end{pmatrix}    \n",
    "    \\begin{pmatrix}\n",
    "        ?\n",
    "    \\end{pmatrix}\n",
    "    \\begin{pmatrix}\n",
    "        x \\\\ y \n",
    "    \\end{pmatrix}    \n",
    "$$\n",
    "\n",
    "A $1\\times 2$ times an unknown matrix times a $2\\times 1$ matrix... trivially, the unknown matrix must be $2\\times 2$.\n",
    "\n",
    "$$\n",
    "    \\tfrac{1}{2}\n",
    "    \\begin{pmatrix}\n",
    "        x & y \n",
    "    \\end{pmatrix}    \n",
    "    \\begin{pmatrix}\n",
    "        P_1 & P_2 \\\\ P_3 & P_4\n",
    "    \\end{pmatrix}\n",
    "    \\begin{pmatrix}\n",
    "        x \\\\ y \n",
    "    \\end{pmatrix}    \n",
    "    =\n",
    "    \\tfrac{1}{2}\n",
    "    \\left(\n",
    "        P_1 x^2 + P_2 x y + P_3 y x + P_4 y^2\n",
    "    \\right)\n",
    "$$\n",
    "\n",
    "What values should be used for each entry in $P$ to form the matrix, such that we get $x^2 + y^2$? We can't ignore the $\\tfrac{1}{2}$ out front, but otherwise it's basically the identity matrix."
   ]
  },
  {
   "cell_type": "markdown",
   "id": "e64c0381",
   "metadata": {},
   "source": [
    "So, in the end we have:\n",
    "- $P =2I$\n",
    "- $q = \\begin{pmatrix} 0 \\\\ 0 \\end{pmatrix}$\n",
    "- $G = \\begin{pmatrix} -1 & -1 \\end{pmatrix}$\n",
    "- $h = -1$"
   ]
  },
  {
   "cell_type": "code",
   "execution_count": null,
   "id": "318dd550",
   "metadata": {},
   "outputs": [],
   "source": [
    "import numpy as np\n",
    "import cvxopt"
   ]
  },
  {
   "cell_type": "markdown",
   "id": "bfff43c3",
   "metadata": {},
   "source": [
    "Note that CVXOPT is very particular about the way it gets input data. I suffer when I don't make sure my values are `float`s and the shapes are correct! If I get a weird error about an input being in the wrong form (shape), I need to check **ALL** my inputs. The internal error checking will sometimes blame the wrong input."
   ]
  },
  {
   "cell_type": "code",
   "execution_count": 2,
   "id": "aa68e9a0",
   "metadata": {},
   "outputs": [
    {
     "data": {
      "text/plain": [
       "((2, 2), (2,), (1, 2), (1,))"
      ]
     },
     "execution_count": 2,
     "metadata": {},
     "output_type": "execute_result"
    }
   ],
   "source": [
    "P = np.array([[2, 0], [0, 2.]])\n",
    "q = np.array([0, 0.])\n",
    "G = np.array([[-1, -1.]])\n",
    "h = np.array([-1.])\n",
    "P.shape, q.shape, G.shape, h.shape"
   ]
  },
  {
   "cell_type": "code",
   "execution_count": 3,
   "id": "55b406fc",
   "metadata": {},
   "outputs": [
    {
     "name": "stdout",
     "output_type": "stream",
     "text": [
      "     pcost       dcost       gap    pres   dres\n",
      " 0:  1.2500e-01  3.7500e-01  5e-01  2e+00  1e-16\n",
      " 1:  2.9106e-01  4.7191e-01  8e-03  2e-01  2e-16\n",
      " 2:  5.0089e-01  5.0000e-01  9e-04  1e-16  3e-15\n",
      " 3:  5.0001e-01  5.0000e-01  9e-06  0e+00  3e-16\n",
      " 4:  5.0000e-01  5.0000e-01  9e-08  1e-16  2e-16\n",
      "Optimal solution found.\n",
      "(np.float64(0.5000000444254052), np.float64(0.5000000444254054))\n"
     ]
    }
   ],
   "source": [
    "def solve_p1():\n",
    "    # Define our P, q, G, h matrices\n",
    "    P = np.array([[2, 0], [0, 2.]])\n",
    "    q = np.array([0, 0.])\n",
    "    G = np.array([[-1, -1.]])\n",
    "    h = np.array([-1.])\n",
    "\n",
    "    # Convert them to a form that CVXOPT appreciates\n",
    "    P, q, G, h = cvxopt.matrix(P), cvxopt.matrix(q), cvxopt.matrix(G), cvxopt.matrix(h)\n",
    "    sol = cvxopt.solvers.qp(P, q, G, h)\n",
    "\n",
    "    # Get and return the solution\n",
    "    x, y = np.array(sol['x']).flatten()\n",
    "    return x, y\n",
    "\n",
    "print(solve_p1())"
   ]
  },
  {
   "cell_type": "markdown",
   "id": "59407544",
   "metadata": {},
   "source": [
    "Curious about the columns that CVXOPT automatically displays? Me too! Let me know."
   ]
  },
  {
   "cell_type": "markdown",
   "id": "1b5eea70",
   "metadata": {},
   "source": [
    "### Visual problem and solution"
   ]
  },
  {
   "cell_type": "code",
   "execution_count": 4,
   "id": "0ea34ca0",
   "metadata": {},
   "outputs": [],
   "source": [
    "import matplotlib.pyplot as plt"
   ]
  },
  {
   "cell_type": "markdown",
   "id": "d169d871",
   "metadata": {},
   "source": [
    "Don't worry about this display code."
   ]
  },
  {
   "cell_type": "code",
   "execution_count": 5,
   "id": "7e920bd7",
   "metadata": {},
   "outputs": [],
   "source": [
    "def draw_p1():\n",
    "  # Create a grid of x and y values\n",
    "  x = np.linspace(-2, 2, 400)\n",
    "  y = np.linspace(-2, 2, 400)\n",
    "  x, y = np.meshgrid(x, y)\n",
    "\n",
    "  # Define the objective function f(x, y) = x^2 + y^2\n",
    "  z = x**2 + y**2\n",
    "\n",
    "  # Create contour plot\n",
    "  plt.figure()\n",
    "  contour = plt.contourf(x, y, z, levels=50, cmap=\"viridis\")\n",
    "  plt.colorbar(contour, label=r'$f(x, y)$')\n",
    "\n",
    "  # Plot the constraint x + y >= 1\n",
    "  x_line = np.linspace(-2, 2, 400)\n",
    "  y_constraint = 1 - x_line\n",
    "  plt.plot(x_line, y_constraint, 'r-', label=r'$x+y\\geq1$')\n",
    "\n",
    "  # Fill the feasible region of the constraint\n",
    "  plt.fill_betweenx(y_constraint, x_line, 2, where=(x_line + y_constraint >= 1), interpolate=True, alpha=0.3, color='red')\n",
    "\n",
    "  x_sol, y_sol = solve_p1()\n",
    "  plt.plot(x_sol, y_sol, 'ko', label=\"Solution\")  # 'k' means black; 'o' is a dot\n",
    "\n",
    "  # Add labels and title\n",
    "  plt.xlabel('x')\n",
    "  plt.ylabel('y')\n",
    "  plt.xlim([-2, 2])\n",
    "  plt.ylim([-2, 2])\n",
    "  plt.title('Objective with Constraint')\n",
    "  plt.legend()\n",
    "  plt.grid(True)\n",
    "\n",
    "  # Show the plot\n",
    "  plt.show()"
   ]
  },
  {
   "cell_type": "code",
   "execution_count": 6,
   "id": "3b9ad924",
   "metadata": {},
   "outputs": [
    {
     "name": "stdout",
     "output_type": "stream",
     "text": [
      "     pcost       dcost       gap    pres   dres\n",
      " 0:  1.2500e-01  3.7500e-01  5e-01  2e+00  1e-16\n",
      " 1:  2.9106e-01  4.7191e-01  8e-03  2e-01  2e-16\n",
      " 2:  5.0089e-01  5.0000e-01  9e-04  1e-16  3e-15\n",
      " 3:  5.0001e-01  5.0000e-01  9e-06  0e+00  3e-16\n",
      " 4:  5.0000e-01  5.0000e-01  9e-08  1e-16  2e-16\n",
      "Optimal solution found.\n"
     ]
    },
    {
     "data": {
      "image/png": "[encoded data removed]",
      "text/plain": [
       "<Figure size 640x480 with 2 Axes>"
      ]
     },
     "metadata": {},
     "output_type": "display_data"
    }
   ],
   "source": [
    "draw_p1()"
   ]
  },
  {
   "cell_type": "markdown",
   "id": "09611033",
   "metadata": {},
   "source": [
    "The point marked \"Solution\" is where we minimize the function $x^2+y^2$, while maintaining the constraint that $x+y\\geq 1$."
   ]
  },
  {
   "cell_type": "markdown",
   "id": "3500aaf8",
   "metadata": {},
   "source": [
    "# Problem 2"
   ]
  },
  {
   "cell_type": "markdown",
   "id": "3d640817",
   "metadata": {},
   "source": [
    "Where is a plane closest to some particular point?"
   ]
  },
  {
   "cell_type": "markdown",
   "id": "887ed634",
   "metadata": {},
   "source": [
    "Define the plane. Define the point."
   ]
  },
  {
   "cell_type": "markdown",
   "id": "f97257fd",
   "metadata": {},
   "source": [
    "Fancy words: Given a point $\\bm{z} \\in \\mathbb{R}^n$ and a hyperplane $\\bm{w}^\\intercal\\bm{x}+v=0$, find the projection of the point $\\bm{z}$ onto the hyperplane."
   ]
  },
  {
   "cell_type": "markdown",
   "id": "8fa5706e",
   "metadata": {},
   "source": [
    "We'll discuss it and implement an abstract solution (though the demo is 3D by necessity).\n",
    "\n",
    "I want to find the coordinates for $x$, such that the distance between $x$ and $z$ is minimized. That is,\n",
    "\n",
    "$$\n",
    "\\begin{equation*}\n",
    "\\begin{aligned}\n",
    "\\min_{x} \\quad & \\tfrac{1}{2}||\\bm{x} - \\bm{z}||^2_2 \\\\\n",
    "\\text{s.t.} \\quad  & \\bm{w}^\\intercal \\bm{x} + v = 0 \\\\\n",
    "\\end{aligned}\n",
    "\\end{equation*}\n",
    "$$\n",
    "\n",
    "And, to be very clear: only the coordinates of $\\bm{x}$ are variables; the rest are defined values for the problem. We'll talk a bit more about the objective function below..."
   ]
  },
  {
   "cell_type": "markdown",
   "id": "56c7cb8c",
   "metadata": {},
   "source": [
    "### Lagrange multipliers"
   ]
  },
  {
   "cell_type": "markdown",
   "id": "c0b7958e",
   "metadata": {},
   "source": [
    "My intention was to do this on the board. I may follow up and do this."
   ]
  },
  {
   "cell_type": "markdown",
   "id": "3b7b0e27",
   "metadata": {},
   "source": [
    "### CVXOPT"
   ]
  },
  {
   "cell_type": "markdown",
   "id": "ce2bd960",
   "metadata": {},
   "source": [
    "First, we have to get this into standard form:\n",
    "\n",
    "$$\n",
    "\\begin{array}{ccc}\n",
    "\\begin{aligned}\n",
    "\\min_{x} \\quad & \\tfrac{1}{2}\\|\\mathbf{x} - \\mathbf{z}\\|_2^2 \\\\\n",
    "\\text{s.t.}\\quad & \\mathbf{w}^\\top \\mathbf{x} + v = 0\n",
    "\\end{aligned}\n",
    "&\n",
    "\\qquad \\rightarrow \\qquad\n",
    "&\n",
    "\\begin{aligned}\n",
    "\\min_{\\theta} \\quad & \\tfrac{1}{2}\\theta^\\top P \\theta + q^\\top \\theta + r \\\\\n",
    "\\text{s.t.}\\quad & G\\theta \\preceq h \\\\\n",
    "& A\\theta = b\n",
    "\\end{aligned}\n",
    "\\end{array}\n",
    "$$"
   ]
  },
  {
   "cell_type": "markdown",
   "id": "b56218c7",
   "metadata": {},
   "source": [
    "Again, first I handle the decision variables. What's $\\theta$?\n",
    "\n",
    "Simply, $\\theta$ will be the coordinates of $\\bm{x}$. I'll just use $\\bm{x}$ in this problem, and hope it won't lead to confusion."
   ]
  },
  {
   "cell_type": "markdown",
   "id": "c26dc53d",
   "metadata": {},
   "source": [
    "Next, what are the constraints?\n",
    "\n",
    "There are no inequality constraints, so there's no $G$ or $h$ matrices.\n",
    "\n",
    "There is an equality constraint. We have to do a tiny bit of re-arranging; CVXOPT wants all constant terms on the other side of the sign, so\n",
    "$$\n",
    "\\mathbf{w}^\\top \\mathbf{x} + v = 0 \\quad \\rightarrow \\quad \\mathbf{w}^\\top \\mathbf{x} = -v\n",
    "$$\n",
    "\n",
    "Now, trivially, $b=-v$ and $A=\\mathbf{w}^\\intercal$."
   ]
  },
  {
   "cell_type": "markdown",
   "id": "ddd0d1e1",
   "metadata": {},
   "source": [
    "Now for the objective function: $\\tfrac{1}{2}||\\mathbf{x} - \\mathbf{z}||_2^2$\n",
    "\n",
    "This seems a bit odd. It's not *just* the distance function; it's half the distance function, squared. However, consider it for a moment. Both the one-half and the squaring preserve where the minimum occurs. <small><small>What's more, it works as a math problem with this interpretation and would likely be a pain without it.</small></small>\n",
    "\n",
    "This distance is equivalent to the dot product of $\\mathbf{x} - \\mathbf{z}$ with itself:\n",
    "$$\n",
    "\\begin{align*}\n",
    "    \\tfrac{1}{2}||\\mathbf{x} - \\mathbf{z}||_2^2 \n",
    "        &= \\tfrac{1}{2}(\\bm{x}-\\bm{z})^\\intercal(\\bm{x}-\\bm{z}) \\\\\n",
    "        &= \\tfrac{1}{2}\n",
    "            \\left(\n",
    "                \\bm{x}^\\intercal\\bm{x}\n",
    "                - 2\\bm{z}^\\intercal\\bm{x}\n",
    "                + \\bm{z}^\\intercal\\bm{z}\n",
    "            \\right) //\n",
    "        &= \\tfrac{1}{2}\\bm{x}^\\intercal\\bm{x} - \\bm{z}^\\intercal\\bm{x} + \\tfrac{1}{2}\\bm{z}^\\intercal\\bm{z}\n",
    "\\end{align*}\n",
    "$$\n",
    "\n",
    "Recalling that $\\bm{z}$ is a constant, it's fairly straightforward to see how this fits into CVXOPT's standard form ($\\tfrac{1}{2}\\theta^\\intercal P \\theta + q^\\intercal \\theta +r$).\n",
    "\n",
    "We have $P = I$, $q=\\bm{z}^\\intercal$, and $r$... doesn't matter. It's a constant and doesn't impact the optimization."
   ]
  },
  {
   "cell_type": "markdown",
   "id": "efdbf989",
   "metadata": {},
   "source": [
    "We can now plug in our values: $P = I$, $q=2\\bm{z}^\\intercal$, $A=\\mathbf{w}^\\intercal$ and $b=-v$."
   ]
  },
  {
   "cell_type": "code",
   "execution_count": 7,
   "id": "4fbdef10",
   "metadata": {},
   "outputs": [
    {
     "name": "stdout",
     "output_type": "stream",
     "text": [
      "[-0.06666667  0.46666667 -0.06666667]\n"
     ]
    }
   ],
   "source": [
    "def do_p2(w, v, z):\n",
    "  # Convert from equations of hyperplane and point to standard form\n",
    "  P = np.eye(z.shape[0])  # Objective quadratic terms\n",
    "  q = (-z).reshape(-1,1)  # Objective linear terms (as a COLUMN vector)\n",
    "  A = w                   # Equality constraint\n",
    "  b = np.array(-v)        # Equality constraint\n",
    "\n",
    "  # Rearrange for use with CVXOPT\n",
    "  P, q, A, b = [np.atleast_2d(x) for x in [P, q, A, b]]\n",
    "  P, q, A, b = [x.astype(float) for x in [P, q, A, b]]  \n",
    "  P, q, A, b = [cvxopt.matrix(M) for M in [P, q, A, b]]\n",
    "\n",
    "  # # Rearrange for use with CVXOPT\n",
    "  # P, q, A, b = [\n",
    "  #   cvxopt.matrix(\n",
    "  #     np.atleast_2d(\n",
    "  #       M.astype(float)\n",
    "  #       )\n",
    "  #     ) \n",
    "  #     for M in [P, q, A, b]]\n",
    "\n",
    "  # Actually use CVXOPT\n",
    "  sol = cvxopt.solvers.qp(P, q, A=A, b=b)\n",
    "  x = np.array(sol['x']).flatten()\n",
    "  return x\n",
    "\n",
    "\n",
    "w = np.array([5, 2.5, 5])\n",
    "b = -0.5\n",
    "z = np.array([1, 1, 1.])\n",
    "\n",
    "print(do_p2(w, b, z))"
   ]
  },
  {
   "cell_type": "markdown",
   "id": "b579c9d7",
   "metadata": {},
   "source": [
    "I don't know which form is more clear for the conversion."
   ]
  },
  {
   "cell_type": "markdown",
   "id": "ef509954",
   "metadata": {},
   "source": [
    "### Visualize"
   ]
  },
  {
   "cell_type": "markdown",
   "id": "3748ab35",
   "metadata": {},
   "source": [
    "This time, I'll use Plotly for an interactive 3D figure. To install it: `conda install -c conda-forge plotly`"
   ]
  },
  {
   "cell_type": "code",
   "execution_count": 8,
   "id": "b574b7b0",
   "metadata": {},
   "outputs": [],
   "source": [
    "import plotly.express as px\n",
    "import plotly.graph_objects as go"
   ]
  },
  {
   "cell_type": "code",
   "execution_count": 9,
   "id": "a09a809d",
   "metadata": {},
   "outputs": [],
   "source": [
    "def plot_figure(w, v, z):\n",
    "    # Solve QP problem to find x, the projection of z onto the plane\n",
    "    x = do_p2(w, v, z)\n",
    "\n",
    "    # Validate if x lies on the plane\n",
    "    assert np.isclose(np.dot(w, x) + v, 0), \"x is not on the plane\"\n",
    "\n",
    "    # Create the plot\n",
    "    fig = go.Figure()\n",
    "\n",
    "    # Plot points\n",
    "    fig.add_trace(go.Scatter3d(x=[z[0]], y=[z[1]], z=[z[2]], mode='markers', name='Point z'))\n",
    "    fig.add_trace(go.Scatter3d(x=[x[0]], y=[x[1]], z=[x[2]], mode='markers', name='Projection x'))\n",
    "\n",
    "    # Determine the plane\n",
    "    xx, yy = np.meshgrid(np.linspace(-2, 2, 50), np.linspace(-2, 2, 50))\n",
    "    zz = (-w[0] * xx - w[1] * yy - v) / w[2]\n",
    "\n",
    "    # Plot the plane\n",
    "    fig.add_trace(go.Surface(z=zz, x=xx, y=yy, opacity=0.5, name='Plane'))\n",
    "\n",
    "    # Customize layout\n",
    "    fig.update_layout(scene=dict(xaxis_title='X',\n",
    "                                 yaxis_title='Y',\n",
    "                                 zaxis_title='Z',\n",
    "                                 xaxis=dict(range=[-2, 2]),\n",
    "                                 yaxis=dict(range=[-2, 2]),\n",
    "                                 zaxis=dict(range=[-2, 2]),\n",
    "                                 aspectmode='cube'),\n",
    "                      margin=dict(l=0, r=0, b=0, t=0))\n",
    "\n",
    "    fig.show()"
   ]
  },
  {
   "cell_type": "code",
   "execution_count": 10,
   "id": "f07375c0",
   "metadata": {},
   "outputs": [
    {
     "data": {
      "application/vnd.plotly.v1+json": {
       "config": {
        "plotlyServerURL": "https://plot.ly"
       },
       "data": [
        {
         "mode": "markers",
         "name": "Point z",
         "type": "scatter3d",
         "x": [
          1
         ],
         "y": [
          1
         ],
         "z": [
          1
         ]
        },
        {
         "mode": "markers",
         "name": "Projection x",
         "type": "scatter3d",
         "x": [
          -0.15555555555555564
         ],
         "y": [
          0.42222222222222217
         ],
         "z": [
          -0.15555555555555564
         ]
        },
        {
         "name": "Plane",
         "opacity": 0.5,
         "type": "surface",
         "x": {
          "bdata": "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",
          "dtype": "f8",
          "shape": "50, 50"
         },
         "y": {
          "bdata": "AAAAAAAAAMAAAAAAAAAAwAAAAAAAAADAAAAAAAAAAMAAAAAAAAAAwAAAAAAAAADAAAAAAAAAAMAAAAAAAAAAwAAAAAAAAADAAAAAAAAAAMAAAAAAAAAAwAAAAAAAAADAAAAAAAAAAMAAAAAAAAAAwAAAAAAAAADAAAAAAAAAAMAAAAAAAAAAwAAAAAAAAADAAAAAAAAAAMAAAAAAAAAAwAAAAAAAAADAAAAAAAAAAMAAAAAAAAAAwAAAAAAAAADAAAAAAAAAAMAAAAAAAAAAwAAAAAAAAADAAAAAAAAAAMAAAAAAAAAAwAAAAAAAAADAAAAAAAAAAMAAAAAAAAAAwAAAAAAAAADAAAAAAAAAAMAAAAAAAAAAwAAAAAAAAADAAAAAAAAAAMAAAAAAAAAAwAAAAAAAAADAAAAAAAAAAMAAAAAAAAAAwAAAAAAAAADAAAAAAAAAAMAAAAAAAAAAwAAAAAAAAADAAAAAAAAAAMAAAAAAAAAAwAAAAAAAAADAAAAAAAAAAMAAAAAAAAAAwKwPjfWhsf6/rA+N9aGx/r+sD431obH+v6wPjfWhsf6/rA+N9aGx/r+sD431obH+v6wPjfWhsf6/rA+N9aGx/r+sD431obH+v6wPjfWhsf6/rA+N9aGx/r+sD431obH+v6wPjfWhsf6/rA+N9aGx/r+sD431obH+v6wPjfWhsf6/rA+N9aGx/r+sD431obH+v6wPjfWhsf6/rA+N9aGx/r+sD431obH+v6wPjfWhsf6/rA+N9aGx/r+sD431obH+v6wPjfWhsf6/rA+N9aGx/r+sD431obH+v6wPjfWhsf6/rA+N9aGx/r+sD431obH+v6wPjfWhsf6/rA+N9aGx/r+sD431obH+v6wPjfWhsf6/rA+N9aGx/r+sD431obH+v6wPjfWhsf6/rA+N9aGx/r+sD431obH+v6wPjfWhsf6/rA+N9aGx/r+sD431obH+v6wPjfWhsf6/rA+N9aGx/r+sD431obH+v6wPjfWhsf6/rA+N9aGx/r+sD431obH+v6wPjfWhsf6/rA+N9aGx/r9ZHxrrQ2P9v1kfGutDY/2/WR8a60Nj/b9ZHxrrQ2P9v1kfGutDY/2/WR8a60Nj/b9ZHxrrQ2P9v1kfGutDY/2/WR8a60Nj/b9ZHxrrQ2P9v1kfGutDY/2/WR8a60Nj/b9ZHxrrQ2P9v1kfGutDY/2/WR8a60Nj/b9ZHxrrQ2P9v1kfGutDY/2/WR8a60Nj/b9ZHxrrQ2P9v1kfGutDY/2/WR8a60Nj/b9ZHxrrQ2P9v1kfGutDY/2/WR8a60Nj/b9ZHxrrQ2P9v1kfGutDY/2/WR8a60Nj/b9ZHxrrQ2P9v1kfGutDY/2/WR8a60Nj/b9ZHxrrQ2P9v1kfGutDY/2/WR8a60Nj/b9ZHxrrQ2P9v1kfGutDY/2/WR8a60Nj/b9ZHxrrQ2P9v1kfGutDY/2/WR8a60Nj/b9ZHxrrQ2P9v1kfGutDY/2/WR8a60Nj/b9ZHxrrQ2P9v1kfGutDY/2/WR8a60Nj/b9ZHxrrQ2P9v1kfGutDY/2/WR8a60Nj/b9ZHxrrQ2P9v1kfGutDY/2/BS+n4OUU/L8FL6fg5RT8vwUvp+DlFPy/BS+n4OUU/L8FL6fg5RT8vwUvp+DlFPy/BS+n4OUU/L8FL6fg5RT8vwUvp+DlFPy/BS+n4OUU/L8FL6fg5RT8vwUvp+DlFPy/BS+n4OUU/L8FL6fg5RT8vwUvp+DlFPy/BS+n4OUU/L8FL6fg5RT8vwUvp+DlFPy/BS+n4OUU/L8FL6fg5RT8vwUvp+DlFPy/BS+n4OUU/L8FL6fg5RT8vwUvp+DlFPy/BS+n4OUU/L8FL6fg5RT8vwUvp+DlFPy/BS+n4OUU/L8FL6fg5RT8vwUvp+DlFPy/BS+n4OUU/L8FL6fg5RT8vwUvp+DlFPy/BS+n4OUU/L8FL6fg5RT8vwUvp+DlFPy/BS+n4OUU/L8FL6fg5RT8vwUvp+DlFPy/BS+n4OUU/L8FL6fg5RT8vwUvp+DlFPy/BS+n4OUU/L8FL6fg5RT8vwUvp+DlFPy/BS+n4OUU/L8FL6fg5RT8vwUvp+DlFPy/BS+n4OUU/L8FL6fg5RT8v7I+NNaHxvq/sj401ofG+r+yPjTWh8b6v7I+NNaHxvq/sj401ofG+r+yPjTWh8b6v7I+NNaHxvq/sj401ofG+r+yPjTWh8b6v7I+NNaHxvq/sj401ofG+r+yPjTWh8b6v7I+NNaHxvq/sj401ofG+r+yPjTWh8b6v7I+NNaHxvq/sj401ofG+r+yPjTWh8b6v7I+NNaHxvq/sj401ofG+r+yPjTWh8b6v7I+NNaHxvq/sj401ofG+r+yPjTWh8b6v7I+NNaHxvq/sj401ofG+r+yPjTWh8b6v7I+NNaHxvq/sj401ofG+r+yPjTWh8b6v7I+NNaHxvq/sj401ofG+r+yPjTWh8b6v7I+NNaHxvq/sj401ofG+r+yPjTWh8b6v7I+NNaHxvq/sj401ofG+r+yPjTWh8b6v7I+NNaHxvq/sj401ofG+r+yPjTWh8b6v7I+NNaHxvq/sj401ofG+r+yPjTWh8b6v7I+NNaHxvq/sj401ofG+r+yPjTWh8b6v7I+NNaHxvq/sj401ofG+r9eTsHLKXj5v15OwcspePm/Xk7Byyl4+b9eTsHLKXj5v15OwcspePm/Xk7Byyl4+b9eTsHLKXj5v15OwcspePm/Xk7Byyl4+b9eTsHLKXj5v15OwcspePm/Xk7Byyl4+b9eTsHLKXj5v15OwcspePm/Xk7Byyl4+b9eTsHLKXj5v15OwcspePm/Xk7Byyl4+b9eTsHLKXj5v15OwcspePm/Xk7Byyl4+b9eTsHLKXj5v15OwcspePm/Xk7Byyl4+b9eTsHLKXj5v15OwcspePm/Xk7Byyl4+b9eTsHLKXj5v15OwcspePm/Xk7Byyl4+b9eTsHLKXj5v15OwcspePm/Xk7Byyl4+b9eTsHLKXj5v15OwcspePm/Xk7Byyl4+b9eTsHLKXj5v15OwcspePm/Xk7Byyl4+b9eTsHLKXj5v15OwcspePm/Xk7Byyl4+b9eTsHLKXj5v15OwcspePm/Xk7Byyl4+b9eTsHLKXj5v15OwcspePm/Xk7Byyl4+b9eTsHLKXj5v15OwcspePm/Cl5Owcsp+L8KXk7Byyn4vwpeTsHLKfi/Cl5Owcsp+L8KXk7Byyn4vwpeTsHLKfi/Cl5Owcsp+L8KXk7Byyn4vwpeTsHLKfi/Cl5Owcsp+L8KXk7Byyn4vwpeTsHLKfi/Cl5Owcsp+L8KXk7Byyn4vwpeTsHLKfi/Cl5Owcsp+L8KXk7Byyn4vwpeTsHLKfi/Cl5Owcsp+L8KXk7Byyn4vwpeTsHLKfi/Cl5Owcsp+L8KXk7Byyn4vwpeTsHLKfi/Cl5Owcsp+L8KXk7Byyn4vwpeTsHLKfi/Cl5Owcsp+L8KXk7Byyn4vwpeTsHLKfi/Cl5Owcsp+L8KXk7Byyn4vwpeTsHLKfi/Cl5Owcsp+L8KXk7Byyn4vwpeTsHLKfi/Cl5Owcsp+L8KXk7Byyn4vwpeTsHLKfi/Cl5Owcsp+L8KXk7Byyn4vwpeTsHLKfi/Cl5Owcsp+L8KXk7Byyn4vwpeTsHLKfi/Cl5Owcsp+L8KXk7Byyn4vwpeTsHLKfi/Cl5Owcsp+L8KXk7Byyn4v7dt27Zt2/a/t23btm3b9r+3bdu2bdv2v7dt27Zt2/a/t23btm3b9r+3bdu2bdv2v7dt27Zt2/a/t23btm3b9r+3bdu2bdv2v7dt27Zt2/a/t23btm3b9r+3bdu2bdv2v7dt27Zt2/a/t23btm3b9r+3bdu2bdv2v7dt27Zt2/a/t23btm3b9r+3bdu2bdv2v7dt27Zt2/a/t23btm3b9r+3bdu2bdv2v7dt27Zt2/a/t23btm3b9r+3bdu2bdv2v7dt27Zt2/a/t23btm3b9r+3bdu2bdv2v7dt27Zt2/a/t23btm3b9r+3bdu2bdv2v7dt27Zt2/a/t23btm3b9r+3bdu2bdv2v7dt27Zt2/a/t23btm3b9r+3bdu2bdv2v7dt27Zt2/a/t23btm3b9r+3bdu2bdv2v7dt27Zt2/a/t23btm3b9r+3bdu2bdv2v7dt27Zt2/a/t23btm3b9r+3bdu2bdv2v7dt27Zt2/a/t23btm3b9r+3bdu2bdv2v7dt27Zt2/a/t23btm3b9r9kfWisD431v2R9aKwPjfW/ZH1orA+N9b9kfWisD431v2R9aKwPjfW/ZH1orA+N9b9kfWisD431v2R9aKwPjfW/ZH1orA+N9b9kfWisD431v2R9aKwPjfW/ZH1orA+N9b9kfWisD431v2R9aKwPjfW/ZH1orA+N9b9kfWisD431v2R9aKwPjfW/ZH1orA+N9b9kfWisD431v2R9aKwPjfW/ZH1orA+N9b9kfWisD431v2R9aKwPjfW/ZH1orA+N9b9kfWisD431v2R9aKwPjfW/ZH1orA+N9b9kfWisD431v2R9aKwPjfW/ZH1orA+N9b9kfWisD431v2R9aKwPjfW/ZH1orA+N9b9kfWisD431v2R9aKwPjfW/ZH1orA+N9b9kfWisD431v2R9aKwPjfW/ZH1orA+N9b9kfWisD431v2R9aKwPjfW/ZH1orA+N9b9kfWisD431v2R9aKwPjfW/ZH1orA+N9b9kfWisD431v2R9aKwPjfW/ZH1orA+N9b9kfWisD431v2R9aKwPjfW/EI31obE+9L8QjfWhsT70vxCN9aGxPvS/EI31obE+9L8QjfWhsT70vxCN9aGxPvS/EI31obE+9L8QjfWhsT70vxCN9aGxPvS/EI31obE+9L8QjfWhsT70vxCN9aGxPvS/EI31obE+9L8QjfWhsT70vxCN9aGxPvS/EI31obE+9L8QjfWhsT70vxCN9aGxPvS/EI31obE+9L8QjfWhsT70vxCN9aGxPvS/EI31obE+9L8QjfWhsT70vxCN9aGxPvS/EI31obE+9L8QjfWhsT70vxCN9aGxPvS/EI31obE+9L8QjfWhsT70vxCN9aGxPvS/EI31obE+9L8QjfWhsT70vxCN9aGxPvS/EI31obE+9L8QjfWhsT70vxCN9aGxPvS/EI31obE+9L8QjfWhsT70vxCN9aGxPvS/EI31obE+9L8QjfWhsT70vxCN9aGxPvS/EI31obE+9L8QjfWhsT70vxCN9aGxPvS/EI31obE+9L8QjfWhsT70vxCN9aGxPvS/EI31obE+9L8QjfWhsT70v7ycgpdT8PK/vJyCl1Pw8r+8nIKXU/Dyv7ycgpdT8PK/vJyCl1Pw8r+8nIKXU/Dyv7ycgpdT8PK/vJyCl1Pw8r+8nIKXU/Dyv7ycgpdT8PK/vJyCl1Pw8r+8nIKXU/Dyv7ycgpdT8PK/vJyCl1Pw8r+8nIKXU/Dyv7ycgpdT8PK/vJyCl1Pw8r+8nIKXU/Dyv7ycgpdT8PK/vJyCl1Pw8r+8nIKXU/Dyv7ycgpdT8PK/vJyCl1Pw8r+8nIKXU/Dyv7ycgpdT8PK/vJyCl1Pw8r+8nIKXU/Dyv7ycgpdT8PK/vJyCl1Pw8r+8nIKXU/Dyv7ycgpdT8PK/vJyCl1Pw8r+8nIKXU/Dyv7ycgpdT8PK/vJyCl1Pw8r+8nIKXU/Dyv7ycgpdT8PK/vJyCl1Pw8r+8nIKXU/Dyv7ycgpdT8PK/vJyCl1Pw8r+8nIKXU/Dyv7ycgpdT8PK/vJyCl1Pw8r+8nIKXU/Dyv7ycgpdT8PK/vJyCl1Pw8r+8nIKXU/Dyv7ycgpdT8PK/vJyCl1Pw8r9prA+N9aHxv2msD431ofG/aawPjfWh8b9prA+N9aHxv2msD431ofG/aawPjfWh8b9prA+N9aHxv2msD431ofG/aawPjfWh8b9prA+N9aHxv2msD431ofG/aawPjfWh8b9prA+N9aHxv2msD431ofG/aawPjfWh8b9prA+N9aHxv2msD431ofG/aawPjfWh8b9prA+N9aHxv2msD431ofG/aawPjfWh8b9prA+N9aHxv2msD431ofG/aawPjfWh8b9prA+N9aHxv2msD431ofG/aawPjfWh8b9prA+N9aHxv2msD431ofG/aawPjfWh8b9prA+N9aHxv2msD431ofG/aawPjfWh8b9prA+N9aHxv2msD431ofG/aawPjfWh8b9prA+N9aHxv2msD431ofG/aawPjfWh8b9prA+N9aHxv2msD431ofG/aawPjfWh8b9prA+N9aHxv2msD431ofG/aawPjfWh8b9prA+N9aHxv2msD431ofG/aawPjfWh8b9prA+N9aHxv2msD431ofG/FbycgpdT8L8VvJyCl1PwvxW8nIKXU/C/FbycgpdT8L8VvJyCl1PwvxW8nIKXU/C/FbycgpdT8L8VvJyCl1PwvxW8nIKXU/C/FbycgpdT8L8VvJyCl1PwvxW8nIKXU/C/FbycgpdT8L8VvJyCl1PwvxW8nIKXU/C/FbycgpdT8L8VvJyCl1PwvxW8nIKXU/C/FbycgpdT8L8VvJyCl1PwvxW8nIKXU/C/FbycgpdT8L8VvJyCl1PwvxW8nIKXU/C/FbycgpdT8L8VvJyCl1PwvxW8nIKXU/C/FbycgpdT8L8VvJyCl1PwvxW8nIKXU/C/FbycgpdT8L8VvJyCl1PwvxW8nIKXU/C/FbycgpdT8L8VvJyCl1PwvxW8nIKXU/C/FbycgpdT8L8VvJyCl1PwvxW8nIKXU/C/FbycgpdT8L8VvJyCl1PwvxW8nIKXU/C/FbycgpdT8L8VvJyCl1PwvxW8nIKXU/C/FbycgpdT8L8VvJyCl1PwvxW8nIKXU/C/FbycgpdT8L8VvJyCl1Pwv4SXU/ByCu6/hJdT8HIK7r+El1Pwcgruv4SXU/ByCu6/hJdT8HIK7r+El1Pwcgruv4SXU/ByCu6/hJdT8HIK7r+El1Pwcgruv4SXU/ByCu6/hJdT8HIK7r+El1Pwcgruv4SXU/ByCu6/hJdT8HIK7r+El1Pwcgruv4SXU/ByCu6/hJdT8HIK7r+El1Pwcgruv4SXU/ByCu6/hJdT8HIK7r+El1Pwcgruv4SXU/ByCu6/hJdT8HIK7r+El1Pwcgruv4SXU/ByCu6/hJdT8HIK7r+El1Pwcgruv4SXU/ByCu6/hJdT8HIK7r+El1Pwcgruv4SXU/ByCu6/hJdT8HIK7r+El1Pwcgruv4SXU/ByCu6/hJdT8HIK7r+El1Pwcgruv4SXU/ByCu6/hJdT8HIK7r+El1Pwcgruv4SXU/ByCu6/hJdT8HIK7r+El1Pwcgruv4SXU/ByCu6/hJdT8HIK7r+El1Pwcgruv4SXU/ByCu6/hJdT8HIK7r+El1Pwcgruv4SXU/ByCu6/hJdT8HIK7r/ctm3btm3rv9y2bdu2beu/3LZt27Zt67/ctm3btm3rv9y2bdu2beu/3LZt27Zt67/ctm3btm3rv9y2bdu2beu/3LZt27Zt67/ctm3btm3rv9y2bdu2beu/3LZt27Zt67/ctm3btm3rv9y2bdu2beu/3LZt27Zt67/ctm3btm3rv9y2bdu2beu/3LZt27Zt67/ctm3btm3rv9y2bdu2beu/3LZt27Zt67/ctm3btm3rv9y2bdu2beu/3LZt27Zt67/ctm3btm3rv9y2bdu2beu/3LZt27Zt67/ctm3btm3rv9y2bdu2beu/3LZt27Zt67/ctm3btm3rv9y2bdu2beu/3LZt27Zt67/ctm3btm3rv9y2bdu2beu/3LZt27Zt67/ctm3btm3rv9y2bdu2beu/3LZt27Zt67/ctm3btm3rv9y2bdu2beu/3LZt27Zt67/ctm3btm3rv9y2bdu2beu/3LZt27Zt67/ctm3btm3rv9y2bdu2beu/3LZt27Zt67/ctm3btm3rv9y2bdu2beu/NtaHxvrQ6L821ofG+tDovzbWh8b60Oi/NtaHxvrQ6L821ofG+tDovzbWh8b60Oi/NtaHxvrQ6L821ofG+tDovzbWh8b60Oi/NtaHxvrQ6L821ofG+tDovzbWh8b60Oi/NtaHxvrQ6L821ofG+tDovzbWh8b60Oi/NtaHxvrQ6L821ofG+tDovzbWh8b60Oi/NtaHxvrQ6L821ofG+tDovzbWh8b60Oi/NtaHxvrQ6L821ofG+tDovzbWh8b60Oi/NtaHxvrQ6L821ofG+tDovzbWh8b60Oi/NtaHxvrQ6L821ofG+tDovzbWh8b60Oi/NtaHxvrQ6L821ofG+tDovzbWh8b60Oi/NtaHxvrQ6L821ofG+tDovzbWh8b60Oi/NtaHxvrQ6L821ofG+tDovzbWh8b60Oi/NtaHxvrQ6L821ofG+tDovzbWh8b60Oi/NtaHxvrQ6L821ofG+tDovzbWh8b60Oi/NtaHxvrQ6L821ofG+tDovzbWh8b60Oi/NtaHxvrQ6L821ofG+tDov471obE+NOa/jvWhsT405r+O9aGxPjTmv471obE+NOa/jvWhsT405r+O9aGxPjTmv471obE+NOa/jvWhsT405r+O9aGxPjTmv471obE+NOa/jvWhsT405r+O9aGxPjTmv471obE+NOa/jvWhsT405r+O9aGxPjTmv471obE+NOa/jvWhsT405r+O9aGxPjTmv471obE+NOa/jvWhsT405r+O9aGxPjTmv471obE+NOa/jvWhsT405r+O9aGxPjTmv471obE+NOa/jvWhsT405r+O9aGxPjTmv471obE+NOa/jvWhsT405r+O9aGxPjTmv471obE+NOa/jvWhsT405r+O9aGxPjTmv471obE+NOa/jvWhsT405r+O9aGxPjTmv471obE+NOa/jvWhsT405r+O9aGxPjTmv471obE+NOa/jvWhsT405r+O9aGxPjTmv471obE+NOa/jvWhsT405r+O9aGxPjTmv471obE+NOa/jvWhsT405r+O9aGxPjTmv471obE+NOa/jvWhsT405r/mFLycgpfjv+YUvJyCl+O/5hS8nIKX47/mFLycgpfjv+YUvJyCl+O/5hS8nIKX47/mFLycgpfjv+YUvJyCl+O/5hS8nIKX47/mFLycgpfjv+YUvJyCl+O/5hS8nIKX47/mFLycgpfjv+YUvJyCl+O/5hS8nIKX47/mFLycgpfjv+YUvJyCl+O/5hS8nIKX47/mFLycgpfjv+YUvJyCl+O/5hS8nIKX47/mFLycgpfjv+YUvJyCl+O/5hS8nIKX47/mFLycgpfjv+YUvJyCl+O/5hS8nIKX47/mFLycgpfjv+YUvJyCl+O/5hS8nIKX47/mFLycgpfjv+YUvJyCl+O/5hS8nIKX47/mFLycgpfjv+YUvJyCl+O/5hS8nIKX47/mFLycgpfjv+YUvJyCl+O/5hS8nIKX47/mFLycgpfjv+YUvJyCl+O/5hS8nIKX47/mFLycgpfjv+YUvJyCl+O/5hS8nIKX47/mFLycgpfjv+YUvJyCl+O/5hS8nIKX47/mFLycgpfjv+YUvJyCl+O/QDTWh8b64L9ANNaHxvrgv0A01ofG+uC/QDTWh8b64L9ANNaHxvrgv0A01ofG+uC/QDTWh8b64L9ANNaHxvrgv0A01ofG+uC/QDTWh8b64L9ANNaHxvrgv0A01ofG+uC/QDTWh8b64L9ANNaHxvrgv0A01ofG+uC/QDTWh8b64L9ANNaHxvrgv0A01ofG+uC/QDTWh8b64L9ANNaHxvrgv0A01ofG+uC/QDTWh8b64L9ANNaHxvrgv0A01ofG+uC/QDTWh8b64L9ANNaHxvrgv0A01ofG+uC/QDTWh8b64L9ANNaHxvrgv0A01ofG+uC/QDTWh8b64L9ANNaHxvrgv0A01ofG+uC/QDTWh8b64L9ANNaHxvrgv0A01ofG+uC/QDTWh8b64L9ANNaHxvrgv0A01ofG+uC/QDTWh8b64L9ANNaHxvrgv0A01ofG+uC/QDTWh8b64L9ANNaHxvrgv0A01ofG+uC/QDTWh8b64L9ANNaHxvrgv0A01ofG+uC/QDTWh8b64L9ANNaHxvrgvzCn4OUUvNy/MKfg5RS83L8wp+DlFLzcvzCn4OUUvNy/MKfg5RS83L8wp+DlFLzcvzCn4OUUvNy/MKfg5RS83L8wp+DlFLzcvzCn4OUUvNy/MKfg5RS83L8wp+DlFLzcvzCn4OUUvNy/MKfg5RS83L8wp+DlFLzcvzCn4OUUvNy/MKfg5RS83L8wp+DlFLzcvzCn4OUUvNy/MKfg5RS83L8wp+DlFLzcvzCn4OUUvNy/MKfg5RS83L8wp+DlFLzcvzCn4OUUvNy/MKfg5RS83L8wp+DlFLzcvzCn4OUUvNy/MKfg5RS83L8wp+DlFLzcvzCn4OUUvNy/MKfg5RS83L8wp+DlFLzcvzCn4OUUvNy/MKfg5RS83L8wp+DlFLzcvzCn4OUUvNy/MKfg5RS83L8wp+DlFLzcvzCn4OUUvNy/MKfg5RS83L8wp+DlFLzcvzCn4OUUvNy/MKfg5RS83L8wp+DlFLzcvzCn4OUUvNy/MKfg5RS83L8wp+DlFLzcvzCn4OUUvNy/MKfg5RS83L/k5RS8nILXv+TlFLycgte/5OUUvJyC17/k5RS8nILXv+TlFLycgte/5OUUvJyC17/k5RS8nILXv+TlFLycgte/5OUUvJyC17/k5RS8nILXv+TlFLycgte/5OUUvJyC17/k5RS8nILXv+TlFLycgte/5OUUvJyC17/k5RS8nILXv+TlFLycgte/5OUUvJyC17/k5RS8nILXv+TlFLycgte/5OUUvJyC17/k5RS8nILXv+TlFLycgte/5OUUvJyC17/k5RS8nILXv+TlFLycgte/5OUUvJyC17/k5RS8nILXv+TlFLycgte/5OUUvJyC17/k5RS8nILXv+TlFLycgte/5OUUvJyC17/k5RS8nILXv+TlFLycgte/5OUUvJyC17/k5RS8nILXv+TlFLycgte/5OUUvJyC17/k5RS8nILXv+TlFLycgte/5OUUvJyC17/k5RS8nILXv+TlFLycgte/5OUUvJyC17/k5RS8nILXv+TlFLycgte/5OUUvJyC17/k5RS8nILXv+TlFLycgte/lCRJkiRJ0r+UJEmSJEnSv5QkSZIkSdK/lCRJkiRJ0r+UJEmSJEnSv5QkSZIkSdK/lCRJkiRJ0r+UJEmSJEnSv5QkSZIkSdK/lCRJkiRJ0r+UJEmSJEnSv5QkSZIkSdK/lCRJkiRJ0r+UJEmSJEnSv5QkSZIkSdK/lCRJkiRJ0r+UJEmSJEnSv5QkSZIkSdK/lCRJkiRJ0r+UJEmSJEnSv5QkSZIkSdK/lCRJkiRJ0r+UJEmSJEnSv5QkSZIkSdK/lCRJkiRJ0r+UJEmSJEnSv5QkSZIkSdK/lCRJkiRJ0r+UJEmSJEnSv5QkSZIkSdK/lCRJkiRJ0r+UJEmSJEnSv5QkSZIkSdK/lCRJkiRJ0r+UJEmSJEnSv5QkSZIkSdK/lCRJkiRJ0r+UJEmSJEnSv5QkSZIkSdK/lCRJkiRJ0r+UJEmSJEnSv5QkSZIkSdK/lCRJkiRJ0r+UJEmSJEnSv5QkSZIkSdK/lCRJkiRJ0r+UJEmSJEnSv5QkSZIkSdK/lCRJkiRJ0r+UJEmSJEnSv5DG+tBYH8q/kMb60Fgfyr+QxvrQWB/Kv5DG+tBYH8q/kMb60Fgfyr+QxvrQWB/Kv5DG+tBYH8q/kMb60Fgfyr+QxvrQWB/Kv5DG+tBYH8q/kMb60Fgfyr+QxvrQWB/Kv5DG+tBYH8q/kMb60Fgfyr+QxvrQWB/Kv5DG+tBYH8q/kMb60Fgfyr+QxvrQWB/Kv5DG+tBYH8q/kMb60Fgfyr+QxvrQWB/Kv5DG+tBYH8q/kMb60Fgfyr+QxvrQWB/Kv5DG+tBYH8q/kMb60Fgfyr+QxvrQWB/Kv5DG+tBYH8q/kMb60Fgfyr+QxvrQWB/Kv5DG+tBYH8q/kMb60Fgfyr+QxvrQWB/Kv5DG+tBYH8q/kMb60Fgfyr+QxvrQWB/Kv5DG+tBYH8q/kMb60Fgfyr+QxvrQWB/Kv5DG+tBYH8q/kMb60Fgfyr+QxvrQWB/Kv5DG+tBYH8q/kMb60Fgfyr+QxvrQWB/Kv5DG+tBYH8q/kMb60Fgfyr+QxvrQWB/Kv5DG+tBYH8q/kMb60Fgfyr/gh8b60Fi/v+CHxvrQWL+/4IfG+tBYv7/gh8b60Fi/v+CHxvrQWL+/4IfG+tBYv7/gh8b60Fi/v+CHxvrQWL+/4IfG+tBYv7/gh8b60Fi/v+CHxvrQWL+/4IfG+tBYv7/gh8b60Fi/v+CHxvrQWL+/4IfG+tBYv7/gh8b60Fi/v+CHxvrQWL+/4IfG+tBYv7/gh8b60Fi/v+CHxvrQWL+/4IfG+tBYv7/gh8b60Fi/v+CHxvrQWL+/4IfG+tBYv7/gh8b60Fi/v+CHxvrQWL+/4IfG+tBYv7/gh8b60Fi/v+CHxvrQWL+/4IfG+tBYv7/gh8b60Fi/v+CHxvrQWL+/4IfG+tBYv7/gh8b60Fi/v+CHxvrQWL+/4IfG+tBYv7/gh8b60Fi/v+CHxvrQWL+/4IfG+tBYv7/gh8b60Fi/v+CHxvrQWL+/4IfG+tBYv7/gh8b60Fi/v+CHxvrQWL+/4IfG+tBYv7/gh8b60Fi/v+CHxvrQWL+/4IfG+tBYv7/gh8b60Fi/v+CHxvrQWL+/QAUvp+DlpL9ABS+n4OWkv0AFL6fg5aS/QAUvp+DlpL9ABS+n4OWkv0AFL6fg5aS/QAUvp+DlpL9ABS+n4OWkv0AFL6fg5aS/QAUvp+DlpL9ABS+n4OWkv0AFL6fg5aS/QAUvp+DlpL9ABS+n4OWkv0AFL6fg5aS/QAUvp+DlpL9ABS+n4OWkv0AFL6fg5aS/QAUvp+DlpL9ABS+n4OWkv0AFL6fg5aS/QAUvp+DlpL9ABS+n4OWkv0AFL6fg5aS/QAUvp+DlpL9ABS+n4OWkv0AFL6fg5aS/QAUvp+DlpL9ABS+n4OWkv0AFL6fg5aS/QAUvp+DlpL9ABS+n4OWkv0AFL6fg5aS/QAUvp+DlpL9ABS+n4OWkv0AFL6fg5aS/QAUvp+DlpL9ABS+n4OWkv0AFL6fg5aS/QAUvp+DlpL9ABS+n4OWkv0AFL6fg5aS/QAUvp+DlpL9ABS+n4OWkv0AFL6fg5aS/QAUvp+DlpL9ABS+n4OWkv0AFL6fg5aS/QAUvp+DlpL9ABS+n4OWkv0AFL6fg5aQ/QAUvp+DlpD9ABS+n4OWkP0AFL6fg5aQ/QAUvp+DlpD9ABS+n4OWkP0AFL6fg5aQ/QAUvp+DlpD9ABS+n4OWkP0AFL6fg5aQ/QAUvp+DlpD9ABS+n4OWkP0AFL6fg5aQ/QAUvp+DlpD9ABS+n4OWkP0AFL6fg5aQ/QAUvp+DlpD9ABS+n4OWkP0AFL6fg5aQ/QAUvp+DlpD9ABS+n4OWkP0AFL6fg5aQ/QAUvp+DlpD9ABS+n4OWkP0AFL6fg5aQ/QAUvp+DlpD9ABS+n4OWkP0AFL6fg5aQ/QAUvp+DlpD9ABS+n4OWkP0AFL6fg5aQ/QAUvp+DlpD9ABS+n4OWkP0AFL6fg5aQ/QAUvp+DlpD9ABS+n4OWkP0AFL6fg5aQ/QAUvp+DlpD9ABS+n4OWkP0AFL6fg5aQ/QAUvp+DlpD9ABS+n4OWkP0AFL6fg5aQ/QAUvp+DlpD9ABS+n4OWkP0AFL6fg5aQ/QAUvp+DlpD9ABS+n4OWkP0AFL6fg5aQ/QAUvp+DlpD/Ah8b60Fi/P8CHxvrQWL8/wIfG+tBYvz/Ah8b60Fi/P8CHxvrQWL8/wIfG+tBYvz/Ah8b60Fi/P8CHxvrQWL8/wIfG+tBYvz/Ah8b60Fi/P8CHxvrQWL8/wIfG+tBYvz/Ah8b60Fi/P8CHxvrQWL8/wIfG+tBYvz/Ah8b60Fi/P8CHxvrQWL8/wIfG+tBYvz/Ah8b60Fi/P8CHxvrQWL8/wIfG+tBYvz/Ah8b60Fi/P8CHxvrQWL8/wIfG+tBYvz/Ah8b60Fi/P8CHxvrQWL8/wIfG+tBYvz/Ah8b60Fi/P8CHxvrQWL8/wIfG+tBYvz/Ah8b60Fi/P8CHxvrQWL8/wIfG+tBYvz/Ah8b60Fi/P8CHxvrQWL8/wIfG+tBYvz/Ah8b60Fi/P8CHxvrQWL8/wIfG+tBYvz/Ah8b60Fi/P8CHxvrQWL8/wIfG+tBYvz/Ah8b60Fi/P8CHxvrQWL8/wIfG+tBYvz/Ah8b60Fi/P8CHxvrQWL8/wIfG+tBYvz/Ah8b60Fi/P8CHxvrQWL8/gMb60Fgfyj+AxvrQWB/KP4DG+tBYH8o/gMb60Fgfyj+AxvrQWB/KP4DG+tBYH8o/gMb60Fgfyj+AxvrQWB/KP4DG+tBYH8o/gMb60Fgfyj+AxvrQWB/KP4DG+tBYH8o/gMb60Fgfyj+AxvrQWB/KP4DG+tBYH8o/gMb60Fgfyj+AxvrQWB/KP4DG+tBYH8o/gMb60Fgfyj+AxvrQWB/KP4DG+tBYH8o/gMb60Fgfyj+AxvrQWB/KP4DG+tBYH8o/gMb60Fgfyj+AxvrQWB/KP4DG+tBYH8o/gMb60Fgfyj+AxvrQWB/KP4DG+tBYH8o/gMb60Fgfyj+AxvrQWB/KP4DG+tBYH8o/gMb60Fgfyj+AxvrQWB/KP4DG+tBYH8o/gMb60Fgfyj+AxvrQWB/KP4DG+tBYH8o/gMb60Fgfyj+AxvrQWB/KP4DG+tBYH8o/gMb60Fgfyj+AxvrQWB/KP4DG+tBYH8o/gMb60Fgfyj+AxvrQWB/KP4DG+tBYH8o/gMb60Fgfyj+AxvrQWB/KP5AkSZIkSdI/kCRJkiRJ0j+QJEmSJEnSP5AkSZIkSdI/kCRJkiRJ0j+QJEmSJEnSP5AkSZIkSdI/kCRJkiRJ0j+QJEmSJEnSP5AkSZIkSdI/kCRJkiRJ0j+QJEmSJEnSP5AkSZIkSdI/kCRJkiRJ0j+QJEmSJEnSP5AkSZIkSdI/kCRJkiRJ0j+QJEmSJEnSP5AkSZIkSdI/kCRJkiRJ0j+QJEmSJEnSP5AkSZIkSdI/kCRJkiRJ0j+QJEmSJEnSP5AkSZIkSdI/kCRJkiRJ0j+QJEmSJEnSP5AkSZIkSdI/kCRJkiRJ0j+QJEmSJEnSP5AkSZIkSdI/kCRJkiRJ0j+QJEmSJEnSP5AkSZIkSdI/kCRJkiRJ0j+QJEmSJEnSP5AkSZIkSdI/kCRJkiRJ0j+QJEmSJEnSP5AkSZIkSdI/kCRJkiRJ0j+QJEmSJEnSP5AkSZIkSdI/kCRJkiRJ0j+QJEmSJEnSP5AkSZIkSdI/kCRJkiRJ0j+QJEmSJEnSP5AkSZIkSdI/kCRJkiRJ0j/g5RS8nILXP+DlFLycgtc/4OUUvJyC1z/g5RS8nILXP+DlFLycgtc/4OUUvJyC1z/g5RS8nILXP+DlFLycgtc/4OUUvJyC1z/g5RS8nILXP+DlFLycgtc/4OUUvJyC1z/g5RS8nILXP+DlFLycgtc/4OUUvJyC1z/g5RS8nILXP+DlFLycgtc/4OUUvJyC1z/g5RS8nILXP+DlFLycgtc/4OUUvJyC1z/g5RS8nILXP+DlFLycgtc/4OUUvJyC1z/g5RS8nILXP+DlFLycgtc/4OUUvJyC1z/g5RS8nILXP+DlFLycgtc/4OUUvJyC1z/g5RS8nILXP+DlFLycgtc/4OUUvJyC1z/g5RS8nILXP+DlFLycgtc/4OUUvJyC1z/g5RS8nILXP+DlFLycgtc/4OUUvJyC1z/g5RS8nILXP+DlFLycgtc/4OUUvJyC1z/g5RS8nILXP+DlFLycgtc/4OUUvJyC1z/g5RS8nILXP+DlFLycgtc/4OUUvJyC1z/g5RS8nILXP+DlFLycgtc/KKfg5RS83D8op+DlFLzcPyin4OUUvNw/KKfg5RS83D8op+DlFLzcPyin4OUUvNw/KKfg5RS83D8op+DlFLzcPyin4OUUvNw/KKfg5RS83D8op+DlFLzcPyin4OUUvNw/KKfg5RS83D8op+DlFLzcPyin4OUUvNw/KKfg5RS83D8op+DlFLzcPyin4OUUvNw/KKfg5RS83D8op+DlFLzcPyin4OUUvNw/KKfg5RS83D8op+DlFLzcPyin4OUUvNw/KKfg5RS83D8op+DlFLzcPyin4OUUvNw/KKfg5RS83D8op+DlFLzcPyin4OUUvNw/KKfg5RS83D8op+DlFLzcPyin4OUUvNw/KKfg5RS83D8op+DlFLzcPyin4OUUvNw/KKfg5RS83D8op+DlFLzcPyin4OUUvNw/KKfg5RS83D8op+DlFLzcPyin4OUUvNw/KKfg5RS83D8op+DlFLzcPyin4OUUvNw/KKfg5RS83D8op+DlFLzcPyin4OUUvNw/KKfg5RS83D8op+DlFLzcPzw01ofG+uA/PDTWh8b64D88NNaHxvrgPzw01ofG+uA/PDTWh8b64D88NNaHxvrgPzw01ofG+uA/PDTWh8b64D88NNaHxvrgPzw01ofG+uA/PDTWh8b64D88NNaHxvrgPzw01ofG+uA/PDTWh8b64D88NNaHxvrgPzw01ofG+uA/PDTWh8b64D88NNaHxvrgPzw01ofG+uA/PDTWh8b64D88NNaHxvrgPzw01ofG+uA/PDTWh8b64D88NNaHxvrgPzw01ofG+uA/PDTWh8b64D88NNaHxvrgPzw01ofG+uA/PDTWh8b64D88NNaHxvrgPzw01ofG+uA/PDTWh8b64D88NNaHxvrgPzw01ofG+uA/PDTWh8b64D88NNaHxvrgPzw01ofG+uA/PDTWh8b64D88NNaHxvrgPzw01ofG+uA/PDTWh8b64D88NNaHxvrgPzw01ofG+uA/PDTWh8b64D88NNaHxvrgPzw01ofG+uA/PDTWh8b64D88NNaHxvrgPzw01ofG+uA/PDTWh8b64D/kFLycgpfjP+QUvJyCl+M/5BS8nIKX4z/kFLycgpfjP+QUvJyCl+M/5BS8nIKX4z/kFLycgpfjP+QUvJyCl+M/5BS8nIKX4z/kFLycgpfjP+QUvJyCl+M/5BS8nIKX4z/kFLycgpfjP+QUvJyCl+M/5BS8nIKX4z/kFLycgpfjP+QUvJyCl+M/5BS8nIKX4z/kFLycgpfjP+QUvJyCl+M/5BS8nIKX4z/kFLycgpfjP+QUvJyCl+M/5BS8nIKX4z/kFLycgpfjP+QUvJyCl+M/5BS8nIKX4z/kFLycgpfjP+QUvJyCl+M/5BS8nIKX4z/kFLycgpfjP+QUvJyCl+M/5BS8nIKX4z/kFLycgpfjP+QUvJyCl+M/5BS8nIKX4z/kFLycgpfjP+QUvJyCl+M/5BS8nIKX4z/kFLycgpfjP+QUvJyCl+M/5BS8nIKX4z/kFLycgpfjP+QUvJyCl+M/5BS8nIKX4z/kFLycgpfjP+QUvJyCl+M/5BS8nIKX4z/kFLycgpfjP+QUvJyCl+M/jPWhsT405j+M9aGxPjTmP4z1obE+NOY/jPWhsT405j+M9aGxPjTmP4z1obE+NOY/jPWhsT405j+M9aGxPjTmP4z1obE+NOY/jPWhsT405j+M9aGxPjTmP4z1obE+NOY/jPWhsT405j+M9aGxPjTmP4z1obE+NOY/jPWhsT405j+M9aGxPjTmP4z1obE+NOY/jPWhsT405j+M9aGxPjTmP4z1obE+NOY/jPWhsT405j+M9aGxPjTmP4z1obE+NOY/jPWhsT405j+M9aGxPjTmP4z1obE+NOY/jPWhsT405j+M9aGxPjTmP4z1obE+NOY/jPWhsT405j+M9aGxPjTmP4z1obE+NOY/jPWhsT405j+M9aGxPjTmP4z1obE+NOY/jPWhsT405j+M9aGxPjTmP4z1obE+NOY/jPWhsT405j+M9aGxPjTmP4z1obE+NOY/jPWhsT405j+M9aGxPjTmP4z1obE+NOY/jPWhsT405j+M9aGxPjTmP4z1obE+NOY/jPWhsT405j+M9aGxPjTmPzTWh8b60Og/NNaHxvrQ6D801ofG+tDoPzTWh8b60Og/NNaHxvrQ6D801ofG+tDoPzTWh8b60Og/NNaHxvrQ6D801ofG+tDoPzTWh8b60Og/NNaHxvrQ6D801ofG+tDoPzTWh8b60Og/NNaHxvrQ6D801ofG+tDoPzTWh8b60Og/NNaHxvrQ6D801ofG+tDoPzTWh8b60Og/NNaHxvrQ6D801ofG+tDoPzTWh8b60Og/NNaHxvrQ6D801ofG+tDoPzTWh8b60Og/NNaHxvrQ6D801ofG+tDoPzTWh8b60Og/NNaHxvrQ6D801ofG+tDoPzTWh8b60Og/NNaHxvrQ6D801ofG+tDoPzTWh8b60Og/NNaHxvrQ6D801ofG+tDoPzTWh8b60Og/NNaHxvrQ6D801ofG+tDoPzTWh8b60Og/NNaHxvrQ6D801ofG+tDoPzTWh8b60Og/NNaHxvrQ6D801ofG+tDoPzTWh8b60Og/NNaHxvrQ6D801ofG+tDoPzTWh8b60Og/NNaHxvrQ6D/Ytm3btm3rP9i2bdu2bes/2LZt27Zt6z/Ytm3btm3rP9i2bdu2bes/2LZt27Zt6z/Ytm3btm3rP9i2bdu2bes/2LZt27Zt6z/Ytm3btm3rP9i2bdu2bes/2LZt27Zt6z/Ytm3btm3rP9i2bdu2bes/2LZt27Zt6z/Ytm3btm3rP9i2bdu2bes/2LZt27Zt6z/Ytm3btm3rP9i2bdu2bes/2LZt27Zt6z/Ytm3btm3rP9i2bdu2bes/2LZt27Zt6z/Ytm3btm3rP9i2bdu2bes/2LZt27Zt6z/Ytm3btm3rP9i2bdu2bes/2LZt27Zt6z/Ytm3btm3rP9i2bdu2bes/2LZt27Zt6z/Ytm3btm3rP9i2bdu2bes/2LZt27Zt6z/Ytm3btm3rP9i2bdu2bes/2LZt27Zt6z/Ytm3btm3rP9i2bdu2bes/2LZt27Zt6z/Ytm3btm3rP9i2bdu2bes/2LZt27Zt6z/Ytm3btm3rP9i2bdu2bes/2LZt27Zt6z/Ytm3btm3rP9i2bdu2bes/gJdT8HIK7j+Al1PwcgruP4CXU/ByCu4/gJdT8HIK7j+Al1PwcgruP4CXU/ByCu4/gJdT8HIK7j+Al1PwcgruP4CXU/ByCu4/gJdT8HIK7j+Al1PwcgruP4CXU/ByCu4/gJdT8HIK7j+Al1PwcgruP4CXU/ByCu4/gJdT8HIK7j+Al1PwcgruP4CXU/ByCu4/gJdT8HIK7j+Al1PwcgruP4CXU/ByCu4/gJdT8HIK7j+Al1PwcgruP4CXU/ByCu4/gJdT8HIK7j+Al1PwcgruP4CXU/ByCu4/gJdT8HIK7j+Al1PwcgruP4CXU/ByCu4/gJdT8HIK7j+Al1PwcgruP4CXU/ByCu4/gJdT8HIK7j+Al1PwcgruP4CXU/ByCu4/gJdT8HIK7j+Al1PwcgruP4CXU/ByCu4/gJdT8HIK7j+Al1PwcgruP4CXU/ByCu4/gJdT8HIK7j+Al1PwcgruP4CXU/ByCu4/gJdT8HIK7j+Al1PwcgruP4CXU/ByCu4/gJdT8HIK7j+Al1PwcgruPxS8nIKXU/A/FLycgpdT8D8UvJyCl1PwPxS8nIKXU/A/FLycgpdT8D8UvJyCl1PwPxS8nIKXU/A/FLycgpdT8D8UvJyCl1PwPxS8nIKXU/A/FLycgpdT8D8UvJyCl1PwPxS8nIKXU/A/FLycgpdT8D8UvJyCl1PwPxS8nIKXU/A/FLycgpdT8D8UvJyCl1PwPxS8nIKXU/A/FLycgpdT8D8UvJyCl1PwPxS8nIKXU/A/FLycgpdT8D8UvJyCl1PwPxS8nIKXU/A/FLycgpdT8D8UvJyCl1PwPxS8nIKXU/A/FLycgpdT8D8UvJyCl1PwPxS8nIKXU/A/FLycgpdT8D8UvJyCl1PwPxS8nIKXU/A/FLycgpdT8D8UvJyCl1PwPxS8nIKXU/A/FLycgpdT8D8UvJyCl1PwPxS8nIKXU/A/FLycgpdT8D8UvJyCl1PwPxS8nIKXU/A/FLycgpdT8D8UvJyCl1PwPxS8nIKXU/A/FLycgpdT8D8UvJyCl1PwPxS8nIKXU/A/FLycgpdT8D9orA+N9aHxP2isD431ofE/aKwPjfWh8T9orA+N9aHxP2isD431ofE/aKwPjfWh8T9orA+N9aHxP2isD431ofE/aKwPjfWh8T9orA+N9aHxP2isD431ofE/aKwPjfWh8T9orA+N9aHxP2isD431ofE/aKwPjfWh8T9orA+N9aHxP2isD431ofE/aKwPjfWh8T9orA+N9aHxP2isD431ofE/aKwPjfWh8T9orA+N9aHxP2isD431ofE/aKwPjfWh8T9orA+N9aHxP2isD431ofE/aKwPjfWh8T9orA+N9aHxP2isD431ofE/aKwPjfWh8T9orA+N9aHxP2isD431ofE/aKwPjfWh8T9orA+N9aHxP2isD431ofE/aKwPjfWh8T9orA+N9aHxP2isD431ofE/aKwPjfWh8T9orA+N9aHxP2isD431ofE/aKwPjfWh8T9orA+N9aHxP2isD431ofE/aKwPjfWh8T9orA+N9aHxP2isD431ofE/aKwPjfWh8T9orA+N9aHxP2isD431ofE/upyCl1Pw8j+6nIKXU/DyP7qcgpdT8PI/upyCl1Pw8j+6nIKXU/DyP7qcgpdT8PI/upyCl1Pw8j+6nIKXU/DyP7qcgpdT8PI/upyCl1Pw8j+6nIKXU/DyP7qcgpdT8PI/upyCl1Pw8j+6nIKXU/DyP7qcgpdT8PI/upyCl1Pw8j+6nIKXU/DyP7qcgpdT8PI/upyCl1Pw8j+6nIKXU/DyP7qcgpdT8PI/upyCl1Pw8j+6nIKXU/DyP7qcgpdT8PI/upyCl1Pw8j+6nIKXU/DyP7qcgpdT8PI/upyCl1Pw8j+6nIKXU/DyP7qcgpdT8PI/upyCl1Pw8j+6nIKXU/DyP7qcgpdT8PI/upyCl1Pw8j+6nIKXU/DyP7qcgpdT8PI/upyCl1Pw8j+6nIKXU/DyP7qcgpdT8PI/upyCl1Pw8j+6nIKXU/DyP7qcgpdT8PI/upyCl1Pw8j+6nIKXU/DyP7qcgpdT8PI/upyCl1Pw8j+6nIKXU/DyP7qcgpdT8PI/upyCl1Pw8j+6nIKXU/DyPw6N9aGxPvQ/Do31obE+9D8OjfWhsT70Pw6N9aGxPvQ/Do31obE+9D8OjfWhsT70Pw6N9aGxPvQ/Do31obE+9D8OjfWhsT70Pw6N9aGxPvQ/Do31obE+9D8OjfWhsT70Pw6N9aGxPvQ/Do31obE+9D8OjfWhsT70Pw6N9aGxPvQ/Do31obE+9D8OjfWhsT70Pw6N9aGxPvQ/Do31obE+9D8OjfWhsT70Pw6N9aGxPvQ/Do31obE+9D8OjfWhsT70Pw6N9aGxPvQ/Do31obE+9D8OjfWhsT70Pw6N9aGxPvQ/Do31obE+9D8OjfWhsT70Pw6N9aGxPvQ/Do31obE+9D8OjfWhsT70Pw6N9aGxPvQ/Do31obE+9D8OjfWhsT70Pw6N9aGxPvQ/Do31obE+9D8OjfWhsT70Pw6N9aGxPvQ/Do31obE+9D8OjfWhsT70Pw6N9aGxPvQ/Do31obE+9D8OjfWhsT70Pw6N9aGxPvQ/Do31obE+9D8OjfWhsT70Pw6N9aGxPvQ/Do31obE+9D9ifWisD431P2J9aKwPjfU/Yn1orA+N9T9ifWisD431P2J9aKwPjfU/Yn1orA+N9T9ifWisD431P2J9aKwPjfU/Yn1orA+N9T9ifWisD431P2J9aKwPjfU/Yn1orA+N9T9ifWisD431P2J9aKwPjfU/Yn1orA+N9T9ifWisD431P2J9aKwPjfU/Yn1orA+N9T9ifWisD431P2J9aKwPjfU/Yn1orA+N9T9ifWisD431P2J9aKwPjfU/Yn1orA+N9T9ifWisD431P2J9aKwPjfU/Yn1orA+N9T9ifWisD431P2J9aKwPjfU/Yn1orA+N9T9ifWisD431P2J9aKwPjfU/Yn1orA+N9T9ifWisD431P2J9aKwPjfU/Yn1orA+N9T9ifWisD431P2J9aKwPjfU/Yn1orA+N9T9ifWisD431P2J9aKwPjfU/Yn1orA+N9T9ifWisD431P2J9aKwPjfU/Yn1orA+N9T9ifWisD431P2J9aKwPjfU/Yn1orA+N9T9ifWisD431P2J9aKwPjfU/tm3btm3b9j+2bdu2bdv2P7Zt27Zt2/Y/tm3btm3b9j+2bdu2bdv2P7Zt27Zt2/Y/tm3btm3b9j+2bdu2bdv2P7Zt27Zt2/Y/tm3btm3b9j+2bdu2bdv2P7Zt27Zt2/Y/tm3btm3b9j+2bdu2bdv2P7Zt27Zt2/Y/tm3btm3b9j+2bdu2bdv2P7Zt27Zt2/Y/tm3btm3b9j+2bdu2bdv2P7Zt27Zt2/Y/tm3btm3b9j+2bdu2bdv2P7Zt27Zt2/Y/tm3btm3b9j+2bdu2bdv2P7Zt27Zt2/Y/tm3btm3b9j+2bdu2bdv2P7Zt27Zt2/Y/tm3btm3b9j+2bdu2bdv2P7Zt27Zt2/Y/tm3btm3b9j+2bdu2bdv2P7Zt27Zt2/Y/tm3btm3b9j+2bdu2bdv2P7Zt27Zt2/Y/tm3btm3b9j+2bdu2bdv2P7Zt27Zt2/Y/tm3btm3b9j+2bdu2bdv2P7Zt27Zt2/Y/tm3btm3b9j+2bdu2bdv2P7Zt27Zt2/Y/tm3btm3b9j+2bdu2bdv2PwpeTsHLKfg/Cl5Owcsp+D8KXk7Byyn4PwpeTsHLKfg/Cl5Owcsp+D8KXk7Byyn4PwpeTsHLKfg/Cl5Owcsp+D8KXk7Byyn4PwpeTsHLKfg/Cl5Owcsp+D8KXk7Byyn4PwpeTsHLKfg/Cl5Owcsp+D8KXk7Byyn4PwpeTsHLKfg/Cl5Owcsp+D8KXk7Byyn4PwpeTsHLKfg/Cl5Owcsp+D8KXk7Byyn4PwpeTsHLKfg/Cl5Owcsp+D8KXk7Byyn4PwpeTsHLKfg/Cl5Owcsp+D8KXk7Byyn4PwpeTsHLKfg/Cl5Owcsp+D8KXk7Byyn4PwpeTsHLKfg/Cl5Owcsp+D8KXk7Byyn4PwpeTsHLKfg/Cl5Owcsp+D8KXk7Byyn4PwpeTsHLKfg/Cl5Owcsp+D8KXk7Byyn4PwpeTsHLKfg/Cl5Owcsp+D8KXk7Byyn4PwpeTsHLKfg/Cl5Owcsp+D8KXk7Byyn4PwpeTsHLKfg/Cl5Owcsp+D8KXk7Byyn4PwpeTsHLKfg/Cl5Owcsp+D9cTsHLKXj5P1xOwcspePk/XE7Byyl4+T9cTsHLKXj5P1xOwcspePk/XE7Byyl4+T9cTsHLKXj5P1xOwcspePk/XE7Byyl4+T9cTsHLKXj5P1xOwcspePk/XE7Byyl4+T9cTsHLKXj5P1xOwcspePk/XE7Byyl4+T9cTsHLKXj5P1xOwcspePk/XE7Byyl4+T9cTsHLKXj5P1xOwcspePk/XE7Byyl4+T9cTsHLKXj5P1xOwcspePk/XE7Byyl4+T9cTsHLKXj5P1xOwcspePk/XE7Byyl4+T9cTsHLKXj5P1xOwcspePk/XE7Byyl4+T9cTsHLKXj5P1xOwcspePk/XE7Byyl4+T9cTsHLKXj5P1xOwcspePk/XE7Byyl4+T9cTsHLKXj5P1xOwcspePk/XE7Byyl4+T9cTsHLKXj5P1xOwcspePk/XE7Byyl4+T9cTsHLKXj5P1xOwcspePk/XE7Byyl4+T9cTsHLKXj5P1xOwcspePk/XE7Byyl4+T9cTsHLKXj5P1xOwcspePk/sD401ofG+j+wPjTWh8b6P7A+NNaHxvo/sD401ofG+j+wPjTWh8b6P7A+NNaHxvo/sD401ofG+j+wPjTWh8b6P7A+NNaHxvo/sD401ofG+j+wPjTWh8b6P7A+NNaHxvo/sD401ofG+j+wPjTWh8b6P7A+NNaHxvo/sD401ofG+j+wPjTWh8b6P7A+NNaHxvo/sD401ofG+j+wPjTWh8b6P7A+NNaHxvo/sD401ofG+j+wPjTWh8b6P7A+NNaHxvo/sD401ofG+j+wPjTWh8b6P7A+NNaHxvo/sD401ofG+j+wPjTWh8b6P7A+NNaHxvo/sD401ofG+j+wPjTWh8b6P7A+NNaHxvo/sD401ofG+j+wPjTWh8b6P7A+NNaHxvo/sD401ofG+j+wPjTWh8b6P7A+NNaHxvo/sD401ofG+j+wPjTWh8b6P7A+NNaHxvo/sD401ofG+j+wPjTWh8b6P7A+NNaHxvo/sD401ofG+j+wPjTWh8b6P7A+NNaHxvo/sD401ofG+j+wPjTWh8b6PwQvp+DlFPw/BC+n4OUU/D8EL6fg5RT8PwQvp+DlFPw/BC+n4OUU/D8EL6fg5RT8PwQvp+DlFPw/BC+n4OUU/D8EL6fg5RT8PwQvp+DlFPw/BC+n4OUU/D8EL6fg5RT8PwQvp+DlFPw/BC+n4OUU/D8EL6fg5RT8PwQvp+DlFPw/BC+n4OUU/D8EL6fg5RT8PwQvp+DlFPw/BC+n4OUU/D8EL6fg5RT8PwQvp+DlFPw/BC+n4OUU/D8EL6fg5RT8PwQvp+DlFPw/BC+n4OUU/D8EL6fg5RT8PwQvp+DlFPw/BC+n4OUU/D8EL6fg5RT8PwQvp+DlFPw/BC+n4OUU/D8EL6fg5RT8PwQvp+DlFPw/BC+n4OUU/D8EL6fg5RT8PwQvp+DlFPw/BC+n4OUU/D8EL6fg5RT8PwQvp+DlFPw/BC+n4OUU/D8EL6fg5RT8PwQvp+DlFPw/BC+n4OUU/D8EL6fg5RT8PwQvp+DlFPw/BC+n4OUU/D8EL6fg5RT8PwQvp+DlFPw/BC+n4OUU/D9YHxrrQ2P9P1gfGutDY/0/WB8a60Nj/T9YHxrrQ2P9P1gfGutDY/0/WB8a60Nj/T9YHxrrQ2P9P1gfGutDY/0/WB8a60Nj/T9YHxrrQ2P9P1gfGutDY/0/WB8a60Nj/T9YHxrrQ2P9P1gfGutDY/0/WB8a60Nj/T9YHxrrQ2P9P1gfGutDY/0/WB8a60Nj/T9YHxrrQ2P9P1gfGutDY/0/WB8a60Nj/T9YHxrrQ2P9P1gfGutDY/0/WB8a60Nj/T9YHxrrQ2P9P1gfGutDY/0/WB8a60Nj/T9YHxrrQ2P9P1gfGutDY/0/WB8a60Nj/T9YHxrrQ2P9P1gfGutDY/0/WB8a60Nj/T9YHxrrQ2P9P1gfGutDY/0/WB8a60Nj/T9YHxrrQ2P9P1gfGutDY/0/WB8a60Nj/T9YHxrrQ2P9P1gfGutDY/0/WB8a60Nj/T9YHxrrQ2P9P1gfGutDY/0/WB8a60Nj/T9YHxrrQ2P9P1gfGutDY/0/WB8a60Nj/T9YHxrrQ2P9P1gfGutDY/0/rA+N9aGx/j+sD431obH+P6wPjfWhsf4/rA+N9aGx/j+sD431obH+P6wPjfWhsf4/rA+N9aGx/j+sD431obH+P6wPjfWhsf4/rA+N9aGx/j+sD431obH+P6wPjfWhsf4/rA+N9aGx/j+sD431obH+P6wPjfWhsf4/rA+N9aGx/j+sD431obH+P6wPjfWhsf4/rA+N9aGx/j+sD431obH+P6wPjfWhsf4/rA+N9aGx/j+sD431obH+P6wPjfWhsf4/rA+N9aGx/j+sD431obH+P6wPjfWhsf4/rA+N9aGx/j+sD431obH+P6wPjfWhsf4/rA+N9aGx/j+sD431obH+P6wPjfWhsf4/rA+N9aGx/j+sD431obH+P6wPjfWhsf4/rA+N9aGx/j+sD431obH+P6wPjfWhsf4/rA+N9aGx/j+sD431obH+P6wPjfWhsf4/rA+N9aGx/j+sD431obH+P6wPjfWhsf4/rA+N9aGx/j+sD431obH+P6wPjfWhsf4/rA+N9aGx/j+sD431obH+PwAAAAAAAABAAAAAAAAAAEAAAAAAAAAAQAAAAAAAAABAAAAAAAAAAEAAAAAAAAAAQAAAAAAAAABAAAAAAAAAAEAAAAAAAAAAQAAAAAAAAABAAAAAAAAAAEAAAAAAAAAAQAAAAAAAAABAAAAAAAAAAEAAAAAAAAAAQAAAAAAAAABAAAAAAAAAAEAAAAAAAAAAQAAAAAAAAABAAAAAAAAAAEAAAAAAAAAAQAAAAAAAAABAAAAAAAAAAEAAAAAAAAAAQAAAAAAAAABAAAAAAAAAAEAAAAAAAAAAQAAAAAAAAABAAAAAAAAAAEAAAAAAAAAAQAAAAAAAAABAAAAAAAAAAEAAAAAAAAAAQAAAAAAAAABAAAAAAAAAAEAAAAAAAAAAQAAAAAAAAABAAAAAAAAAAEAAAAAAAAAAQAAAAAAAAABAAAAAAAAAAEAAAAAAAAAAQAAAAAAAAABAAAAAAAAAAEAAAAAAAAAAQAAAAAAAAABAAAAAAAAAAEAAAAAAAAAAQAAAAAAAAABAAAAAAAAAAEA=",
          "dtype": "f8",
          "shape": "50, 50"
         },
         "z": {
          "bdata": "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",
          "dtype": "f8",
          "shape": "50, 50"
         }
        }
       ],
       "layout": {
        "margin": {
         "b": 0,
         "l": 0,
         "r": 0,
         "t": 0
        },
        "scene": {
         "aspectmode": "cube",
         "xaxis": {
          "range": [
           -2,
           2
          ],
          "title": {
           "text": "X"
          }
         },
         "yaxis": {
          "range": [
           -2,
           2
          ],
          "title": {
           "text": "Y"
          }
         },
         "zaxis": {
          "range": [
           -2,
           2
          ],
          "title": {
           "text": "Z"
          }
         }
        },
        "template": {
         "data": {
          "bar": [
           {
            "error_x": {
             "color": "#2a3f5f"
            },
            "error_y": {
             "color": "#2a3f5f"
            },
            "marker": {
             "line": {
              "color": "#E5ECF6",
              "width": 0.5
             },
             "pattern": {
              "fillmode": "overlay",
              "size": 10,
              "solidity": 0.2
             }
            },
            "type": "bar"
           }
          ],
          "barpolar": [
           {
            "marker": {
             "line": {
              "color": "#E5ECF6",
              "width": 0.5
             },
             "pattern": {
              "fillmode": "overlay",
              "size": 10,
              "solidity": 0.2
             }
            },
            "type": "barpolar"
           }
          ],
          "carpet": [
           {
            "aaxis": {
             "endlinecolor": "#2a3f5f",
             "gridcolor": "white",
             "linecolor": "white",
             "minorgridcolor": "white",
             "startlinecolor": "#2a3f5f"
            },
            "baxis": {
             "endlinecolor": "#2a3f5f",
             "gridcolor": "white",
             "linecolor": "white",
             "minorgridcolor": "white",
             "startlinecolor": "#2a3f5f"
            },
            "type": "carpet"
           }
          ],
          "choropleth": [
           {
            "colorbar": {
             "outlinewidth": 0,
             "ticks": ""
            },
            "type": "choropleth"
           }
          ],
          "contour": [
           {
            "colorbar": {
             "outlinewidth": 0,
             "ticks": ""
            },
            "colorscale": [
             [
              0,
              "#0d0887"
             ],
             [
              0.1111111111111111,
              "#46039f"
             ],
             [
              0.2222222222222222,
              "#7201a8"
             ],
             [
              0.3333333333333333,
              "#9c179e"
             ],
             [
              0.4444444444444444,
              "#bd3786"
             ],
             [
              0.5555555555555556,
              "#d8576b"
             ],
             [
              0.6666666666666666,
              "#ed7953"
             ],
             [
              0.7777777777777778,
              "#fb9f3a"
             ],
             [
              0.8888888888888888,
              "#fdca26"
             ],
             [
              1,
              "#f0f921"
             ]
            ],
            "type": "contour"
           }
          ],
          "contourcarpet": [
           {
            "colorbar": {
             "outlinewidth": 0,
             "ticks": ""
            },
            "type": "contourcarpet"
           }
          ],
          "heatmap": [
           {
            "colorbar": {
             "outlinewidth": 0,
             "ticks": ""
            },
            "colorscale": [
             [
              0,
              "#0d0887"
             ],
             [
              0.1111111111111111,
              "#46039f"
             ],
             [
              0.2222222222222222,
              "#7201a8"
             ],
             [
              0.3333333333333333,
              "#9c179e"
             ],
             [
              0.4444444444444444,
              "#bd3786"
             ],
             [
              0.5555555555555556,
              "#d8576b"
             ],
             [
              0.6666666666666666,
              "#ed7953"
             ],
             [
              0.7777777777777778,
              "#fb9f3a"
             ],
             [
              0.8888888888888888,
              "#fdca26"
             ],
             [
              1,
              "#f0f921"
             ]
            ],
            "type": "heatmap"
           }
          ],
          "histogram": [
           {
            "marker": {
             "pattern": {
              "fillmode": "overlay",
              "size": 10,
              "solidity": 0.2
             }
            },
            "type": "histogram"
           }
          ],
          "histogram2d": [
           {
            "colorbar": {
             "outlinewidth": 0,
             "ticks": ""
            },
            "colorscale": [
             [
              0,
              "#0d0887"
             ],
             [
              0.1111111111111111,
              "#46039f"
             ],
             [
              0.2222222222222222,
              "#7201a8"
             ],
             [
              0.3333333333333333,
              "#9c179e"
             ],
             [
              0.4444444444444444,
              "#bd3786"
             ],
             [
              0.5555555555555556,
              "#d8576b"
             ],
             [
              0.6666666666666666,
              "#ed7953"
             ],
             [
              0.7777777777777778,
              "#fb9f3a"
             ],
             [
              0.8888888888888888,
              "#fdca26"
             ],
             [
              1,
              "#f0f921"
             ]
            ],
            "type": "histogram2d"
           }
          ],
          "histogram2dcontour": [
           {
            "colorbar": {
             "outlinewidth": 0,
             "ticks": ""
            },
            "colorscale": [
             [
              0,
              "#0d0887"
             ],
             [
              0.1111111111111111,
              "#46039f"
             ],
             [
              0.2222222222222222,
              "#7201a8"
             ],
             [
              0.3333333333333333,
              "#9c179e"
             ],
             [
              0.4444444444444444,
              "#bd3786"
             ],
             [
              0.5555555555555556,
              "#d8576b"
             ],
             [
              0.6666666666666666,
              "#ed7953"
             ],
             [
              0.7777777777777778,
              "#fb9f3a"
             ],
             [
              0.8888888888888888,
              "#fdca26"
             ],
             [
              1,
              "#f0f921"
             ]
            ],
            "type": "histogram2dcontour"
           }
          ],
          "mesh3d": [
           {
            "colorbar": {
             "outlinewidth": 0,
             "ticks": ""
            },
            "type": "mesh3d"
           }
          ],
          "parcoords": [
           {
            "line": {
             "colorbar": {
              "outlinewidth": 0,
              "ticks": ""
             }
            },
            "type": "parcoords"
           }
          ],
          "pie": [
           {
            "automargin": true,
            "type": "pie"
           }
          ],
          "scatter": [
           {
            "fillpattern": {
             "fillmode": "overlay",
             "size": 10,
             "solidity": 0.2
            },
            "type": "scatter"
           }
          ],
          "scatter3d": [
           {
            "line": {
             "colorbar": {
              "outlinewidth": 0,
              "ticks": ""
             }
            },
            "marker": {
             "colorbar": {
              "outlinewidth": 0,
              "ticks": ""
             }
            },
            "type": "scatter3d"
           }
          ],
          "scattercarpet": [
           {
            "marker": {
             "colorbar": {
              "outlinewidth": 0,
              "ticks": ""
             }
            },
            "type": "scattercarpet"
           }
          ],
          "scattergeo": [
           {
            "marker": {
             "colorbar": {
              "outlinewidth": 0,
              "ticks": ""
             }
            },
            "type": "scattergeo"
           }
          ],
          "scattergl": [
           {
            "marker": {
             "colorbar": {
              "outlinewidth": 0,
              "ticks": ""
             }
            },
            "type": "scattergl"
           }
          ],
          "scattermap": [
           {
            "marker": {
             "colorbar": {
              "outlinewidth": 0,
              "ticks": ""
             }
            },
            "type": "scattermap"
           }
          ],
          "scattermapbox": [
           {
            "marker": {
             "colorbar": {
              "outlinewidth": 0,
              "ticks": ""
             }
            },
            "type": "scattermapbox"
           }
          ],
          "scatterpolar": [
           {
            "marker": {
             "colorbar": {
              "outlinewidth": 0,
              "ticks": ""
             }
            },
            "type": "scatterpolar"
           }
          ],
          "scatterpolargl": [
           {
            "marker": {
             "colorbar": {
              "outlinewidth": 0,
              "ticks": ""
             }
            },
            "type": "scatterpolargl"
           }
          ],
          "scatterternary": [
           {
            "marker": {
             "colorbar": {
              "outlinewidth": 0,
              "ticks": ""
             }
            },
            "type": "scatterternary"
           }
          ],
          "surface": [
           {
            "colorbar": {
             "outlinewidth": 0,
             "ticks": ""
            },
            "colorscale": [
             [
              0,
              "#0d0887"
             ],
             [
              0.1111111111111111,
              "#46039f"
             ],
             [
              0.2222222222222222,
              "#7201a8"
             ],
             [
              0.3333333333333333,
              "#9c179e"
             ],
             [
              0.4444444444444444,
              "#bd3786"
             ],
             [
              0.5555555555555556,
              "#d8576b"
             ],
             [
              0.6666666666666666,
              "#ed7953"
             ],
             [
              0.7777777777777778,
              "#fb9f3a"
             ],
             [
              0.8888888888888888,
              "#fdca26"
             ],
             [
              1,
              "#f0f921"
             ]
            ],
            "type": "surface"
           }
          ],
          "table": [
           {
            "cells": {
             "fill": {
              "color": "#EBF0F8"
             },
             "line": {
              "color": "white"
             }
            },
            "header": {
             "fill": {
              "color": "#C8D4E3"
             },
             "line": {
              "color": "white"
             }
            },
            "type": "table"
           }
          ]
         },
         "layout": {
          "annotationdefaults": {
           "arrowcolor": "#2a3f5f",
           "arrowhead": 0,
           "arrowwidth": 1
          },
          "autotypenumbers": "strict",
          "coloraxis": {
           "colorbar": {
            "outlinewidth": 0,
            "ticks": ""
           }
          },
          "colorscale": {
           "diverging": [
            [
             0,
             "#8e0152"
            ],
            [
             0.1,
             "#c51b7d"
            ],
            [
             0.2,
             "#de77ae"
            ],
            [
             0.3,
             "#f1b6da"
            ],
            [
             0.4,
             "#fde0ef"
            ],
            [
             0.5,
             "#f7f7f7"
            ],
            [
             0.6,
             "#e6f5d0"
            ],
            [
             0.7,
             "#b8e186"
            ],
            [
             0.8,
             "#7fbc41"
            ],
            [
             0.9,
             "#4d9221"
            ],
            [
             1,
             "#276419"
            ]
           ],
           "sequential": [
            [
             0,
             "#0d0887"
            ],
            [
             0.1111111111111111,
             "#46039f"
            ],
            [
             0.2222222222222222,
             "#7201a8"
            ],
            [
             0.3333333333333333,
             "#9c179e"
            ],
            [
             0.4444444444444444,
             "#bd3786"
            ],
            [
             0.5555555555555556,
             "#d8576b"
            ],
            [
             0.6666666666666666,
             "#ed7953"
            ],
            [
             0.7777777777777778,
             "#fb9f3a"
            ],
            [
             0.8888888888888888,
             "#fdca26"
            ],
            [
             1,
             "#f0f921"
            ]
           ],
           "sequentialminus": [
            [
             0,
             "#0d0887"
            ],
            [
             0.1111111111111111,
             "#46039f"
            ],
            [
             0.2222222222222222,
             "#7201a8"
            ],
            [
             0.3333333333333333,
             "#9c179e"
            ],
            [
             0.4444444444444444,
             "#bd3786"
            ],
            [
             0.5555555555555556,
             "#d8576b"
            ],
            [
             0.6666666666666666,
             "#ed7953"
            ],
            [
             0.7777777777777778,
             "#fb9f3a"
            ],
            [
             0.8888888888888888,
             "#fdca26"
            ],
            [
             1,
             "#f0f921"
            ]
           ]
          },
          "colorway": [
           "#636efa",
           "#EF553B",
           "#00cc96",
           "#ab63fa",
           "#FFA15A",
           "#19d3f3",
           "#FF6692",
           "#B6E880",
           "#FF97FF",
           "#FECB52"
          ],
          "font": {
           "color": "#2a3f5f"
          },
          "geo": {
           "bgcolor": "white",
           "lakecolor": "white",
           "landcolor": "#E5ECF6",
           "showlakes": true,
           "showland": true,
           "subunitcolor": "white"
          },
          "hoverlabel": {
           "align": "left"
          },
          "hovermode": "closest",
          "mapbox": {
           "style": "light"
          },
          "paper_bgcolor": "white",
          "plot_bgcolor": "#E5ECF6",
          "polar": {
           "angularaxis": {
            "gridcolor": "white",
            "linecolor": "white",
            "ticks": ""
           },
           "bgcolor": "#E5ECF6",
           "radialaxis": {
            "gridcolor": "white",
            "linecolor": "white",
            "ticks": ""
           }
          },
          "scene": {
           "xaxis": {
            "backgroundcolor": "#E5ECF6",
            "gridcolor": "white",
            "gridwidth": 2,
            "linecolor": "white",
            "showbackground": true,
            "ticks": "",
            "zerolinecolor": "white"
           },
           "yaxis": {
            "backgroundcolor": "#E5ECF6",
            "gridcolor": "white",
            "gridwidth": 2,
            "linecolor": "white",
            "showbackground": true,
            "ticks": "",
            "zerolinecolor": "white"
           },
           "zaxis": {
            "backgroundcolor": "#E5ECF6",
            "gridcolor": "white",
            "gridwidth": 2,
            "linecolor": "white",
            "showbackground": true,
            "ticks": "",
            "zerolinecolor": "white"
           }
          },
          "shapedefaults": {
           "line": {
            "color": "#2a3f5f"
           }
          },
          "ternary": {
           "aaxis": {
            "gridcolor": "white",
            "linecolor": "white",
            "ticks": ""
           },
           "baxis": {
            "gridcolor": "white",
            "linecolor": "white",
            "ticks": ""
           },
           "bgcolor": "#E5ECF6",
           "caxis": {
            "gridcolor": "white",
            "linecolor": "white",
            "ticks": ""
           }
          },
          "title": {
           "x": 0.05
          },
          "xaxis": {
           "automargin": true,
           "gridcolor": "white",
           "linecolor": "white",
           "ticks": "",
           "title": {
            "standoff": 15
           },
           "zerolinecolor": "white",
           "zerolinewidth": 2
          },
          "yaxis": {
           "automargin": true,
           "gridcolor": "white",
           "linecolor": "white",
           "ticks": "",
           "title": {
            "standoff": 15
           },
           "zerolinecolor": "white",
           "zerolinewidth": 2
          }
         }
        }
       }
      }
     },
     "metadata": {},
     "output_type": "display_data"
    }
   ],
   "source": [
    "# Parameters (Note that I've included some alternatives, it works for any of these values of z, w, b)\n",
    "# z = np.array([0, 0, 1])\n",
    "z = np.array([1, 1, 1])\n",
    "\n",
    "# w = np.array([0, 0, 1])\n",
    "# w = np.array([1, 1, 1])\n",
    "w = np.array([5, 2.5, 5])\n",
    "\n",
    "b = 0.5\n",
    "# b = 0  # If the point is on the plane, it may not be easy to see both points (they overlap)\n",
    "\n",
    "plot_figure(w, b, z)"
   ]
  },
  {
   "cell_type": "markdown",
   "id": "0da4dafe",
   "metadata": {},
   "source": [
    "# Problem 3"
   ]
  },
  {
   "cell_type": "markdown",
   "id": "ef06847e",
   "metadata": {},
   "source": [
    "We know that linear regression can be expressed as an optimization problem (from Recitation 1):\n",
    "\n",
    "$$\\min_{a,b}\\frac{1}{M}\\sum_m (ax^{(m)} + b - y^{(m)})^2$$\n",
    "\n",
    "How can we solve this with these new methods?"
   ]
  },
  {
   "cell_type": "markdown",
   "id": "984ad0aa",
   "metadata": {},
   "source": [
    "### Preliminary"
   ]
  },
  {
   "cell_type": "markdown",
   "id": "278f9b90",
   "metadata": {},
   "source": [
    "First, I'll reload the data, and check that things look right. This is ***ALWAYS*** the right first step, even when I think I know what's going on. It's caught numerous issues."
   ]
  },
  {
   "cell_type": "code",
   "execution_count": 11,
   "id": "2f600e4b",
   "metadata": {},
   "outputs": [
    {
     "data": {
      "text/plain": [
       "True"
      ]
     },
     "execution_count": 11,
     "metadata": {},
     "output_type": "execute_result"
    }
   ],
   "source": [
    "from pathlib import Path\n",
    "DATA_PATH = \"automobile/imports-85.data\"\n",
    "Path(DATA_PATH).exists()"
   ]
  },
  {
   "cell_type": "code",
   "execution_count": 12,
   "id": "16a55569",
   "metadata": {},
   "outputs": [
    {
     "data": {
      "image/png": "[encoded data removed]",
      "text/plain": [
       "<Figure size 640x480 with 1 Axes>"
      ]
     },
     "metadata": {},
     "output_type": "display_data"
    }
   ],
   "source": [
    "import pandas as pd\n",
    "df = pd.read_csv(DATA_PATH, header=None, na_values='?')\n",
    "data = df.iloc[:, [16, 23, 24, 25]]\n",
    "data.columns = [\"wt\", \"city-mpg\", \"hwy-mpg\", \"price\"]  # Oops! Apparently I gave the wrong name to the engine size, calling it \"wt\"\n",
    "x_label = \"city-mpg\"\n",
    "y_label = \"hwy-mpg\"\n",
    "x = data[x_label]\n",
    "y = data[y_label]\n",
    "plt.scatter(x, y)\n",
    "plt.ylabel(\"Highway MPG\")\n",
    "plt.xlabel(\"City MPG\");"
   ]
  },
  {
   "cell_type": "markdown",
   "id": "0f0819af",
   "metadata": {},
   "source": [
    "We want the best model, with the best values for $a$ and $b$. This happens when we minimize the loss function $$\\min_{a,b}\\frac{1}{M}\\sum_m (ax^{(m)} + b - y^{(m)})^2$$"
   ]
  },
  {
   "cell_type": "markdown",
   "id": "cd36eada",
   "metadata": {},
   "source": [
    "### Lagrange multipliers?"
   ]
  },
  {
   "cell_type": "markdown",
   "id": "c44972ab",
   "metadata": {},
   "source": [
    "Nah. There's no constraints. But there is an analytical solution. We could do it... but didn't in recitation \"because of time\" (<small><small>because Jim tried and got tangled up in algebra and would have just confused everyone</small></small>)."
   ]
  },
  {
   "cell_type": "markdown",
   "id": "801a41ae",
   "metadata": {},
   "source": [
    "### CVXOPT"
   ]
  },
  {
   "cell_type": "markdown",
   "id": "6e845fe0",
   "metadata": {},
   "source": [
    "I didn't go over this in detail in the recitation. I simply showed the results and said \"Hey! Look! It's possible.Let me know if you'd like and I can provide derivation."
   ]
  },
  {
   "cell_type": "code",
   "execution_count": 13,
   "id": "c879c39c",
   "metadata": {},
   "outputs": [
    {
     "data": {
      "text/plain": [
       "(np.float64(1.0224568127472213), np.float64(4.965357454131052))"
      ]
     },
     "execution_count": 13,
     "metadata": {},
     "output_type": "execute_result"
    }
   ],
   "source": [
    "P = np.array([[np.dot(x, x), np.sum(x)], [np.sum(x), len(x)]])\n",
    "P = cvxopt.matrix(P, tc='d')\n",
    "q = -np.array([np.dot(x, y), np.sum(y)])\n",
    "q = cvxopt.matrix(q, tc='d')\n",
    "sol = cvxopt.solvers.qp(P, q)\n",
    "\n",
    "a, b = np.array(sol['x']).flatten()\n",
    "a, b"
   ]
  },
  {
   "cell_type": "code",
   "execution_count": 15,
   "id": "29c19e34",
   "metadata": {},
   "outputs": [
    {
     "data": {
      "image/png": "[encoded data removed]",
      "text/plain": [
       "<Figure size 640x480 with 1 Axes>"
      ]
     },
     "metadata": {},
     "output_type": "display_data"
    }
   ],
   "source": [
    "pred_x = np.linspace(x.min(), x.max(), 10)\n",
    "pred_y = a * pred_x + b\n",
    "\n",
    "plt.scatter(data[x_label], data[y_label], label=\"True\")\n",
    "plt.plot(pred_x, pred_y, color='red', label=\"Prediction\")\n",
    "plt.ylabel(\"Highway MPG\")\n",
    "plt.xlabel(\"City MPG\")\n",
    "plt.legend()\n",
    "plt.title(\"Highway MPG from City MPG\");"
   ]
  },
  {
   "cell_type": "markdown",
   "id": "6fa52441",
   "metadata": {},
   "source": [
    "Compare this solution to the one obtained with gradient descent in the other notebook.\n",
    "\n",
    "<details>\n",
    "<summary>Short version</summary>\n",
    "This CVXOPT solver gets to \"good\" answers much more quickly than my janky solution.\n",
    "</details>"
   ]
  },
  {
   "cell_type": "markdown",
   "id": "e881e255",
   "metadata": {},
   "source": [
    "<details>\n",
    "<summary>Long version</summary>\n",
    "\n",
    "Here, we get $(1.0224568127472213, 4.965357454131052)$; while there we got ($1.\\underline{1\\dots}, 2.\\underline{1\\dots}$). I've underlined the differences, so you can get a quick sense of what's changed.\n",
    "\n",
    "Why the difference? Hyperparameters! In that notebook, we used:\n",
    "- $\\gamma = 2\\times 10^{-4}$, \n",
    "- $N_\\mathrm{iters}=2000$, \n",
    "- $(a_0, b_0) = (2.0\\dots, 2.0\\dots)$,\n",
    "\n",
    "However, I just went back and toyed with it some more. When I change hyperparameters to give it a better start:\n",
    "- $\\gamma = 1\\times 10^{-3}$, \n",
    "- $N_\\mathrm{iters}=1,000$, \n",
    "- $(a_0, b_0) = (1.0\\dots, 5.0\\dots)$,\n",
    "- I get accuracy to more digits: ($1.02\\underline{1295200535841}, 4.9\\underline{96611597186609}$)\n",
    "\n",
    "I can run it longer (~1 second):\n",
    "- $\\gamma = 1\\times 10^{-3}$, \n",
    "- $N_\\mathrm{iters}=10,000$, \n",
    "- $(a_0, b_0) = (1.0\\dots, 5.0\\dots)$,\n",
    "- Output: ($1.022\\underline{0809043196402}, 4.9\\underline{7547158314615}$)\n",
    "\n",
    "Or even longer (~10 seconds):\n",
    "- $\\gamma = 1\\times 10^{-3}$, \n",
    "- $N_\\mathrm{iters}=100,000$, \n",
    "- $(a_0, b_0) = (1.0\\dots, 5.0\\dots)$,\n",
    "- Output: ($1.0224568\\underline{080125394}, 4.965357\\underline{581521612}$)\n",
    "\n",
    "We see that getting the number of iterations and the learning rate balanced can really help the accuracy. The learning rate can only go so high: in this case, we saw $2\\times 10^{-3}$ would cause it to overshoot.\n",
    "\n",
    "</details>"
   ]
  },
  {
   "cell_type": "markdown",
   "id": "b3737f77",
   "metadata": {},
   "source": [
    "# Backup"
   ]
  },
  {
   "cell_type": "markdown",
   "id": "0a8d73f5",
   "metadata": {},
   "source": [
    "### Single variable problem, known to work with method of Lagrange multipliers"
   ]
  },
  {
   "cell_type": "markdown",
   "id": "0397c276",
   "metadata": {},
   "source": [
    "$$\n",
    "\\begin{equation*}\n",
    "\\begin{aligned}\n",
    "\\min_{x} \\quad & \\frac{1}{2} (x-1)^2 \\\\\n",
    "\\text{s.t.} \\quad  & x \\geq 2 \\\\\n",
    "\\end{aligned}\n",
    "\\end{equation*}\n",
    "$$"
   ]
  },
  {
   "cell_type": "markdown",
   "id": "bcf6abe1",
   "metadata": {},
   "source": [
    "### Single variable problem, with trickiness"
   ]
  },
  {
   "cell_type": "markdown",
   "id": "1406975a",
   "metadata": {},
   "source": [
    "$$\n",
    "\\begin{equation*}\n",
    "\\begin{aligned}\n",
    "\\min_{x} \\quad & \\frac{1}{2} x^2 + 6 \\\\\n",
    "\\text{s.t.} \\quad  & x \\geq 0 \\\\\n",
    "                   & x \\leq 5 \\\\\n",
    "\\end{aligned}\n",
    "\\end{equation*}\n",
    "$$\n",
    "\n",
    "Yes, it's a trivial problem. However, working it with the method of Lagrange multipliers is *really* instructive. Or it was for me."
   ]
  },
  {
   "cell_type": "markdown",
   "id": "03a58b53",
   "metadata": {},
   "source": [
    "<details>\n",
    "<summary>Hint</summary>\n",
    "Check at the boundaries of the dual. When I naively took gradients, it looked like garbage. But the dual problem is valid where $\\lambda_1, \\lambda_2 \\geq 0$\n",
    "</details>"
   ]
  },
  {
   "cell_type": "markdown",
   "id": "e8c54ce0",
   "metadata": {},
   "source": [
    "Bonus: [Visualization in Desmos](https://www.desmos.com/3d/1zgmx7saep). This helped me understand what's going on, ***after*** working through the problem. I recommend fighting the problem a bit first."
   ]
  }
 ],
 "metadata": {
  "kernelspec": {
   "display_name": "reci_pract",
   "language": "python",
   "name": "python3"
  },
  "language_info": {
   "codemirror_mode": {
    "name": "ipython",
    "version": 3
   },
   "file_extension": ".py",
   "mimetype": "text/x-python",
   "name": "python",
   "nbconvert_exporter": "python",
   "pygments_lexer": "ipython3",
   "version": "3.12.11"
  }
 },
 "nbformat": 4,
 "nbformat_minor": 5
}
