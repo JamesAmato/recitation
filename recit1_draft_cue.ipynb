{
 "cells": [
  {
   "cell_type": "markdown",
   "id": "17215173",
   "metadata": {},
   "source": [
    "Goals:\n",
    "- Set up Python and Jupyter\n",
    "    - Show Colab\n",
    "    - Show VS Code\n",
    "    - Show miniconda\n",
    "    - Set up conda environment\n",
    "- Get data\n",
    "    - UCI, pick regression task\n",
    "    - Put data on GitHub\n",
    "    - Show how to access data in Colab\n",
    "- Load data\n",
    "    - Load with numpy\n",
    "    - Load with pandas\n",
    "- Show data\n",
    "    - Matplotlib\n",
    "    - Pick a couple features\n",
    "- Regression\n",
    "    - Derive gradient\n",
    "    - Gradient descent"
   ]
  },
  {
   "cell_type": "markdown",
   "id": "001bcef1",
   "metadata": {},
   "source": [
    "# Set up Python & Jupyter"
   ]
  },
  {
   "cell_type": "markdown",
   "id": "9e2e631a",
   "metadata": {},
   "source": [
    "### Google Colab: \n",
    "- runs on the cloud\n",
    "- has most popular libraries\n",
    "- has good support for widgets (better for data visualization)\n",
    "- [https://colab.research.google.com](https://colab.research.google.com)\n",
    "- cell magic and shell commands for advanced control (installing other things, [etc.](https://colab.research.google.com/github/jakevdp/PythonDataScienceHandbook/blob/master/notebooks/01.05-IPython-And-Shell-Commands.ipynb#scrollTo=WclyQSP7cvmP))"
   ]
  },
  {
   "cell_type": "markdown",
   "id": "d5538c93",
   "metadata": {},
   "source": [
    "### VSCode: \n",
    "- runs on the local system (though it can run remotely)\n",
    "- better for larger projects with multiple Python modules\n",
    "- I manage the environment\n",
    "- [https://code.visualstudio.com/](https://code.visualstudio.com/)"
   ]
  },
  {
   "cell_type": "markdown",
   "id": "8e24970e",
   "metadata": {},
   "source": [
    "### Miniconda\n",
    "- Set up Python environments without messing with your system environment\n",
    "- No need for it's larger sibling, conda\n",
    "- [https://www.anaconda.com/docs/getting-started/miniconda/main](https://www.anaconda.com/docs/getting-started/miniconda/main)"
   ]
  },
  {
   "cell_type": "markdown",
   "id": "a46fdc87",
   "metadata": {},
   "source": [
    "### Set up an environment\n",
    "- Terminal\n",
    "- (ahead of time) `conda deactivate && clear`\n",
    "- `conda create -n recitation python=3.12 jupyter numpy pandas matplotlib`\n",
    "- `conda activate recitation`\n",
    "- Getting stuff for an environment into a text file: `conda env export > env.yaml`\n",
    "- Removing an environment: `conda env remove -n recitation`"
   ]
  },
  {
   "cell_type": "markdown",
   "id": "83ebbc8a",
   "metadata": {},
   "source": [
    "# Get Data"
   ]
  },
  {
   "cell_type": "markdown",
   "id": "8f87ad57",
   "metadata": {},
   "source": [
    "### UCI's Machine Learning Repository: \n",
    "- [https://archive.ics.uci.edu](https://archive.ics.uci.edu)\n",
    "- View datasets\n",
    "- Find a dataset for regression that looks fun\n",
    "    - Task: Regression\n",
    "    - Data type: Multivariate\n",
    "- Download"
   ]
  },
  {
   "cell_type": "markdown",
   "id": "a4ac47a0",
   "metadata": {},
   "source": [
    "### Put data on GitHub\n",
    "- [https://github.com](https://github.com)\n",
    "- Create repository (empty)\n",
    "- Copy repo URL\n",
    "- VS Code terminal `cd ~/Developer`\n",
    "- `git clone <repo URL>`\n",
    "- Open in VS Code\n",
    "- Into the repo, put: this notebook, the README.md, and the data folders\n",
    "    - Notebooks are optional. I recommend using Colab, but will set up both here.\n",
    "- Get data on GitHub\n",
    "    - `cd new repo`\n",
    "    - `git branch -M main`\n",
    "    - `git add .`\n",
    "    - `git commit -m \"Initial commit\"`\n",
    "    - `git push -u origin main`\n",
    "    - Publish branch\n",
    "- View data on GitHub"
   ]
  },
  {
   "cell_type": "markdown",
   "id": "26f8b2c4",
   "metadata": {},
   "source": [
    "### Data in Colab\n",
    "- In a code cell: `!wget <URL>` (from raw link)\n",
    "- Browser\n",
    "    - Open data in side panel\n",
    "- Edit cell:\n",
    "```\n",
    "%%capture\n",
    "!wget <URL>\n",
    "```\n",
    "- New cell:\n",
    "```\n",
    "from pathlib import Path\n",
    "DATA_PATH = \"imports-85.data\"\n",
    "Path(DATA_PATH).exists()\n",
    "```"
   ]
  },
  {
   "cell_type": "markdown",
   "id": "9f9e260c",
   "metadata": {},
   "source": [
    "# Load Data"
   ]
  },
  {
   "cell_type": "code",
   "execution_count": 1,
   "id": "3ad397b5",
   "metadata": {},
   "outputs": [
    {
     "data": {
      "text/plain": [
       "True"
      ]
     },
     "execution_count": 1,
     "metadata": {},
     "output_type": "execute_result"
    }
   ],
   "source": [
    "# Check existence of data\n",
    "from pathlib import Path\n",
    "DATA_PATH = \"automobile/imports-85.data\"\n",
    "Path(DATA_PATH).exists()"
   ]
  },
  {
   "cell_type": "markdown",
   "id": "b63ee563",
   "metadata": {},
   "source": [
    "### Numpy"
   ]
  },
  {
   "cell_type": "code",
   "execution_count": 2,
   "id": "ab58a2ac",
   "metadata": {},
   "outputs": [],
   "source": [
    "import numpy as np"
   ]
  },
  {
   "cell_type": "code",
   "execution_count": 4,
   "id": "19aa9292",
   "metadata": {},
   "outputs": [
    {
     "name": "stdout",
     "output_type": "stream",
     "text": [
      "could not convert string '3,?,alfa-romero,gas,std,two,convertible,rwd,front,88.60,168.80,64.10,48.80,2548,dohc,four,130,mpfi, to float64 at row 0, column 1.\n"
     ]
    }
   ],
   "source": [
    "# np.loadtxt(DATA_PATH)\n",
    "try:\n",
    "    np.loadtxt(DATA_PATH)\n",
    "except ValueError as e:\n",
    "    print(f\"{e}\")"
   ]
  },
  {
   "cell_type": "code",
   "execution_count": 5,
   "id": "2d4bc3f4",
   "metadata": {},
   "outputs": [],
   "source": [
    "data = np.genfromtxt(DATA_PATH, delimiter=',', missing_values='?')"
   ]
  },
  {
   "cell_type": "code",
   "execution_count": 6,
   "id": "ed9bae8b",
   "metadata": {},
   "outputs": [
    {
     "data": {
      "text/plain": [
       "array([[ 3.0000e+00,         nan,         nan, ...,  2.1000e+01,\n",
       "         2.7000e+01,  1.3495e+04],\n",
       "       [ 3.0000e+00,         nan,         nan, ...,  2.1000e+01,\n",
       "         2.7000e+01,  1.6500e+04],\n",
       "       [ 1.0000e+00,         nan,         nan, ...,  1.9000e+01,\n",
       "         2.6000e+01,  1.6500e+04],\n",
       "       ...,\n",
       "       [-1.0000e+00,  9.5000e+01,         nan, ...,  1.8000e+01,\n",
       "         2.3000e+01,  2.1485e+04],\n",
       "       [-1.0000e+00,  9.5000e+01,         nan, ...,  2.6000e+01,\n",
       "         2.7000e+01,  2.2470e+04],\n",
       "       [-1.0000e+00,  9.5000e+01,         nan, ...,  1.9000e+01,\n",
       "         2.5000e+01,  2.2625e+04]], shape=(205, 26))"
      ]
     },
     "execution_count": 6,
     "metadata": {},
     "output_type": "execute_result"
    }
   ],
   "source": [
    "data"
   ]
  },
  {
   "cell_type": "code",
   "execution_count": 12,
   "id": "21b1cc87",
   "metadata": {},
   "outputs": [
    {
     "data": {
      "text/plain": [
       "array([ 3.,  3.,  1.,  2.,  2.,  2.,  1.,  1.,  1.,  0.,  2.,  0.,  0.,\n",
       "        0.,  1.,  0.,  0.,  0.,  2.,  1.,  0.,  1.,  1.,  1.,  1.,  1.,\n",
       "        1.,  1., -1.,  3.,  2.,  2.,  1.,  1.,  1.,  0.,  0.,  0.,  0.,\n",
       "        0.,  0.,  0.,  1.,  0.,  1.,  0.,  2.,  0.,  0.,  0.,  1.,  1.,\n",
       "        1.,  1.,  1.,  3.,  3.,  3.,  3.,  1.,  0.,  1.,  0.,  0.,  0.,\n",
       "        0.,  0., -1., -1.,  0., -1., -1.,  3.,  0.,  1.,  1.,  2.,  2.,\n",
       "        2.,  1.,  3.,  3.,  3.,  3.,  3.,  1.,  1.,  1., -1.,  1.,  1.,\n",
       "        1.,  1.,  1.,  1.,  1.,  1.,  1.,  2.,  0.,  0.,  0.,  0.,  0.,\n",
       "        3.,  3.,  1.,  0.,  0.,  0.,  0.,  0.,  0.,  0.,  0.,  0.,  0.,\n",
       "        0.,  1.,  1.,  1.,  1.,  1., -1.,  3.,  3.,  3.,  3.,  3.,  1.,\n",
       "        0.,  2.,  3.,  2.,  3.,  2.,  3.,  2.,  2.,  2.,  2.,  0.,  0.,\n",
       "        0.,  0.,  0.,  0.,  0.,  0.,  0.,  1.,  1.,  1.,  0.,  0.,  0.,\n",
       "        0.,  0.,  0.,  0.,  0.,  0.,  0.,  1.,  1.,  1.,  1.,  2.,  2.,\n",
       "        2.,  2.,  2.,  2., -1., -1., -1., -1., -1.,  3.,  3., -1., -1.,\n",
       "        2.,  2.,  2.,  2.,  2.,  2.,  2.,  3.,  3.,  0.,  0.,  0., -2.,\n",
       "       -1., -2., -1., -2., -1., -1., -1., -1., -1., -1.])"
      ]
     },
     "execution_count": 12,
     "metadata": {},
     "output_type": "execute_result"
    }
   ],
   "source": [
    "data[:, 0]"
   ]
  },
  {
   "cell_type": "markdown",
   "id": "4b76e296",
   "metadata": {},
   "source": [
    "### Pandas"
   ]
  },
  {
   "cell_type": "code",
   "execution_count": 7,
   "id": "7e7d8825",
   "metadata": {},
   "outputs": [],
   "source": [
    "import pandas as pd"
   ]
  },
  {
   "cell_type": "code",
   "execution_count": 9,
   "id": "30c4bbf7",
   "metadata": {},
   "outputs": [],
   "source": [
    "df = pd.read_csv(DATA_PATH, header=None, na_values='?')"
   ]
  },
  {
   "cell_type": "code",
   "execution_count": 17,
   "id": "e50e5c08",
   "metadata": {},
   "outputs": [
    {
     "data": {
      "text/html": [
       "<div>\n",
       "<style scoped>\n",
       "    .dataframe tbody tr th:only-of-type {\n",
       "        vertical-align: middle;\n",
       "    }\n",
       "\n",
       "    .dataframe tbody tr th {\n",
       "        vertical-align: top;\n",
       "    }\n",
       "\n",
       "    .dataframe thead th {\n",
       "        text-align: right;\n",
       "    }\n",
       "</style>\n",
       "<table border=\"1\" class=\"dataframe\">\n",
       "  <thead>\n",
       "    <tr style=\"text-align: right;\">\n",
       "      <th></th>\n",
       "      <th>wt</th>\n",
       "      <th>city-mpg</th>\n",
       "      <th>hwy-mpg</th>\n",
       "      <th>price</th>\n",
       "    </tr>\n",
       "  </thead>\n",
       "  <tbody>\n",
       "    <tr>\n",
       "      <th>0</th>\n",
       "      <td>130</td>\n",
       "      <td>21</td>\n",
       "      <td>27</td>\n",
       "      <td>13495.0</td>\n",
       "    </tr>\n",
       "    <tr>\n",
       "      <th>1</th>\n",
       "      <td>130</td>\n",
       "      <td>21</td>\n",
       "      <td>27</td>\n",
       "      <td>16500.0</td>\n",
       "    </tr>\n",
       "    <tr>\n",
       "      <th>2</th>\n",
       "      <td>152</td>\n",
       "      <td>19</td>\n",
       "      <td>26</td>\n",
       "      <td>16500.0</td>\n",
       "    </tr>\n",
       "    <tr>\n",
       "      <th>3</th>\n",
       "      <td>109</td>\n",
       "      <td>24</td>\n",
       "      <td>30</td>\n",
       "      <td>13950.0</td>\n",
       "    </tr>\n",
       "    <tr>\n",
       "      <th>4</th>\n",
       "      <td>136</td>\n",
       "      <td>18</td>\n",
       "      <td>22</td>\n",
       "      <td>17450.0</td>\n",
       "    </tr>\n",
       "    <tr>\n",
       "      <th>...</th>\n",
       "      <td>...</td>\n",
       "      <td>...</td>\n",
       "      <td>...</td>\n",
       "      <td>...</td>\n",
       "    </tr>\n",
       "    <tr>\n",
       "      <th>200</th>\n",
       "      <td>141</td>\n",
       "      <td>23</td>\n",
       "      <td>28</td>\n",
       "      <td>16845.0</td>\n",
       "    </tr>\n",
       "    <tr>\n",
       "      <th>201</th>\n",
       "      <td>141</td>\n",
       "      <td>19</td>\n",
       "      <td>25</td>\n",
       "      <td>19045.0</td>\n",
       "    </tr>\n",
       "    <tr>\n",
       "      <th>202</th>\n",
       "      <td>173</td>\n",
       "      <td>18</td>\n",
       "      <td>23</td>\n",
       "      <td>21485.0</td>\n",
       "    </tr>\n",
       "    <tr>\n",
       "      <th>203</th>\n",
       "      <td>145</td>\n",
       "      <td>26</td>\n",
       "      <td>27</td>\n",
       "      <td>22470.0</td>\n",
       "    </tr>\n",
       "    <tr>\n",
       "      <th>204</th>\n",
       "      <td>141</td>\n",
       "      <td>19</td>\n",
       "      <td>25</td>\n",
       "      <td>22625.0</td>\n",
       "    </tr>\n",
       "  </tbody>\n",
       "</table>\n",
       "<p>205 rows × 4 columns</p>\n",
       "</div>"
      ],
      "text/plain": [
       "      wt  city-mpg  hwy-mpg    price\n",
       "0    130        21       27  13495.0\n",
       "1    130        21       27  16500.0\n",
       "2    152        19       26  16500.0\n",
       "3    109        24       30  13950.0\n",
       "4    136        18       22  17450.0\n",
       "..   ...       ...      ...      ...\n",
       "200  141        23       28  16845.0\n",
       "201  141        19       25  19045.0\n",
       "202  173        18       23  21485.0\n",
       "203  145        26       27  22470.0\n",
       "204  141        19       25  22625.0\n",
       "\n",
       "[205 rows x 4 columns]"
      ]
     },
     "execution_count": 17,
     "metadata": {},
     "output_type": "execute_result"
    }
   ],
   "source": [
    "data = df.iloc[:, [16, 23, 24, 25]]\n",
    "data.columns = [\"wt\", \"city-mpg\", \"hwy-mpg\", \"price\"]\n",
    "data"
   ]
  },
  {
   "cell_type": "markdown",
   "id": "fff7f6fd",
   "metadata": {},
   "source": [
    "Let's see how these relate:\n",
    "- Engine size (16) \n",
    "- City mpg (23)\n",
    "- Highway mpg (24)\n",
    "- Price (25)"
   ]
  },
  {
   "cell_type": "markdown",
   "id": "3dd38dec",
   "metadata": {},
   "source": [
    "# Viewing data"
   ]
  },
  {
   "cell_type": "code",
   "execution_count": 14,
   "id": "6837edcc",
   "metadata": {},
   "outputs": [],
   "source": [
    "import matplotlib.pyplot as plt"
   ]
  },
  {
   "cell_type": "markdown",
   "id": "7c671652",
   "metadata": {},
   "source": [
    "Pick a pair of features"
   ]
  },
  {
   "cell_type": "code",
   "execution_count": null,
   "id": "d406823c",
   "metadata": {},
   "outputs": [
    {
     "data": {
      "text/plain": [
       "Text(0.5, 0, 'City MPG')"
      ]
     },
     "execution_count": 22,
     "metadata": {},
     "output_type": "execute_result"
    },
    {
     "data": {
      "image/png": "[encoded data removed]",
      "text/plain": [
       "<Figure size 640x480 with 1 Axes>"
      ]
     },
     "metadata": {},
     "output_type": "display_data"
    }
   ],
   "source": [
    "x_label = \"city-mpg\"\n",
    "y_label = \"hwy-mpg\"\n",
    "plt.scatter(data[x_label], data[y_label])  # Values here\n",
    "plt.ylabel(\"Highway MPG\")\n",
    "plt.xlabel(\"City MPG\")"
   ]
  },
  {
   "cell_type": "markdown",
   "id": "5952ba16",
   "metadata": {},
   "source": [
    "# Regression"
   ]
  },
  {
   "cell_type": "markdown",
   "id": "08642252",
   "metadata": {},
   "source": [
    "Dr. Ruozzi discussed linear regression in lecture. "
   ]
  },
  {
   "cell_type": "markdown",
   "id": "a633c3a9",
   "metadata": {},
   "source": [
    "What's the goal of supervised learning? (Slide 10)"
   ]
  },
  {
   "cell_type": "markdown",
   "id": "d09f02f7",
   "metadata": {},
   "source": [
    "What hypothesis space do we use for linear regression? (Slide 13)"
   ]
  },
  {
   "cell_type": "markdown",
   "id": "ebe8534a",
   "metadata": {},
   "source": [
    "What's a loss function? Which loss function is suggested? (Slide 16)"
   ]
  },
  {
   "cell_type": "markdown",
   "id": "f80356f7",
   "metadata": {},
   "source": [
    "How do we use a loss function? (Slide 16)"
   ]
  },
  {
   "cell_type": "markdown",
   "id": "62f11a82",
   "metadata": {},
   "source": [
    "What's an alternative to an exact solution? (Slide 21)"
   ]
  },
  {
   "cell_type": "markdown",
   "id": "3cd265d3",
   "metadata": {},
   "source": [
    "Dr. Ruozzi discussed linear regression in lecture. The hypothesis space for linear regression is $$f(x) = ax + b$$\n",
    "\n",
    "We're going to predict some $\\hat{y} = f(x)$ and we want $\\hat{y}$ to be as close to $y$ for each data point as we can make it. To do this, we'll use a simple loss function: \n",
    "$$L(f) = \\frac{1}{M} \\sum_m(\\hat{y}^{(m)} - y^{(m)})^2$$\n",
    "\n",
    "If we let $\\hat{y} = f(x)$, our loss function is now $$L(f) = \\frac{1}{M}\\sum_m(ax^{(m)} + b - y^{(m)})^2$$\n",
    "\n",
    "We want the best model, with the best values for $a$ and $b$. This happens when we minimize the loss function $$\\min_{a,b}\\frac{1}{M}\\sum_m (ax^{(m)} + b - y^{(m)})^2$$\n",
    "\n",
    "Instead of finding the exact solution, we can work our way there using gradient descent. We define $\\theta=(a,b)$ and iterate until convergence: $$\\theta_{t+1} = \\theta_t - \\gamma_t \\nabla J(\\theta_t)$$\n"
   ]
  },
  {
   "cell_type": "markdown",
   "id": "c6054e56",
   "metadata": {},
   "source": [
    "## From Theory to Practicality"
   ]
  },
  {
   "cell_type": "markdown",
   "id": "04258a21",
   "metadata": {},
   "source": [
    "How do we use that alternative?"
   ]
  },
  {
   "cell_type": "markdown",
   "id": "c16a5071",
   "metadata": {},
   "source": [
    "Implement it!"
   ]
  },
  {
   "cell_type": "code",
   "execution_count": 23,
   "id": "07de6d37",
   "metadata": {},
   "outputs": [
    {
     "data": {
      "text/plain": [
       "(205, 4)"
      ]
     },
     "execution_count": 23,
     "metadata": {},
     "output_type": "execute_result"
    }
   ],
   "source": [
    "data.shape"
   ]
  },
  {
   "cell_type": "code",
   "execution_count": 27,
   "id": "0269245b",
   "metadata": {},
   "outputs": [
    {
     "data": {
      "text/plain": [
       "array([-2, -1,  0,  1,  2])"
      ]
     },
     "execution_count": 27,
     "metadata": {},
     "output_type": "execute_result"
    }
   ],
   "source": [
    "np.arange(5) - 2"
   ]
  },
  {
   "cell_type": "code",
   "execution_count": 35,
   "id": "bba1aeaa",
   "metadata": {},
   "outputs": [
    {
     "data": {
      "text/plain": [
       "array([-126, -126, -133, -144,  -72, -114, -114, -114,  -51,  -96, -138,\n",
       "       -138, -147, -147, -100,  -96,  -96,  -75, -282, -190, -190, -148,\n",
       "       -217, -144, -217, -217, -217, -144, -144,  -95, -245, -217, -152,\n",
       "       -120, -120, -120, -120, -162, -162, -162, -162,  -96, -150, -120,\n",
       "       -190, -190, -120,  -60,  -60,  -52,  -30, -217, -217, -217, -217,\n",
       "       -102, -102, -102, -112, -156, -156, -156, -156, -216, -156, -152,\n",
       "       -248,  -66,  -66,  -66,  -66,  -32,  -32,  -28,  -28,  -95, -148,\n",
       "       -217, -217, -144, -161, -175,  -95,  -95,  -95, -175, -175, -161,\n",
       "       -161, -186, -225, -186, -186, -186, -186, -186, -186, -186, -186,\n",
       "       -189, -189,  -85,  -85, -114, -114, -102, -114,  -95, -140,  -95,\n",
       "          0,  -95, -140,  -95,    0,  -95, -140, -108, -148, -144, -217,\n",
       "       -217, -217, -144,  -95, -152, -136, -136, -136, -187, -184, -184,\n",
       "       -147, -147, -147, -147, -133, -133, -155, -130, -130, -160, -140,\n",
       "       -156,  -24, -120, -112, -150, -138,    0, -140, -217, -217, -186,\n",
       "       -135, -135, -210, -210,  -68, -342, -342, -168, -168, -145, -145,\n",
       "        -78,  -78, -144, -144, -144, -144, -144, -144, -145,  -90, -135,\n",
       "       -135, -135,  -80,  -95,  -80,  -95, -333, -189, -333, -189, -189,\n",
       "       -185, -156, -120, -120,  -95, -165, -150, -115, -115,  -96,  -96,\n",
       "        -85,  -85, -115, -114,  -90,  -26, -114])"
      ]
     },
     "execution_count": 35,
     "metadata": {},
     "output_type": "execute_result"
    }
   ],
   "source": [
    "# Operation with vectors\n",
    "x = data[x_label]\n",
    "y = data[y_label]\n",
    "a = 1\n",
    "b = 0\n",
    "\n",
    "M = data.shape[0]\n",
    "\n",
    "# IMPLEMENTATION OF PARTIAL w.r.t $a$ HERE\n",
    "(x * (a * x + b - y)).to_numpy()"
   ]
  },
  {
   "cell_type": "code",
   "execution_count": 29,
   "id": "7fb9f8cc",
   "metadata": {},
   "outputs": [
    {
     "data": {
      "text/plain": [
       "(np.int64(21), np.int64(27))"
      ]
     },
     "execution_count": 29,
     "metadata": {},
     "output_type": "execute_result"
    }
   ],
   "source": [
    "# Check that this is a reasonable first value\n",
    "x[0], y[0]"
   ]
  },
  {
   "cell_type": "markdown",
   "id": "6b3c9f7d",
   "metadata": {},
   "source": [
    "$$\\theta_{t+1} = \\theta_t - \\gamma_t\\nabla J(\\theta_t)$$"
   ]
  },
  {
   "cell_type": "code",
   "execution_count": 36,
   "id": "565004f5",
   "metadata": {},
   "outputs": [],
   "source": [
    "# Define functions of (a, b, x, y)\n",
    "M = data.shape[0]\n",
    "\n",
    "def grad_a(a, b, x, y):\n",
    "    return 2 / M * np.sum(x * (a * x + b - y))\n",
    "\n",
    "def grad_b(a, b, x, y):\n",
    "    return 2 / M * np.sum(a * x + b - y)\n"
   ]
  },
  {
   "cell_type": "code",
   "execution_count": 49,
   "id": "e9c7e032",
   "metadata": {},
   "outputs": [],
   "source": [
    "# Define hyperparameters (l.r., init)\n",
    "GAMMA = 2e-4\n",
    "Theta_0 = (2, 2)"
   ]
  },
  {
   "cell_type": "code",
   "execution_count": 54,
   "id": "2ce27062",
   "metadata": {},
   "outputs": [],
   "source": [
    "# Implement training loop\n",
    "theta_s =[Theta_0]\n",
    "for _ in range(2000):\n",
    "    a, b = theta_s[-1]\n",
    "    a_new = a - GAMMA * grad_a(a,b,x,y)\n",
    "    b_new = b - GAMMA * grad_b(a,b,x,y)\n",
    "    theta_s.append((a_new, b_new))"
   ]
  },
  {
   "cell_type": "code",
   "execution_count": 45,
   "id": "d1a1c28a",
   "metadata": {},
   "outputs": [
    {
     "data": {
      "text/plain": [
       "[(2, 2),\n",
       " (np.float64(1.9764563902439025), np.float64(1.999132487804878)),\n",
       " (np.float64(1.9535527371420252), np.float64(1.9982887606443782)),\n",
       " (np.float64(1.931271645342458), np.float64(1.9974681719913137)),\n",
       " (np.float64(1.9095961923351106), np.float64(1.9966700928924495)),\n",
       " (np.float64(1.8885099155988871), np.float64(1.9958939114908074)),\n",
       " (np.float64(1.867996800098231), np.float64(1.9951390325609535)),\n",
       " (np.float64(1.8480412661195371), np.float64(1.9944048770569178)),\n",
       " (np.float64(1.8286281574381966), np.float64(1.9936908816724037)),\n",
       " (np.float64(1.8097427298072857), np.float64(1.9929964984129505)),\n",
       " (np.float64(1.7913706397591558), np.float64(1.9923211941797254)),\n",
       " (np.float64(1.7734979337114205), np.float64(1.9916644503646304)),\n",
       " (np.float64(1.7561110373690627), np.float64(1.9910257624564132)),\n",
       " (np.float64(1.739196745414617), np.float64(1.990404639657486)),\n",
       " (np.float64(1.722742211478592), np.float64(1.9898006045111594)),\n",
       " (np.float64(1.706734938382518), np.float64(1.9892131925390093)),\n",
       " (np.float64(1.691162768647211), np.float64(1.9886419518881004)),\n",
       " (np.float64(1.6760138752590379), np.float64(1.9880864429877994)),\n",
       " (np.float64(1.6612767526871777), np.float64(1.9875462382159161)),\n",
       " (np.float64(1.6469402081450497), np.float64(1.9870209215739207)),\n",
       " (np.float64(1.6329933530892753), np.float64(1.9865100883709876))]"
      ]
     },
     "execution_count": 45,
     "metadata": {},
     "output_type": "execute_result"
    }
   ],
   "source": [
    "theta_s"
   ]
  },
  {
   "cell_type": "code",
   "execution_count": 52,
   "id": "6b84225a",
   "metadata": {},
   "outputs": [],
   "source": [
    "# Get final model\n",
    "a_final, b_final = theta_s[-1]\n",
    "\n",
    "# Apply model to even intervals of x\n",
    "pred_x = np.linspace(x.min(), x.max(), 10)\n",
    "pred_y = a_final * pred_x + b_final"
   ]
  },
  {
   "cell_type": "code",
   "execution_count": 53,
   "id": "b24e34ce",
   "metadata": {},
   "outputs": [
    {
     "data": {
      "text/plain": [
       "Text(0.5, 0, 'City MPG')"
      ]
     },
     "execution_count": 53,
     "metadata": {},
     "output_type": "execute_result"
    },
    {
     "data": {
      "image/png": "[encoded data removed]",
      "text/plain": [
       "<Figure size 640x480 with 1 Axes>"
      ]
     },
     "metadata": {},
     "output_type": "display_data"
    }
   ],
   "source": [
    "# Show result\n",
    "plt.scatter(data[x_label], data[y_label])  # Values here\n",
    "plt.plot(pred_x, pred_y)\n",
    "plt.ylabel(\"Highway MPG\")\n",
    "plt.xlabel(\"City MPG\")"
   ]
  },
  {
   "cell_type": "code",
   "execution_count": 55,
   "id": "b7319b17",
   "metadata": {},
   "outputs": [
    {
     "data": {
      "text/plain": [
       "Text(0.5, 0, 'City MPG')"
      ]
     },
     "execution_count": 55,
     "metadata": {},
     "output_type": "execute_result"
    },
    {
     "data": {
      "image/png": "[encoded data removed]",
      "text/plain": [
       "<Figure size 640x480 with 1 Axes>"
      ]
     },
     "metadata": {},
     "output_type": "display_data"
    }
   ],
   "source": [
    "# Show result\n",
    "plt.scatter(data[x_label], data[y_label])  # Values here\n",
    "plt.plot(pred_x, pred_y)\n",
    "plt.ylabel(\"Highway MPG\")\n",
    "plt.xlabel(\"City MPG\")"
   ]
  }
 ],
 "metadata": {
  "kernelspec": {
   "display_name": "recitation",
   "language": "python",
   "name": "python3"
  },
  "language_info": {
   "codemirror_mode": {
    "name": "ipython",
    "version": 3
   },
   "file_extension": ".py",
   "mimetype": "text/x-python",
   "name": "python",
   "nbconvert_exporter": "python",
   "pygments_lexer": "ipython3",
   "version": "3.12.11"
  }
 },
 "nbformat": 4,
 "nbformat_minor": 5
}
