{
 "cells": [
  {
   "cell_type": "markdown",
   "id": "17215173",
   "metadata": {},
   "source": [
    "Goals:\n",
    "- Set up Python and Jupyter\n",
    "    - Show Colab\n",
    "    - Show VS Code\n",
    "    - Show miniconda\n",
    "    - Set up conda environment\n",
    "- Get data\n",
    "    - UCI, pick regression task\n",
    "    - Put data on GitHub\n",
    "    - Show how to access data in Colab\n",
    "- Load data\n",
    "    - Load with numpy\n",
    "    - Load with pandas\n",
    "- Show data\n",
    "    - Matplotlib\n",
    "    - Pick a couple features\n",
    "- Regression\n",
    "    - Derive gradient\n",
    "    - Gradient descent"
   ]
  },
  {
   "cell_type": "markdown",
   "id": "001bcef1",
   "metadata": {},
   "source": [
    "# Set up Python & Jupyter"
   ]
  },
  {
   "cell_type": "markdown",
   "id": "9e2e631a",
   "metadata": {},
   "source": [
    "### Google Colab: \n",
    "- runs on the cloud\n",
    "- has most popular libraries\n",
    "- has good support for widgets (better for data visualization)\n",
    "- [https://colab.research.google.com](https://colab.research.google.com)\n",
    "- cell magic and shell commands for advanced control (installing other things, [etc.](https://colab.research.google.com/github/jakevdp/PythonDataScienceHandbook/blob/master/notebooks/01.05-IPython-And-Shell-Commands.ipynb#scrollTo=WclyQSP7cvmP))"
   ]
  },
  {
   "cell_type": "markdown",
   "id": "d5538c93",
   "metadata": {},
   "source": [
    "### VSCode: \n",
    "- runs on the local system (though it can run remotely)\n",
    "- better for larger projects with multiple Python modules\n",
    "- I manage the environment\n",
    "- [https://code.visualstudio.com/](https://code.visualstudio.com/)"
   ]
  },
  {
   "cell_type": "markdown",
   "id": "8e24970e",
   "metadata": {},
   "source": [
    "### Miniconda\n",
    "- Set up Python environments without messing with your system environment\n",
    "- No need for it's larger sibling, conda\n",
    "- [https://www.anaconda.com/docs/getting-started/miniconda/main](https://www.anaconda.com/docs/getting-started/miniconda/main)"
   ]
  },
  {
   "cell_type": "markdown",
   "id": "a46fdc87",
   "metadata": {},
   "source": [
    "### Set up an environment\n",
    "- Terminal\n",
    "- (ahead of time) `conda deactivate && clear`\n",
    "- `conda create -n recitation python=3.12 jupyter numpy pandas matplotlib`\n",
    "- `conda activate recitation`\n",
    "- Getting stuff for an environment into a text file: `conda env export > env.yaml`\n",
    "- Removing an environment: `conda env remove -n recitation`"
   ]
  },
  {
   "cell_type": "markdown",
   "id": "83ebbc8a",
   "metadata": {},
   "source": [
    "# Get Data"
   ]
  },
  {
   "cell_type": "markdown",
   "id": "8f87ad57",
   "metadata": {},
   "source": [
    "### UCI's Machine Learning Repository: \n",
    "- [https://archive.ics.uci.edu](https://archive.ics.uci.edu)\n",
    "- View datasets\n",
    "- Find a dataset for regression that looks fun\n",
    "    - Task: Regression\n",
    "    - Data type: Multivariate\n",
    "- Download"
   ]
  },
  {
   "cell_type": "markdown",
   "id": "a4ac47a0",
   "metadata": {},
   "source": [
    "### Put data on GitHub\n",
    "- [https://github.com](https://github.com)\n",
    "- Create repository (empty)\n",
    "- Copy repo URL\n",
    "- VS Code terminal `cd ~/Developer`\n",
    "- `git clone <repo URL>`\n",
    "- Open in VS Code\n",
    "- Into the repo, put: this notebook, the README.md, and the data folders\n",
    "    - Notebooks are optional. I recommend using Colab, but will set up both here.\n",
    "- Get data on GitHub\n",
    "    - `cd new repo`\n",
    "    - `git branch -M main`\n",
    "    - `git add .`\n",
    "    - `git commit -m \"Initial commit\"`\n",
    "    - `git push -u origin main`\n",
    "    - Publish branch\n",
    "- View data on GitHub"
   ]
  },
  {
   "cell_type": "markdown",
   "id": "26f8b2c4",
   "metadata": {},
   "source": [
    "### Data in Colab\n",
    "- In a code cell: `!wget <URL>` (from raw link)\n",
    "- Browser\n",
    "    - Open data in side panel\n",
    "- Edit cell:\n",
    "```\n",
    "%%capture\n",
    "!wget <URL>\n",
    "```\n",
    "- New cell:\n",
    "```\n",
    "from pathlib import Path\n",
    "DATA_PATH = \"imports-85.data\"\n",
    "Path(DATA_PATH).exists()\n",
    "```"
   ]
  },
  {
   "cell_type": "markdown",
   "id": "9f9e260c",
   "metadata": {},
   "source": [
    "# Load Data"
   ]
  },
  {
   "cell_type": "code",
   "execution_count": null,
   "id": "3ad397b5",
   "metadata": {},
   "outputs": [],
   "source": [
    "# Check existence of data\n",
    "from pathlib import Path\n",
    "DATA_PATH = \"imports-85.data\"\n",
    "Path(DATA_PATH).exists()"
   ]
  },
  {
   "cell_type": "markdown",
   "id": "b63ee563",
   "metadata": {},
   "source": [
    "### Numpy"
   ]
  },
  {
   "cell_type": "code",
   "execution_count": null,
   "id": "ab58a2ac",
   "metadata": {},
   "outputs": [],
   "source": [
    "import numpy as np"
   ]
  },
  {
   "cell_type": "code",
   "execution_count": null,
   "id": "19aa9292",
   "metadata": {},
   "outputs": [],
   "source": [
    "np.loadtxt(DATA_PATH)"
   ]
  },
  {
   "cell_type": "markdown",
   "id": "4b76e296",
   "metadata": {},
   "source": [
    "### Pandas"
   ]
  },
  {
   "cell_type": "markdown",
   "id": "fff7f6fd",
   "metadata": {},
   "source": [
    "Let's see how these relate:\n",
    "- Engine size (16) \n",
    "- City mpg (23)\n",
    "- Highway mpg (24)\n",
    "- Price (25)"
   ]
  },
  {
   "cell_type": "code",
   "execution_count": null,
   "id": "a8b9bb7c",
   "metadata": {},
   "outputs": [],
   "source": [
    "data = df.iloc[:, []]  # Values here\n",
    "data.columns = [\"wt\", \"city-mpg\", \"hwy-mpg\", \"price\"]\n",
    "data"
   ]
  },
  {
   "cell_type": "markdown",
   "id": "3dd38dec",
   "metadata": {},
   "source": [
    "# Viewing data"
   ]
  },
  {
   "cell_type": "code",
   "execution_count": null,
   "id": "6837edcc",
   "metadata": {},
   "outputs": [],
   "source": [
    "import matplotlib.pyplot as plt"
   ]
  },
  {
   "cell_type": "markdown",
   "id": "7c671652",
   "metadata": {},
   "source": [
    "Pick a pair of features"
   ]
  },
  {
   "cell_type": "code",
   "execution_count": null,
   "id": "d406823c",
   "metadata": {},
   "outputs": [],
   "source": [
    "x = \"wt\"\n",
    "y = \"price\"\n",
    "plt.scatter()  # Values here"
   ]
  },
  {
   "cell_type": "markdown",
   "id": "5952ba16",
   "metadata": {},
   "source": [
    "# Regression"
   ]
  },
  {
   "cell_type": "markdown",
   "id": "08642252",
   "metadata": {},
   "source": [
    "Dr. Ruozzi discussed linear regression in lecture. "
   ]
  },
  {
   "cell_type": "markdown",
   "id": "a633c3a9",
   "metadata": {},
   "source": [
    "What's the goal of supervised learning? (Slide 10)"
   ]
  },
  {
   "cell_type": "markdown",
   "id": "d09f02f7",
   "metadata": {},
   "source": [
    "What hypothesis space do we use for linear regression? (Slide 13)"
   ]
  },
  {
   "cell_type": "markdown",
   "id": "ebe8534a",
   "metadata": {},
   "source": [
    "What's a loss function? Which loss function is suggested? (Slide 16)"
   ]
  },
  {
   "cell_type": "markdown",
   "id": "f80356f7",
   "metadata": {},
   "source": [
    "How do we use a loss function? (Slide 16)"
   ]
  },
  {
   "cell_type": "markdown",
   "id": "62f11a82",
   "metadata": {},
   "source": [
    "What's an alternative to an exact solution? (Slide 21)"
   ]
  },
  {
   "cell_type": "markdown",
   "id": "c6054e56",
   "metadata": {},
   "source": [
    "## From Theory to Practicality"
   ]
  },
  {
   "cell_type": "markdown",
   "id": "04258a21",
   "metadata": {},
   "source": [
    "How do we use that alternative?"
   ]
  },
  {
   "cell_type": "markdown",
   "id": "c16a5071",
   "metadata": {},
   "source": [
    "Implement it!"
   ]
  },
  {
   "cell_type": "code",
   "execution_count": null,
   "id": "bba1aeaa",
   "metadata": {},
   "outputs": [],
   "source": [
    "# Operation with vectors\n",
    "x = data[x_label]\n",
    "y = data[y_label]\n",
    "a = 1\n",
    "b = 0\n",
    "\n",
    "# IMPLEMENTATION OF PARTIAL w.r.t $a$ HERE"
   ]
  },
  {
   "cell_type": "code",
   "execution_count": null,
   "id": "7fb9f8cc",
   "metadata": {},
   "outputs": [],
   "source": [
    "# Check that this is a reasonable first value\n",
    "x[0], y[0]"
   ]
  },
  {
   "cell_type": "code",
   "execution_count": null,
   "id": "fafa664e",
   "metadata": {},
   "outputs": [],
   "source": [
    "# Plug those values in\n"
   ]
  },
  {
   "cell_type": "markdown",
   "id": "6b3c9f7d",
   "metadata": {},
   "source": [
    "$$\\theta_{t+1} = \\theta_t - \\gamma_t\\nabla J(\\theta_t)$$"
   ]
  },
  {
   "cell_type": "code",
   "execution_count": null,
   "id": "565004f5",
   "metadata": {},
   "outputs": [],
   "source": [
    "# Define functions of (a, b, x, y)"
   ]
  },
  {
   "cell_type": "code",
   "execution_count": null,
   "id": "e9c7e032",
   "metadata": {},
   "outputs": [],
   "source": [
    "# Define hyperparameters (l.r., init)"
   ]
  },
  {
   "cell_type": "code",
   "execution_count": null,
   "id": "2ce27062",
   "metadata": {},
   "outputs": [],
   "source": [
    "# Implement training loop"
   ]
  },
  {
   "cell_type": "code",
   "execution_count": null,
   "id": "6b84225a",
   "metadata": {},
   "outputs": [],
   "source": [
    "# Get final model\n",
    "_, _ = _\n",
    "\n",
    "# Apply model to even intervals of x\n",
    "pred_x = np.linspace(x.min(), x.max(), 10)\n",
    "pred_y = None"
   ]
  },
  {
   "cell_type": "code",
   "execution_count": null,
   "id": "b24e34ce",
   "metadata": {},
   "outputs": [],
   "source": [
    "# Show result"
   ]
  }
 ],
 "metadata": {
  "kernelspec": {
   "display_name": "recitation",
   "language": "python",
   "name": "python3"
  },
  "language_info": {
   "name": "python",
   "version": "3.12.11"
  }
 },
 "nbformat": 4,
 "nbformat_minor": 5
}
